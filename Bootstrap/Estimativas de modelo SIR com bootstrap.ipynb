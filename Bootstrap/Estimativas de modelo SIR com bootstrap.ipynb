{
 "cells": [
  {
   "cell_type": "code",
   "execution_count": 1,
   "metadata": {},
   "outputs": [],
   "source": [
    "import scipy.integrate as spi\n",
    "import numpy as np\n",
    "import pylab as pl\n",
    "import numpy as np\n",
    "#import matplotlib.pyplot as plt\n",
    "from scipy.integrate import odeint\n",
    "from scipy import integrate\n",
    "from pylab import *\n",
    "from scipy.optimize import curve_fit\n",
    "import numpy as np\n",
    "from scipy import optimize\n",
    "import pandas as pd"
   ]
  },
  {
   "cell_type": "code",
   "execution_count": 2,
   "metadata": {},
   "outputs": [],
   "source": [
    "df = pd.read_csv('../data/estados.csv')"
   ]
  },
  {
   "cell_type": "code",
   "execution_count": 3,
   "metadata": {
    "scrolled": true
   },
   "outputs": [
    {
     "data": {
      "text/plain": [
       "array(['TOTAL', 'SP', 'RJ', 'ES', 'BA', 'DF', 'AL', 'MG', 'RS', 'PE',\n",
       "       'PR', 'SC', 'GO', 'RN', 'AM', 'MS', 'SE', 'CE', 'AC', 'TO', 'PA',\n",
       "       'PB', 'PI', 'RO', 'MA', 'MT'], dtype=object)"
      ]
     },
     "execution_count": 3,
     "metadata": {},
     "output_type": "execute_result"
    }
   ],
   "source": [
    "df.state.unique()"
   ]
  },
  {
   "cell_type": "code",
   "execution_count": null,
   "metadata": {},
   "outputs": [],
   "source": [
    "dfUF = []\n",
    "for value in df.state.unique():\n",
    "    data =df[df['state']==value]['totalCases']\n",
    "    data = np.array(data)\n",
    "    dfUF.append(data)"
   ]
  },
  {
   "cell_type": "code",
   "execution_count": null,
   "metadata": {},
   "outputs": [],
   "source": [
    "popUF = [45919049, 210147125,17264943,4018650, 14873064,3015268,3337357,21168791,11377239,9557071,11433957,7164788,7018354,\n",
    "        3506853,4144597,2778986,2298696,9132078]"
   ]
  },
  {
   "cell_type": "code",
   "execution_count": null,
   "metadata": {},
   "outputs": [],
   "source": [
    "dfUF_norm = []\n",
    "for i in range(0,len(dfUF)):\n",
    "    data = dfUF[0]/popUF[0]\n",
    "    dfUF_norm.append(data)"
   ]
  },
  {
   "cell_type": "markdown",
   "metadata": {},
   "source": [
    "# SIR"
   ]
  },
  {
   "cell_type": "code",
   "execution_count": null,
   "metadata": {
    "scrolled": true
   },
   "outputs": [],
   "source": [
    "# Initial conditions\n",
    "I0 = 1/popUF[0]\n",
    "S0= 1 -I0\n",
    "\n",
    "UF = df.state.unique()[0]\n",
    "\n",
    "print('condições iniciais para ' + df.state.unique()[0])\n",
    "\n",
    "Time = range(0,len(dfUF_norm[0]))\n",
    "DayFinal = len(dfUF_norm[0])\n",
    "\n",
    "data = dfUF_norm[0]"
   ]
  },
  {
   "cell_type": "code",
   "execution_count": null,
   "metadata": {},
   "outputs": [],
   "source": [
    "gamma = 1/14"
   ]
  },
  {
   "cell_type": "code",
   "execution_count": null,
   "metadata": {},
   "outputs": [],
   "source": [
    "#for n in Time:\n",
    "#    print(n)\n",
    "data"
   ]
  },
  {
   "cell_type": "code",
   "execution_count": null,
   "metadata": {},
   "outputs": [],
   "source": [
    "#=EXAMPLE+DEFINING THE Solution of DF-EQ, TRIAL run NEEDS BETA and so on======================================================\n",
    "def eq(par,initial_cond,start_t,end_t,incr):\n",
    "    #-time-grid-----------------------------------\n",
    "    t  = np.linspace(start_t, end_t, num=incr, endpoint=True)\n",
    "    def funct(y,t):\n",
    "        S=y[0]\n",
    "        I=y[1]\n",
    "        R=y[2]\n",
    "        beta, gamma = par\n",
    "        f0 = - beta * S * I        \n",
    "        f1 = beta * S * I - gamma * I\n",
    "        f2 = gamma * I\n",
    "        return [f0, f1, f2]\n",
    "     #integrate------------------------------------\n",
    "    ds = integrate.odeint(funct,initial_cond,t)\n",
    "    return (ds[:,0],ds[:,1],ds[:,2],t)\n",
    "#======================================================="
   ]
  },
  {
   "cell_type": "code",
   "execution_count": null,
   "metadata": {},
   "outputs": [],
   "source": [
    "ND=100.0\n",
    "beta = 0.30\n",
    "Param=(beta,gamma)\n",
    "#S0=1-1e-6          # Initial condition need to be defined \n",
    "#I0=1e-6\n",
    "INPUT = [S0, I0, 0.0] # R(0) = 0\n",
    "         # initial condition vector\n",
    "\n",
    "Sf, If, Rf, Days = eq(Param,INPUT,1,ND,800)  #1time, steps\n",
    "\n",
    "pl.plot(Days,If)\n",
    "pl.plot(Days,Sf)\n",
    "pl.plot(Days,Rf)\n",
    "pl.plot(data, 'ob')\n",
    "pl.show()"
   ]
  },
  {
   "cell_type": "code",
   "execution_count": null,
   "metadata": {},
   "outputs": [],
   "source": [
    "#Fitting of FULL MODEL\n",
    "def fitFunc(x,beta):\n",
    "    Param = (beta, gamma)\n",
    "    INPUT = [S0, I0, 0.0]\n",
    "    return eq(Param,INPUT,1,DayFinal,DayFinal)[1][x]\n",
    "\n",
    "p0 = (beta)\n",
    "popt, pcov = curve_fit(fitFunc, Time, data, p0)\n",
    "popt, pcov"
   ]
  },
  {
   "cell_type": "code",
   "execution_count": null,
   "metadata": {},
   "outputs": [],
   "source": [
    "#BOOTSTRAP FITTING!\n",
    "def fit_bootstrap(p0, datax, datay, function, yerr_systematic=0.0):\n",
    "\n",
    "    errfunc = lambda p, x, y: function(x,p) - y\n",
    "\n",
    "    # Fit first time\n",
    "    pfit, perr = optimize.leastsq(errfunc, p0, args=(datax, datay), full_output=0)\n",
    "\n",
    "\n",
    "    # Get the stdev of the residuals\n",
    "    residuals = errfunc(pfit, datax, datay)\n",
    "    sigma_res = np.std(residuals)\n",
    "\n",
    "    sigma_err_total = np.sqrt(sigma_res**2 + yerr_systematic**2)\n",
    "\n",
    "    # 100 random data sets are generated and fitted\n",
    "    ps = []\n",
    "    for i in range(2000):\n",
    "\n",
    "        randomDelta = np.random.normal(0., sigma_err_total, len(datay))\n",
    "        randomdataY = datay + randomDelta\n",
    "\n",
    "        randomfit, randomcov = \\\n",
    "            optimize.leastsq(errfunc, p0, args=(datax, randomdataY),\\\n",
    "                             full_output=0)\n",
    "\n",
    "        ps.append(randomfit) \n",
    "\n",
    "    ps = np.array(ps)\n",
    "    mean_pfit = np.mean(ps,0)\n",
    "\n",
    "    # You can choose the confidence interval that you want for your\n",
    "    # parameter estimates: \n",
    "    Nsigma = 2. # 1sigma gets approximately the same as methods above\n",
    "                # 1sigma corresponds to 68.3% confidence interval\n",
    "                # 2sigma corresponds to 95.44% confidence interval\n",
    "    err_pfit = Nsigma * np.std(ps,0) \n",
    "\n",
    "    pfit_bootstrap = mean_pfit\n",
    "    perr_bootstrap = err_pfit\n",
    "    return pfit_bootstrap, perr_bootstrap "
   ]
  },
  {
   "cell_type": "code",
   "execution_count": null,
   "metadata": {
    "scrolled": true
   },
   "outputs": [],
   "source": [
    "#COMPARE BOOTSTRAP AND CURVE FIT!\n",
    "BFIT, BError = fit_bootstrap(p0, Time, data, fitFunc, yerr_systematic=0.0000000)\n",
    "BFIT, BError"
   ]
  },
  {
   "cell_type": "code",
   "execution_count": null,
   "metadata": {
    "scrolled": true
   },
   "outputs": [],
   "source": [
    "#====PLOTS===================================================\n",
    "def eq(par,initial_cond,start_t,end_t,incr):\n",
    "    #-time-grid-----------------------------------\n",
    "    t  = np.linspace(start_t, end_t, incr)\n",
    "    def funct(y,t):\n",
    "        S=y[0]\n",
    "        I=y[1]\n",
    "        R=y[2]\n",
    "        beta, gamma = par\n",
    "        f0 = - beta * S * I        \n",
    "        f1 = beta * S * I - gamma * I\n",
    "        f2 = gamma * I\n",
    "        return [f0, f1, f2]\n",
    "     #integrate------------------------------------\n",
    "    ds = integrate.odeint(funct,initial_cond,t)\n",
    "    return (ds[:,0],ds[:,1],ds[:,2],t)\n",
    "#=======================================================\n",
    "     \n",
    "#parameters  \n",
    "#beta= bUp      \n",
    "gamma=1.0/14.0\n",
    "#TS=0.1\n",
    "ND=100.0\n",
    "Param=(popt[0],gamma)\n",
    "ParamErr1=(BFIT+BError,gamma)\n",
    "ParamErr2=(BFIT-BError,gamma)\n",
    "#S0=1-1e-6          # Initial condition need to be defined \n",
    "#I0=1e-6\n",
    "INPUT = [S0,I0, 0.0] # R(0) = 0\n",
    "         # initial condition vector\n",
    "\n",
    "Sf, If, Rf, Days = eq(Param,INPUT,0,ND,101)  #1time, steps\n",
    "Sf1, If1, Rf1, Days1 = eq(ParamErr1,INPUT,0,ND,101) \n",
    "Sf2, If2, Rf2, Days2 = eq(ParamErr2,INPUT,0,ND,101) \n",
    "\n",
    "figure(figsize=(8, 6), dpi=100, facecolor='w', edgecolor='k')\n",
    "#fig, ax = pl.subplots()\n",
    "pl.plot(Days,If, '-')\n",
    "pl.plot(data, 'or')\n",
    "pl.fill_between(Days, If1, If2, alpha=0.2)\n",
    "#pl.errorbar(Time, df_BA, xerr=0.0, yerr=0.0000000, color='r', fmt='o',  ecolor='g',capsize=2,barsabove=True,elinewidth=0.8,)\n",
    "pl.xlim(0.0,25)\n",
    "pl.ylim(0,0.00002)\n",
    "pl.show()"
   ]
  },
  {
   "cell_type": "code",
   "execution_count": null,
   "metadata": {},
   "outputs": [],
   "source": [
    "data*popUF[0]"
   ]
  },
  {
   "cell_type": "code",
   "execution_count": null,
   "metadata": {},
   "outputs": [],
   "source": [
    "#df[df['state'] == 'SP']"
   ]
  },
  {
   "cell_type": "code",
   "execution_count": null,
   "metadata": {},
   "outputs": [],
   "source": [
    "cases = pd.Series(data*popUF[0],\n",
    "                     index = pd.date_range('02/25/2020' ,\n",
    "                                           periods = 23,\n",
    "                                           freq = 'D'))\n",
    "\n",
    "pred = pd.Series(If*popUF[0],\n",
    "                index = pd.date_range('02/25/2020' ,\n",
    "                                           periods = 101,\n",
    "                                           freq = 'D'))"
   ]
  },
  {
   "cell_type": "code",
   "execution_count": null,
   "metadata": {},
   "outputs": [],
   "source": [
    "cases = cases.to_frame()\n",
    "pred = pred.to_frame()"
   ]
  },
  {
   "cell_type": "code",
   "execution_count": null,
   "metadata": {},
   "outputs": [],
   "source": [
    "pred = pred.rename(columns={0: 'total_predito'})\n",
    "cases = cases.rename(columns={0: 'total_cases'})"
   ]
  },
  {
   "cell_type": "code",
   "execution_count": null,
   "metadata": {},
   "outputs": [],
   "source": [
    "pred['total_predito'] = pred['total_predito'].astype(int)"
   ]
  },
  {
   "cell_type": "code",
   "execution_count": null,
   "metadata": {},
   "outputs": [],
   "source": [
    "pred.join(cases)"
   ]
  },
  {
   "cell_type": "code",
   "execution_count": null,
   "metadata": {},
   "outputs": [],
   "source": [
    "# Zoom to see the data\n",
    "pl.semilogy(Days,If, '-k', label= ' SIR: $\\\\beta =$' + str(round(BFIT[0],3))) # monolog\n",
    "pl.semilogy(data, 'ob')\n",
    "pl.legend(loc=0)\n",
    "pl.xlim(1,30)\n",
    "pl.xlabel('Tempo (dias)',fontsize = 14)\n",
    "pl.ylabel('Infectados',fontsize = 14)\n",
    "pl.text(2.3, 0.001, '$R_0$ = ' + str(round(BFIT[0]/gamma,2)) + ' (número basico de reprodução) em ' + UF +\n",
    "         ', \\n $\\gamma = $' + str(round(gamma,3)) + \\\n",
    "         ' (' + str(round(1/gamma)) + ' dias de recuperação)', style='italic',\n",
    "    fontsize=12, fontname='Ubuntu',\n",
    "    bbox={'facecolor':'grey', 'alpha':0.1, 'pad':10})\n",
    "#pl.savefig('SIR_BA_analise_fit.pdf')\n",
    "pl.show()"
   ]
  },
  {
   "cell_type": "code",
   "execution_count": null,
   "metadata": {
    "scrolled": true
   },
   "outputs": [],
   "source": [
    "#fig, ax = pl.subplots()\n",
    "figure(figsize=(8, 6), dpi=100, facecolor='w', edgecolor='k')\n",
    "pl.plot(Days,If, '-b')\n",
    "pl.plot(Days,Sf, '-r')\n",
    "pl.plot(Days,Rf, '-g')\n",
    "pl.plot(Time, data, 'ob')\n",
    "pl.fill_between(Days, If1, If2, alpha=0.2,color='b')\n",
    "pl.fill_between(Days, Sf1, Sf2, alpha=0.2,color='r')\n",
    "pl.fill_between(Days, Rf1, Rf2, alpha=0.2,color='g')\n",
    "#pl.errorbar(Time, data, xerr=0.0,yerr=0.0000001,  color='r', fmt='o',  ecolor='g',capsize=2,barsabove=True,elinewidth=0.8,)\n",
    "#pl.errorbar(Time, data, xerr=0.0,yerr=0.0000001,  color='r', fmt='o',  ecolor='g',capsize=2,barsabove=True,elinewidth=0.8,)\n",
    "pl.show()\n"
   ]
  },
  {
   "cell_type": "code",
   "execution_count": null,
   "metadata": {},
   "outputs": [],
   "source": [
    "figure(figsize=(10, 6), dpi=100, facecolor='w', edgecolor='k')\n",
    "#pl.loglog(t_range,RESLow[:,1], '--b', label='Infectious (Low bound)')\n",
    "pl.plot(pred[0:33], 'or', label='Predito')\n",
    "#pl.loglog(t_range,RESUp[:,1], '--b', label='Infectious (Upper bound)')\n",
    "pl.plot(cases, 'ob', label='Dados reais')\n",
    "pl.legend(loc=0)\n",
    "#pl.loglog(time2,func(time2)/14873064, '-g')\n",
    "#pl.xlim(0,28)\n",
    "pl.xlabel('Tempo (dias)',fontsize = 14)\n",
    "pl.xticks(rotation=45)\n",
    "pl.ylabel('Número de Infectados',fontsize = 14)\n",
    "pl.title('Predição de casos para '+ UF  + ': $R_0$ = ' + str(round(BFIT[0]/gamma,2)) + ' (número basico de reprodução)' +\n",
    "         ', \\n $\\\\beta$ = ' + str(round(BFIT[0],3)) +  ' (Taxa de transmissão per capita)' \\\n",
    "         ', \\n $\\gamma = $' + str(round(gamma,3)) + \\\n",
    "         ' (' + str(round(1/gamma)) + ' dias de infecciosidade)', fontsize = 15)\n",
    "#pl.savefig('SIR_BA_predito_vs_data.pdf',dpi=1000)\n",
    "pl.show()"
   ]
  },
  {
   "cell_type": "code",
   "execution_count": null,
   "metadata": {},
   "outputs": [],
   "source": [
    "79 +45"
   ]
  },
  {
   "cell_type": "code",
   "execution_count": null,
   "metadata": {},
   "outputs": [],
   "source": []
  }
 ],
 "metadata": {
  "kernelspec": {
   "display_name": "Python 3",
   "language": "python",
   "name": "python3"
  },
  "language_info": {
   "codemirror_mode": {
    "name": "ipython",
    "version": 3
   },
   "file_extension": ".py",
   "mimetype": "text/x-python",
   "name": "python",
   "nbconvert_exporter": "python",
   "pygments_lexer": "ipython3",
   "version": "3.6.5"
  }
 },
 "nbformat": 4,
 "nbformat_minor": 4
}
