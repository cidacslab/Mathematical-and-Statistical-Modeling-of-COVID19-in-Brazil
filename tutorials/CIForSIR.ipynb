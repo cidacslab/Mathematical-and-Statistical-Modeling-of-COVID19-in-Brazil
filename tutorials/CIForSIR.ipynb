{
 "cells": [
  {
   "cell_type": "markdown",
   "metadata": {},
   "source": [
    "<h1>Compute Non-parametric Confidence Interval for SIR Predictions </h1>"
   ]
  },
  {
   "cell_type": "markdown",
   "metadata": {},
   "source": [
    "<p>In this tutorial we'll use bootstrap to compute confidence interval for covid19 predictions using SIR model.</p>\n",
    "<p>So, instead of use the methods created inside the SIR_EDO class we'll construct a function that do all the job for us</p>"
   ]
  },
  {
   "cell_type": "code",
   "execution_count": 1,
   "metadata": {},
   "outputs": [],
   "source": [
    "import sys\n",
    "#add the path were the models are\n",
    "sys.path.append(\"../main/\")\n",
    "import pandas as pd\n",
    "import numpy as np\n",
    "from plotnine import *\n",
    "from mizani.breaks import date_breaks\n",
    "from mizani.formatters import date_format\n",
    "from modelos import SIR_EDO\n",
    "\n",
    "#set default theme for plts\n",
    "theme_set(theme_linedraw())"
   ]
  },
  {
   "cell_type": "markdown",
   "metadata": {},
   "source": [
    "<p>First we will select the state of São Paulo to do the projections</p>"
   ]
  },
  {
   "cell_type": "code",
   "execution_count": 2,
   "metadata": {},
   "outputs": [
    {
     "data": {
      "text/html": [
       "<div>\n",
       "<style scoped>\n",
       "    .dataframe tbody tr th:only-of-type {\n",
       "        vertical-align: middle;\n",
       "    }\n",
       "\n",
       "    .dataframe tbody tr th {\n",
       "        vertical-align: top;\n",
       "    }\n",
       "\n",
       "    .dataframe thead th {\n",
       "        text-align: right;\n",
       "    }\n",
       "</style>\n",
       "<table border=\"1\" class=\"dataframe\">\n",
       "  <thead>\n",
       "    <tr style=\"text-align: right;\">\n",
       "      <th></th>\n",
       "      <th>date</th>\n",
       "      <th>state</th>\n",
       "      <th>totalcasos</th>\n",
       "      <th>casos_preditos</th>\n",
       "    </tr>\n",
       "  </thead>\n",
       "  <tbody>\n",
       "    <tr>\n",
       "      <th>0</th>\n",
       "      <td>2020-02-25</td>\n",
       "      <td>São Paulo</td>\n",
       "      <td>1.0</td>\n",
       "      <td>1.000000</td>\n",
       "    </tr>\n",
       "    <tr>\n",
       "      <th>1</th>\n",
       "      <td>2020-02-26</td>\n",
       "      <td>São Paulo</td>\n",
       "      <td>1.0</td>\n",
       "      <td>1.279995</td>\n",
       "    </tr>\n",
       "    <tr>\n",
       "      <th>2</th>\n",
       "      <td>2020-02-27</td>\n",
       "      <td>São Paulo</td>\n",
       "      <td>1.0</td>\n",
       "      <td>1.637719</td>\n",
       "    </tr>\n",
       "    <tr>\n",
       "      <th>3</th>\n",
       "      <td>2020-02-28</td>\n",
       "      <td>São Paulo</td>\n",
       "      <td>1.0</td>\n",
       "      <td>2.094925</td>\n",
       "    </tr>\n",
       "    <tr>\n",
       "      <th>4</th>\n",
       "      <td>2020-02-29</td>\n",
       "      <td>São Paulo</td>\n",
       "      <td>2.0</td>\n",
       "      <td>2.681347</td>\n",
       "    </tr>\n",
       "  </tbody>\n",
       "</table>\n",
       "</div>"
      ],
      "text/plain": [
       "         date      state  totalcasos  casos_preditos\n",
       "0  2020-02-25  São Paulo         1.0        1.000000\n",
       "1  2020-02-26  São Paulo         1.0        1.279995\n",
       "2  2020-02-27  São Paulo         1.0        1.637719\n",
       "3  2020-02-28  São Paulo         1.0        2.094925\n",
       "4  2020-02-29  São Paulo         2.0        2.681347"
      ]
     },
     "execution_count": 2,
     "metadata": {},
     "output_type": "execute_result"
    }
   ],
   "source": [
    "data = pd.read_csv(\"../data/estados.csv\")\n",
    "data.head()"
   ]
  },
  {
   "cell_type": "code",
   "execution_count": 3,
   "metadata": {},
   "outputs": [
    {
     "data": {
      "text/html": [
       "<div>\n",
       "<style scoped>\n",
       "    .dataframe tbody tr th:only-of-type {\n",
       "        vertical-align: middle;\n",
       "    }\n",
       "\n",
       "    .dataframe tbody tr th {\n",
       "        vertical-align: top;\n",
       "    }\n",
       "\n",
       "    .dataframe thead th {\n",
       "        text-align: right;\n",
       "    }\n",
       "</style>\n",
       "<table border=\"1\" class=\"dataframe\">\n",
       "  <thead>\n",
       "    <tr style=\"text-align: right;\">\n",
       "      <th></th>\n",
       "      <th>date</th>\n",
       "      <th>state</th>\n",
       "      <th>totalcasos</th>\n",
       "      <th>casos_preditos</th>\n",
       "    </tr>\n",
       "  </thead>\n",
       "  <tbody>\n",
       "    <tr>\n",
       "      <th>0</th>\n",
       "      <td>2020-02-25</td>\n",
       "      <td>São Paulo</td>\n",
       "      <td>1.0</td>\n",
       "      <td>1.000000</td>\n",
       "    </tr>\n",
       "    <tr>\n",
       "      <th>1</th>\n",
       "      <td>2020-02-26</td>\n",
       "      <td>São Paulo</td>\n",
       "      <td>1.0</td>\n",
       "      <td>1.279995</td>\n",
       "    </tr>\n",
       "    <tr>\n",
       "      <th>2</th>\n",
       "      <td>2020-02-27</td>\n",
       "      <td>São Paulo</td>\n",
       "      <td>1.0</td>\n",
       "      <td>1.637719</td>\n",
       "    </tr>\n",
       "    <tr>\n",
       "      <th>3</th>\n",
       "      <td>2020-02-28</td>\n",
       "      <td>São Paulo</td>\n",
       "      <td>1.0</td>\n",
       "      <td>2.094925</td>\n",
       "    </tr>\n",
       "    <tr>\n",
       "      <th>4</th>\n",
       "      <td>2020-02-29</td>\n",
       "      <td>São Paulo</td>\n",
       "      <td>2.0</td>\n",
       "      <td>2.681347</td>\n",
       "    </tr>\n",
       "  </tbody>\n",
       "</table>\n",
       "</div>"
      ],
      "text/plain": [
       "         date      state  totalcasos  casos_preditos\n",
       "0  2020-02-25  São Paulo         1.0        1.000000\n",
       "1  2020-02-26  São Paulo         1.0        1.279995\n",
       "2  2020-02-27  São Paulo         1.0        1.637719\n",
       "3  2020-02-28  São Paulo         1.0        2.094925\n",
       "4  2020-02-29  São Paulo         2.0        2.681347"
      ]
     },
     "execution_count": 3,
     "metadata": {},
     "output_type": "execute_result"
    }
   ],
   "source": [
    "#Select only Sao Paulo\n",
    "sp = data[data[\"state\"] == \"São Paulo\"]\n",
    "sp.head()"
   ]
  },
  {
   "cell_type": "code",
   "execution_count": 4,
   "metadata": {},
   "outputs": [],
   "source": [
    "#Remove missing values to not crash the intervals\n",
    "sp = sp.dropna()"
   ]
  },
  {
   "cell_type": "code",
   "execution_count": 5,
   "metadata": {},
   "outputs": [],
   "source": [
    "#Start the model with population size\n",
    "model = SIR_EDO(N = 45919049)"
   ]
  },
  {
   "cell_type": "code",
   "execution_count": 6,
   "metadata": {},
   "outputs": [],
   "source": [
    "#create a series with the cummulative number of cases\n",
    "y = sp[\"totalcasos\"]\n",
    "\n",
    "#Give the number of days since the day of first case confirmed\n",
    "x = range(1,len(sp[\"totalcasos\"]) + 1)"
   ]
  },
  {
   "cell_type": "markdown",
   "metadata": {},
   "source": [
    "<p>Now let's implement the function to compute the interval</p>"
   ]
  },
  {
   "cell_type": "code",
   "execution_count": 7,
   "metadata": {},
   "outputs": [],
   "source": [
    "def predictSIR(x,y,days,bootstrap, lb = 0.0275, ub = 0.975):\n",
    "    \n",
    "    \"\"\"\n",
    "    x: Number of days since the case\n",
    "    y: An array with the cumulative cases\n",
    "    days: for how many days the projection should be done\n",
    "    bootsrap: how many simulation should be done for compute CI\n",
    "    lb: The inferior limit of the interval. Default is 0.0275\n",
    "    ub: The inferior limit of the interval. Default is 0.975\n",
    "    \"\"\"\n",
    "    def q1(x):\n",
    "        return x.quantile(lb)\n",
    "    \n",
    "    def q2(x):\n",
    "        return x.quantile(ub)\n",
    "    \n",
    "    #S = []\n",
    "    #I = []\n",
    "    #R = []\n",
    "    df = []\n",
    "    predicted = {}\n",
    "    newx = range(1,days)\n",
    "    \n",
    "    #fit model using data\n",
    "    for i in range(0,bootstrap):\n",
    "        newy = np.random.choice(a = y, size = len(x), replace = True)\n",
    "        model.fit(x = x, y = newy)\n",
    "        #S.append(model.getCoef()[1][3][0])\n",
    "        #I.append(model.getCoef()[1][3][1])\n",
    "        #R.append(model.getCoef()[1][3][2])\n",
    "        df.append(pd.DataFrame.from_dict({\"Predicted\":model.predict(newx),\n",
    "                                          \"x\": np.arange(start = 1, stop = len(newx) + 3)}))\n",
    "        \n",
    "    dfs = pd.concat(df)\n",
    "    \n",
    "    f = ['mean', 'std', q1, q2]\n",
    "    dfs = dfs.groupby([\"x\"])[\"Predicted\"].agg(f).reset_index()\n",
    "    \n",
    "    return dfs"
   ]
  },
  {
   "cell_type": "code",
   "execution_count": 8,
   "metadata": {},
   "outputs": [],
   "source": [
    "dfs = predictSIR(x = x, y = y, days = 50, bootstrap = 100)"
   ]
  },
  {
   "cell_type": "markdown",
   "metadata": {},
   "source": [
    "<p>Now we simply create a plot to show the results</p>"
   ]
  },
  {
   "cell_type": "code",
   "execution_count": 9,
   "metadata": {},
   "outputs": [
    {
     "data": {
      "image/png": "[encoded data removed]",
      "text/plain": [
       "<Figure size 640x480 with 1 Axes>"
      ]
     },
     "metadata": {},
     "output_type": "display_data"
    },
    {
     "data": {
      "text/plain": [
       "<ggplot: (8737895062406)>"
      ]
     },
     "execution_count": 9,
     "metadata": {},
     "output_type": "execute_result"
    }
   ],
   "source": [
    "(ggplot(dfs) + \n",
    "    geom_line(aes(x = \"x\", y = \"mean\")) +\n",
    "    geom_ribbon(aes(x = \"x\", ymin = \"q1\", ymax = \"q2\"), alpha = 0.5) +\n",
    "     ggtitle(\"Series of covid-19 for Sao Paulo\") +\n",
    "    ylab(\"Number of cases\"))"
   ]
  }
 ],
 "metadata": {
  "kernelspec": {
   "display_name": "Python 3",
   "language": "python",
   "name": "python3"
  },
  "language_info": {
   "codemirror_mode": {
    "name": "ipython",
    "version": 3
   },
   "file_extension": ".py",
   "mimetype": "text/x-python",
   "name": "python",
   "nbconvert_exporter": "python",
   "pygments_lexer": "ipython3",
   "version": "3.7.3"
  }
 },
 "nbformat": 4,
 "nbformat_minor": 4
}
