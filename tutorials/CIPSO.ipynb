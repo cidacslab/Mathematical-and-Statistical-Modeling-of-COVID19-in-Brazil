{
 "cells": [
  {
   "cell_type": "code",
   "execution_count": 1,
   "metadata": {},
   "outputs": [],
   "source": [
    "import multiprocessing as mp\n",
    "import sys\n",
    "#add the path were the models are\n",
    "sys.path.append(\"../inProduction/\")\n",
    "import pandas as pd\n",
    "import numpy as np\n",
    "from plotnine import *\n",
    "from mizani.breaks import date_breaks\n",
    "from mizani.formatters import date_format\n",
    "from itertools import repeat\n",
    "import time\n",
    "from functools import reduce\n",
    "from sirPSO import SIR_PSO\n",
    "#set default theme for plts\n",
    "theme_set(theme_linedraw())"
   ]
  },
  {
   "cell_type": "code",
   "execution_count": 2,
   "metadata": {},
   "outputs": [
    {
     "data": {
      "text/html": [
       "<div>\n",
       "<style scoped>\n",
       "    .dataframe tbody tr th:only-of-type {\n",
       "        vertical-align: middle;\n",
       "    }\n",
       "\n",
       "    .dataframe tbody tr th {\n",
       "        vertical-align: top;\n",
       "    }\n",
       "\n",
       "    .dataframe thead th {\n",
       "        text-align: right;\n",
       "    }\n",
       "</style>\n",
       "<table border=\"1\" class=\"dataframe\">\n",
       "  <thead>\n",
       "    <tr style=\"text-align: right;\">\n",
       "      <th></th>\n",
       "      <th>date</th>\n",
       "      <th>state</th>\n",
       "      <th>newCases</th>\n",
       "      <th>mortes</th>\n",
       "      <th>TOTAL</th>\n",
       "      <th>totalCasesPred</th>\n",
       "      <th>sucetivel</th>\n",
       "      <th>Recuperado</th>\n",
       "    </tr>\n",
       "  </thead>\n",
       "  <tbody>\n",
       "    <tr>\n",
       "      <th>41</th>\n",
       "      <td>2020-02-25</td>\n",
       "      <td>SP</td>\n",
       "      <td>1.0</td>\n",
       "      <td>0.0</td>\n",
       "      <td>1.0</td>\n",
       "      <td>1.000000</td>\n",
       "      <td>4.591905e+07</td>\n",
       "      <td>0.000000</td>\n",
       "    </tr>\n",
       "    <tr>\n",
       "      <th>42</th>\n",
       "      <td>2020-02-26</td>\n",
       "      <td>SP</td>\n",
       "      <td>0.0</td>\n",
       "      <td>0.0</td>\n",
       "      <td>1.0</td>\n",
       "      <td>1.253639</td>\n",
       "      <td>4.591905e+07</td>\n",
       "      <td>0.140394</td>\n",
       "    </tr>\n",
       "    <tr>\n",
       "      <th>43</th>\n",
       "      <td>2020-02-27</td>\n",
       "      <td>SP</td>\n",
       "      <td>0.0</td>\n",
       "      <td>0.0</td>\n",
       "      <td>1.0</td>\n",
       "      <td>1.571138</td>\n",
       "      <td>4.591905e+07</td>\n",
       "      <td>0.316136</td>\n",
       "    </tr>\n",
       "    <tr>\n",
       "      <th>44</th>\n",
       "      <td>2020-02-28</td>\n",
       "      <td>SP</td>\n",
       "      <td>0.0</td>\n",
       "      <td>0.0</td>\n",
       "      <td>1.0</td>\n",
       "      <td>1.968710</td>\n",
       "      <td>4.591905e+07</td>\n",
       "      <td>0.536200</td>\n",
       "    </tr>\n",
       "    <tr>\n",
       "      <th>45</th>\n",
       "      <td>2020-02-29</td>\n",
       "      <td>SP</td>\n",
       "      <td>1.0</td>\n",
       "      <td>0.0</td>\n",
       "      <td>2.0</td>\n",
       "      <td>2.468231</td>\n",
       "      <td>4.591905e+07</td>\n",
       "      <td>0.812695</td>\n",
       "    </tr>\n",
       "  </tbody>\n",
       "</table>\n",
       "</div>"
      ],
      "text/plain": [
       "          date state  newCases  mortes  TOTAL  totalCasesPred     sucetivel  \\\n",
       "41  2020-02-25    SP       1.0     0.0    1.0        1.000000  4.591905e+07   \n",
       "42  2020-02-26    SP       0.0     0.0    1.0        1.253639  4.591905e+07   \n",
       "43  2020-02-27    SP       0.0     0.0    1.0        1.571138  4.591905e+07   \n",
       "44  2020-02-28    SP       0.0     0.0    1.0        1.968710  4.591905e+07   \n",
       "45  2020-02-29    SP       1.0     0.0    2.0        2.468231  4.591905e+07   \n",
       "\n",
       "    Recuperado  \n",
       "41    0.000000  \n",
       "42    0.140394  \n",
       "43    0.316136  \n",
       "44    0.536200  \n",
       "45    0.812695  "
      ]
     },
     "execution_count": 2,
     "metadata": {},
     "output_type": "execute_result"
    }
   ],
   "source": [
    "data = pd.read_csv(\"../data/estados.csv\")\n",
    "#Select only Sao Paulo\n",
    "sp = data[data[\"state\"] == \"SP\"]\n",
    "#Remove missing values to not crash the intervals\n",
    "sp = sp.dropna()\n",
    "sp.head()"
   ]
  },
  {
   "cell_type": "code",
   "execution_count": 3,
   "metadata": {},
   "outputs": [],
   "source": [
    "#create a series with the cummulative number of cases\n",
    "y = np.array(sp[\"TOTAL\"])\n",
    "\n",
    "#Give the number of days since the day of first case confirmed\n",
    "x = range(0,len(sp[\"TOTAL\"]))"
   ]
  },
  {
   "cell_type": "code",
   "execution_count": 4,
   "metadata": {},
   "outputs": [],
   "source": [
    "#start model\n",
    "model = SIR_PSO(tamanhoPop = 50000000, numeroProcessadores = 8)"
   ]
  },
  {
   "cell_type": "code",
   "execution_count": 5,
   "metadata": {},
   "outputs": [],
   "source": [
    "def bootstratpTS(npArray, replicate):\n",
    "    simList = []\n",
    "    def poissonGen(npArray, replicate = None):\n",
    "        simSeries = []\n",
    "        for i in range(0,len(npArray)):\n",
    "            if i == 0:\n",
    "                simSeries.append(npArray[i]) \n",
    "            else:\n",
    "                simSeries.append(np.random.poisson(lam = npArray[i] - npArray[i-1], size = 1)[0])\n",
    "        return np.cumsum(np.array(simSeries))\n",
    "    for i in range(0,replicate):\n",
    "        simList.append(poissonGen(npArray))\n",
    "    return np.array(simList)\n",
    "    \n",
    "def runSir(model, y, x, ndays):\n",
    "    newx = range(0, len(x) + ndays) \n",
    "    model.fit(y = y, x = x)\n",
    "    return model.predict(newx)\n",
    "    \n",
    "def predictCI(model, y, x, start, ndays, bootstrap, n_jobs):\n",
    "    \"\"\"\n",
    "    This function fits diffent models to data to get confidence interval for I + R.\n",
    "    y = an array with the series of cases\n",
    "    x = an range object with the first and last day of cases\n",
    "    start =  a date in format \"YYYY-mm-dd\" indicating the day of the first case reported\n",
    "    ndays = number of days to be predicted\n",
    "    bootstrap = number of times that the model will run\n",
    "    n_jobs = number of core to be used to fit the models\n",
    "        \n",
    "    \"\"\"\n",
    "    model = model\n",
    "    #Create a lol with data for run the model\n",
    "    lists = bootstratpTS(npArray = y, replicate = bootstrap)\n",
    "        \n",
    "    #Model will be fitted and predicted so R) using ci is not consisent\n",
    "    #Make cores avalible to the process\n",
    "    pool =  mp.Pool(processes = n_jobs)\n",
    "        \n",
    "    #Run the model\n",
    "    results = pool.starmap(runSir, [(model, lists[i], x, ndays) for i in range(0,len(lists))])\n",
    "        \n",
    "    #Create data frames for models\n",
    "    pred = [results[i] for i in range(0,len(results))]\n",
    "\n",
    "        \n",
    "    return pred"
   ]
  },
  {
   "cell_type": "code",
   "execution_count": 6,
   "metadata": {},
   "outputs": [],
   "source": [
    "model = SIR_PSO(tamanhoPop = 50000000)"
   ]
  },
  {
   "cell_type": "code",
   "execution_count": 7,
   "metadata": {},
   "outputs": [
    {
     "name": "stderr",
     "output_type": "stream",
     "text": [
      "2020-04-17 07:48:08,259 - pyswarms.single.global_best - INFO - Optimize for 500 iters with {'c1': 0.5, 'c2': 0.3, 'w': 0.9}\n",
      "pyswarms.single.global_best: 100%|██████████|500/500, best_cost=8.38e+3\n",
      "2020-04-17 07:48:25,161 - pyswarms.single.global_best - INFO - Optimization finished | best cost: 8376.971304206087, best pos: [0.40295636 0.19937598]\n",
      "2020-04-17 07:48:25,164 - pyswarms.single.global_best - INFO - Optimize for 500 iters with {'c1': 0.5, 'c2': 0.3, 'w': 0.9}\n",
      "pyswarms.single.global_best: 100%|██████████|500/500, best_cost=9.68e+3\n",
      "2020-04-17 07:48:44,736 - pyswarms.single.global_best - INFO - Optimization finished | best cost: 9682.732485656386, best pos: [0.4036456  0.19989463]\n",
      "2020-04-17 07:48:44,740 - pyswarms.single.global_best - INFO - Optimize for 500 iters with {'c1': 0.5, 'c2': 0.3, 'w': 0.9}\n",
      "pyswarms.single.global_best: 100%|██████████|500/500, best_cost=9.6e+3\n",
      "2020-04-17 07:49:04,027 - pyswarms.single.global_best - INFO - Optimization finished | best cost: 9599.285302236305, best pos: [0.4031575  0.19946431]\n",
      "2020-04-17 07:49:04,030 - pyswarms.single.global_best - INFO - Optimize for 500 iters with {'c1': 0.5, 'c2': 0.3, 'w': 0.9}\n",
      "pyswarms.single.global_best: 100%|██████████|500/500, best_cost=8.15e+3\n",
      "2020-04-17 07:49:22,248 - pyswarms.single.global_best - INFO - Optimization finished | best cost: 8151.216931763427, best pos: [0.40386037 0.19994497]\n",
      "2020-04-17 07:49:22,254 - pyswarms.single.global_best - INFO - Optimize for 500 iters with {'c1': 0.5, 'c2': 0.3, 'w': 0.9}\n",
      "pyswarms.single.global_best: 100%|██████████|500/500, best_cost=1.04e+4\n",
      "2020-04-17 07:49:42,320 - pyswarms.single.global_best - INFO - Optimization finished | best cost: 10394.022235986738, best pos: [0.40304133 0.19933201]\n"
     ]
    },
    {
     "data": {
      "text/plain": [
       "[array([1.00000000e+00, 1.44970276e+00, 2.00093848e+00, 2.67682756e+00,\n",
       "        3.50820064e+00, 4.55780701e+00, 5.84365816e+00, 7.39053898e+00,\n",
       "        9.33957224e+00, 1.17130577e+01, 1.45913001e+01, 1.82161503e+01,\n",
       "        2.26040056e+01, 2.79809540e+01, 3.47206075e+01, 4.28293999e+01,\n",
       "        5.28913965e+01, 6.54066888e+01, 8.04204316e+01, 9.92342407e+01,\n",
       "        1.22446866e+02, 1.50277466e+02, 1.84842140e+02, 2.26968180e+02,\n",
       "        2.79283714e+02, 3.42836013e+02, 4.21131655e+02, 5.17131814e+02,\n",
       "        6.34706035e+02, 7.78983619e+02, 9.56190528e+02, 1.17327291e+03,\n",
       "        1.43875479e+03, 1.76325150e+03, 2.16189240e+03, 2.65060650e+03,\n",
       "        3.25011438e+03, 3.98468934e+03, 4.88505868e+03, 5.98858729e+03,\n",
       "        7.34154559e+03]),\n",
       " array([1.00000000e+00, 1.45051654e+00, 2.00284420e+00, 2.68018822e+00,\n",
       "        3.51349511e+00, 4.56572635e+00, 5.85495385e+00, 7.40627121e+00,\n",
       "        9.36123845e+00, 1.17420096e+01, 1.46302550e+01, 1.82679811e+01,\n",
       "        2.26711412e+01, 2.80702813e+01, 3.48370333e+01, 4.29777419e+01,\n",
       "        5.30877082e+01, 6.56587794e+01, 8.07413624e+01, 9.96540758e+01,\n",
       "        1.22979607e+02, 1.50954035e+02, 1.85708301e+02, 2.28071706e+02,\n",
       "        2.80689516e+02, 3.44615955e+02, 4.23378724e+02, 5.19999372e+02,\n",
       "        6.38320782e+02, 7.83537904e+02, 9.61953099e+02, 1.18058693e+03,\n",
       "        1.44787865e+03, 1.77474992e+03, 2.17638454e+03, 2.66882652e+03,\n",
       "        3.27299444e+03, 4.01345266e+03, 4.92112387e+03, 6.03381379e+03,\n",
       "        7.39826931e+03]),\n",
       " array([1.00000000e+00, 1.44995668e+00, 2.00156601e+00, 2.67798985e+00,\n",
       "        3.51011590e+00, 4.56079404e+00, 5.84806430e+00, 7.39689969e+00,\n",
       "        9.34862299e+00, 1.17254236e+01, 1.46084565e+01, 1.82395246e+01,\n",
       "        2.26347207e+01, 2.80229310e+01, 3.47762311e+01, 4.29009776e+01,\n",
       "        5.29883091e+01, 6.55325468e+01, 8.05822549e+01, 9.94495175e+01,\n",
       "        1.22722070e+02, 1.50630042e+02, 1.85298128e+02, 2.27554259e+02,\n",
       "        2.80036434e+02, 3.43795573e+02, 4.22350349e+02, 5.18699512e+02,\n",
       "        6.36692705e+02, 7.81499351e+02, 9.59392530e+02, 1.17736227e+03,\n",
       "        1.44387093e+03, 1.76973025e+03, 2.17009576e+03, 2.66096196e+03,\n",
       "        3.26316777e+03, 4.00116206e+03, 4.90578242e+03, 6.01466105e+03,\n",
       "        7.37435442e+03]),\n",
       " array([1.00000000e+00, 1.45079926e+00, 2.00356465e+00, 2.68155744e+00,\n",
       "        3.51580165e+00, 4.56939346e+00, 5.86044303e+00, 7.41431547e+00,\n",
       "        9.37283318e+00, 1.17579855e+01, 1.46526794e+01, 1.82987863e+01,\n",
       "        2.27118194e+01, 2.81264077e+01, 3.49117939e+01, 4.30743500e+01,\n",
       "        5.32193951e+01, 6.58303428e+01, 8.09628819e+01, 9.99500848e+01,\n",
       "        1.23358708e+02, 1.51441477e+02, 1.86340206e+02, 2.28886637e+02,\n",
       "        2.81737867e+02, 3.45956052e+02, 4.25082357e+02, 5.22196966e+02,\n",
       "        6.41111460e+02, 7.87078441e+02, 9.66462128e+02, 1.18635476e+03,\n",
       "        1.45510665e+03, 1.78391715e+03, 2.18800690e+03, 2.68351751e+03,\n",
       "        3.29153010e+03, 4.03687473e+03, 4.95062310e+03, 6.07096769e+03,\n",
       "        7.44505952e+03]),\n",
       " array([1.00000000e+00, 1.44983124e+00, 2.00129571e+00, 2.67755286e+00,\n",
       "        3.50948748e+00, 4.55994121e+00, 5.84695170e+00, 7.39550992e+00,\n",
       "        9.34691639e+00, 1.17233368e+01, 1.46060188e+01, 1.82366711e+01,\n",
       "        2.26313373e+01, 2.80192227e+01, 3.47720473e+01, 4.28961589e+01,\n",
       "        5.29834885e+01, 6.55273576e+01, 8.05768103e+01, 9.94449376e+01,\n",
       "        1.22717697e+02, 1.50626726e+02, 1.85297143e+02, 2.27556728e+02,\n",
       "        2.80043875e+02, 3.43809739e+02, 4.22373345e+02, 5.18737877e+02,\n",
       "        6.36748702e+02, 7.81579123e+02, 9.59506520e+02, 1.17752497e+03,\n",
       "        1.44408507e+03, 1.77002249e+03, 2.17049119e+03, 2.66148940e+03,\n",
       "        3.26386527e+03, 4.00208446e+03, 4.90698909e+03, 6.01623615e+03,\n",
       "        7.37640621e+03])]"
      ]
     },
     "execution_count": 7,
     "metadata": {},
     "output_type": "execute_result"
    }
   ],
   "source": [
    "predictCI(model = model, y = y, x = x, start = None, ndays = 7, bootstrap = 5, n_jobs = 1)"
   ]
  },
  {
   "cell_type": "code",
   "execution_count": null,
   "metadata": {},
   "outputs": [],
   "source": []
  },
  {
   "cell_type": "code",
   "execution_count": null,
   "metadata": {},
   "outputs": [],
   "source": []
  },
  {
   "cell_type": "code",
   "execution_count": null,
   "metadata": {},
   "outputs": [],
   "source": []
  },
  {
   "cell_type": "code",
   "execution_count": null,
   "metadata": {},
   "outputs": [],
   "source": [
    "model.fit(x = x, y = y)\n",
    "model.predict(x)"
   ]
  },
  {
   "cell_type": "code",
   "execution_count": null,
   "metadata": {},
   "outputs": [],
   "source": [
    "from recombinator.optimal_block_length import optimal_block_length as opl\n",
    "opl(y)"
   ]
  },
  {
   "cell_type": "code",
   "execution_count": null,
   "metadata": {},
   "outputs": [],
   "source": [
    "from recombinator.block_bootstrap import circular_block_bootstrap as cbb"
   ]
  },
  {
   "cell_type": "code",
   "execution_count": null,
   "metadata": {},
   "outputs": [],
   "source": [
    "arrays = cbb(x = y, block_length = 8, replications = 1000, replace = True)"
   ]
  },
  {
   "cell_type": "code",
   "execution_count": null,
   "metadata": {},
   "outputs": [],
   "source": [
    "sp[\"lb\"] = np.cumsum(np.quantile(np.transpose(arrays), q  = 0.0275, axis = 1))\n",
    "sp[\"ub\"] = np.cumsum(np.quantile(np.transpose(arrays), q  = 0.975, axis = 1))\n",
    "sp[\"meanSeries\"] = np.cumsum(np.median(np.transpose(arrays), axis = 1))\n",
    "\n",
    "sp[\"date\"] = pd.to_datetime(sp[\"date\"])"
   ]
  },
  {
   "cell_type": "code",
   "execution_count": null,
   "metadata": {},
   "outputs": [],
   "source": [
    "#plot graph using ggplot\n",
    "(ggplot(sp) + \n",
    "    geom_line(aes(x = \"date\", y = \"newCases\")) +\n",
    "    geom_line(aes(x = \"date\", y = \"meanSeries\")) +\n",
    "    geom_ribbon(aes(x = \"date\", ymin = \"lb\", ymax = \"ub\"), alpha = 0.5) +\n",
    "    scale_x_datetime(breaks = date_breaks('5 days'), labels=date_format('%d-%b')) +\n",
    "    ggtitle(\"Series of covid-19 for Sao Paulo\") +\n",
    "    ylab(\"Number of cases\"))"
   ]
  },
  {
   "cell_type": "code",
   "execution_count": null,
   "metadata": {},
   "outputs": [],
   "source": [
    "def bootstratpTS(npArray, replicate):\n",
    "    \"\"\"\n",
    "    \n",
    "    \"\"\"\n",
    "    simList = []\n",
    "    def poissonGen(npArray, replicate = None):\n",
    "        simSeries = []\n",
    "        for i in range(0,len(npArray)):\n",
    "            if i == 0:\n",
    "                simSeries.append(npArray[i]) \n",
    "            else:\n",
    "                simSeries.append(np.random.poisson(lam = npArray[i] - npArray[i-1], size = 1)[0])\n",
    "        return np.cumsum(np.array(simSeries))\n",
    "    for i in range(0,replicate):\n",
    "        simList.append(poissonGen(npArray))\n",
    "    return np.array(simList)\n",
    "simList = bootstratpTS(npArray = y, replicate = 1000)"
   ]
  },
  {
   "cell_type": "code",
   "execution_count": null,
   "metadata": {},
   "outputs": [],
   "source": [
    "sp[\"plb\"] = np.quantile(np.transpose(simList), q  = 0.0275, axis = 1)\n",
    "sp[\"pub\"] = np.quantile(np.transpose(simList), q  = 0.975, axis = 1)\n",
    "sp[\"pmeanSeries\"] = np.median(np.transpose(simList), axis = 1)"
   ]
  },
  {
   "cell_type": "code",
   "execution_count": null,
   "metadata": {},
   "outputs": [],
   "source": [
    "#plot graph using ggplot\n",
    "(ggplot(sp) + \n",
    "    geom_line(aes(x = \"date\", y = \"TOTAL\")) +\n",
    "    geom_line(aes(x = \"date\", y = \"pmeanSeries\"), color = \"blue\") +\n",
    "    geom_ribbon(aes(x = \"date\", ymin = \"plb\", ymax = \"pub\"), alpha = 0.5) +\n",
    "    scale_x_datetime(breaks = date_breaks('5 days'), labels=date_format('%d-%b')) +\n",
    "    ggtitle(\"Series of covid-19 for Sao Paulo\") +\n",
    "    ylab(\"Number of cases\"))"
   ]
  },
  {
   "cell_type": "code",
   "execution_count": null,
   "metadata": {},
   "outputs": [],
   "source": []
  },
  {
   "cell_type": "code",
   "execution_count": null,
   "metadata": {},
   "outputs": [],
   "source": []
  }
 ],
 "metadata": {
  "kernelspec": {
   "display_name": "Python 3",
   "language": "python",
   "name": "python3"
  },
  "language_info": {
   "codemirror_mode": {
    "name": "ipython",
    "version": 3
   },
   "file_extension": ".py",
   "mimetype": "text/x-python",
   "name": "python",
   "nbconvert_exporter": "python",
   "pygments_lexer": "ipython3",
   "version": "3.7.3"
  }
 },
 "nbformat": 4,
 "nbformat_minor": 4
}
