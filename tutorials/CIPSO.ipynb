{
 "cells": [
  {
   "cell_type": "code",
   "execution_count": 1,
   "metadata": {},
   "outputs": [],
   "source": [
    "import sys\n",
    "#add the path were the models are\n",
    "sys.path.append(\"../inProduction/\")\n",
    "sys.path.append(\"../main/\")\n",
    "import pandas as pd\n",
    "import numpy as np\n",
    "from functools import reduce\n",
    "from modelos import SIR, EXP, SEIR_PSO\n",
    "from bootstrap import bootstrapTS as bsTS\n",
    "import matplotlib.pyplot as plt\n",
    "#set default theme for plts\n",
    "import time"
   ]
  },
  {
   "cell_type": "code",
   "execution_count": 2,
   "metadata": {},
   "outputs": [],
   "source": [
    "ci = bsTS()"
   ]
  },
  {
   "cell_type": "code",
   "execution_count": 3,
   "metadata": {},
   "outputs": [
    {
     "data": {
      "text/html": [
       "<div>\n",
       "<style scoped>\n",
       "    .dataframe tbody tr th:only-of-type {\n",
       "        vertical-align: middle;\n",
       "    }\n",
       "\n",
       "    .dataframe tbody tr th {\n",
       "        vertical-align: top;\n",
       "    }\n",
       "\n",
       "    .dataframe thead th {\n",
       "        text-align: right;\n",
       "    }\n",
       "</style>\n",
       "<table border=\"1\" class=\"dataframe\">\n",
       "  <thead>\n",
       "    <tr style=\"text-align: right;\">\n",
       "      <th></th>\n",
       "      <th>regiao</th>\n",
       "      <th>estado</th>\n",
       "      <th>data</th>\n",
       "      <th>casosNovos</th>\n",
       "      <th>casosAcumulados</th>\n",
       "      <th>obitosNovos</th>\n",
       "      <th>obitosAcumulados</th>\n",
       "    </tr>\n",
       "  </thead>\n",
       "  <tbody>\n",
       "    <tr>\n",
       "      <th>0</th>\n",
       "      <td>Norte</td>\n",
       "      <td>RO</td>\n",
       "      <td>2020-01-30</td>\n",
       "      <td>0</td>\n",
       "      <td>0</td>\n",
       "      <td>0</td>\n",
       "      <td>0</td>\n",
       "    </tr>\n",
       "    <tr>\n",
       "      <th>1</th>\n",
       "      <td>Norte</td>\n",
       "      <td>RO</td>\n",
       "      <td>2020-01-31</td>\n",
       "      <td>0</td>\n",
       "      <td>0</td>\n",
       "      <td>0</td>\n",
       "      <td>0</td>\n",
       "    </tr>\n",
       "    <tr>\n",
       "      <th>2</th>\n",
       "      <td>Norte</td>\n",
       "      <td>RO</td>\n",
       "      <td>2020-02-01</td>\n",
       "      <td>0</td>\n",
       "      <td>0</td>\n",
       "      <td>0</td>\n",
       "      <td>0</td>\n",
       "    </tr>\n",
       "    <tr>\n",
       "      <th>3</th>\n",
       "      <td>Norte</td>\n",
       "      <td>RO</td>\n",
       "      <td>2020-02-02</td>\n",
       "      <td>0</td>\n",
       "      <td>0</td>\n",
       "      <td>0</td>\n",
       "      <td>0</td>\n",
       "    </tr>\n",
       "    <tr>\n",
       "      <th>4</th>\n",
       "      <td>Norte</td>\n",
       "      <td>RO</td>\n",
       "      <td>2020-02-03</td>\n",
       "      <td>0</td>\n",
       "      <td>0</td>\n",
       "      <td>0</td>\n",
       "      <td>0</td>\n",
       "    </tr>\n",
       "  </tbody>\n",
       "</table>\n",
       "</div>"
      ],
      "text/plain": [
       "  regiao estado        data  casosNovos  casosAcumulados  obitosNovos  \\\n",
       "0  Norte     RO  2020-01-30           0                0            0   \n",
       "1  Norte     RO  2020-01-31           0                0            0   \n",
       "2  Norte     RO  2020-02-01           0                0            0   \n",
       "3  Norte     RO  2020-02-02           0                0            0   \n",
       "4  Norte     RO  2020-02-03           0                0            0   \n",
       "\n",
       "   obitosAcumulados  \n",
       "0                 0  \n",
       "1                 0  \n",
       "2                 0  \n",
       "3                 0  \n",
       "4                 0  "
      ]
     },
     "execution_count": 3,
     "metadata": {},
     "output_type": "execute_result"
    }
   ],
   "source": [
    "data = pd.read_csv(\"../data/dadosCovid.csv\")\n",
    "data.head()"
   ]
  },
  {
   "cell_type": "code",
   "execution_count": 4,
   "metadata": {},
   "outputs": [
    {
     "data": {
      "text/html": [
       "<div>\n",
       "<style scoped>\n",
       "    .dataframe tbody tr th:only-of-type {\n",
       "        vertical-align: middle;\n",
       "    }\n",
       "\n",
       "    .dataframe tbody tr th {\n",
       "        vertical-align: top;\n",
       "    }\n",
       "\n",
       "    .dataframe thead th {\n",
       "        text-align: right;\n",
       "    }\n",
       "</style>\n",
       "<table border=\"1\" class=\"dataframe\">\n",
       "  <thead>\n",
       "    <tr style=\"text-align: right;\">\n",
       "      <th></th>\n",
       "      <th>regiao</th>\n",
       "      <th>estado</th>\n",
       "      <th>data</th>\n",
       "      <th>casosNovos</th>\n",
       "      <th>casosAcumulados</th>\n",
       "      <th>obitosNovos</th>\n",
       "      <th>obitosAcumulados</th>\n",
       "    </tr>\n",
       "  </thead>\n",
       "  <tbody>\n",
       "    <tr>\n",
       "      <th>1501</th>\n",
       "      <td>Sudeste</td>\n",
       "      <td>SP</td>\n",
       "      <td>2020-02-26</td>\n",
       "      <td>1</td>\n",
       "      <td>1</td>\n",
       "      <td>0</td>\n",
       "      <td>0</td>\n",
       "    </tr>\n",
       "    <tr>\n",
       "      <th>1502</th>\n",
       "      <td>Sudeste</td>\n",
       "      <td>SP</td>\n",
       "      <td>2020-02-27</td>\n",
       "      <td>0</td>\n",
       "      <td>1</td>\n",
       "      <td>0</td>\n",
       "      <td>0</td>\n",
       "    </tr>\n",
       "    <tr>\n",
       "      <th>1503</th>\n",
       "      <td>Sudeste</td>\n",
       "      <td>SP</td>\n",
       "      <td>2020-02-28</td>\n",
       "      <td>0</td>\n",
       "      <td>1</td>\n",
       "      <td>0</td>\n",
       "      <td>0</td>\n",
       "    </tr>\n",
       "    <tr>\n",
       "      <th>1504</th>\n",
       "      <td>Sudeste</td>\n",
       "      <td>SP</td>\n",
       "      <td>2020-02-29</td>\n",
       "      <td>1</td>\n",
       "      <td>2</td>\n",
       "      <td>0</td>\n",
       "      <td>0</td>\n",
       "    </tr>\n",
       "    <tr>\n",
       "      <th>1505</th>\n",
       "      <td>Sudeste</td>\n",
       "      <td>SP</td>\n",
       "      <td>2020-03-01</td>\n",
       "      <td>0</td>\n",
       "      <td>2</td>\n",
       "      <td>0</td>\n",
       "      <td>0</td>\n",
       "    </tr>\n",
       "  </tbody>\n",
       "</table>\n",
       "</div>"
      ],
      "text/plain": [
       "       regiao estado        data  casosNovos  casosAcumulados  obitosNovos  \\\n",
       "1501  Sudeste     SP  2020-02-26           1                1            0   \n",
       "1502  Sudeste     SP  2020-02-27           0                1            0   \n",
       "1503  Sudeste     SP  2020-02-28           0                1            0   \n",
       "1504  Sudeste     SP  2020-02-29           1                2            0   \n",
       "1505  Sudeste     SP  2020-03-01           0                2            0   \n",
       "\n",
       "      obitosAcumulados  \n",
       "1501                 0  \n",
       "1502                 0  \n",
       "1503                 0  \n",
       "1504                 0  \n",
       "1505                 0  "
      ]
     },
     "execution_count": 4,
     "metadata": {},
     "output_type": "execute_result"
    }
   ],
   "source": [
    "#Select only Sao Paulo\n",
    "sp = data[data[\"estado\"] == \"SP\"]\n",
    "#Remove missing values to not crash the intervals\n",
    "sp = sp.dropna()\n",
    "sp.head()"
   ]
  },
  {
   "cell_type": "code",
   "execution_count": 5,
   "metadata": {},
   "outputs": [],
   "source": [
    "#create a series with the cummulative number of cases\n",
    "y = np.array(sp[\"casosAcumulados\"])\n",
    "\n",
    "#Give the number of days since the day of first case confirmed\n",
    "x = range(0,len(sp[\"casosAcumulados\"]))"
   ]
  },
  {
   "cell_type": "markdown",
   "metadata": {},
   "source": [
    "<h1>Exponencial Model</h1>"
   ]
  },
  {
   "cell_type": "code",
   "execution_count": 6,
   "metadata": {},
   "outputs": [],
   "source": [
    "exp = EXP(50000000)"
   ]
  },
  {
   "cell_type": "code",
   "execution_count": 7,
   "metadata": {},
   "outputs": [
    {
     "name": "stderr",
     "output_type": "stream",
     "text": [
      "pyswarms.single.global_best: 100%|██████████|500/500, best_cost=0.414\n",
      "pyswarms.single.global_best: 100%|██████████|500/500, best_cost=0.299\n",
      "pyswarms.single.global_best: 100%|██████████|500/500, best_cost=0.305\n",
      "pyswarms.single.global_best: 100%|██████████|500/500, best_cost=0.36\n",
      "pyswarms.single.global_best: 100%|██████████|500/500, best_cost=0.447\n",
      "pyswarms.single.global_best: 100%|██████████|500/500, best_cost=0.282\n",
      "pyswarms.single.global_best: 100%|██████████|500/500, best_cost=0.302\n",
      "pyswarms.single.global_best: 100%|██████████|500/500, best_cost=0.301\n",
      "pyswarms.single.global_best: 100%|██████████|500/500, best_cost=0.301\n",
      "pyswarms.single.global_best: 100%|██████████|500/500, best_cost=0.353\n",
      "pyswarms.single.global_best: 100%|██████████|500/500, best_cost=0.313\n",
      "pyswarms.single.global_best: 100%|██████████|500/500, best_cost=0.411\n",
      "pyswarms.single.global_best: 100%|██████████|500/500, best_cost=0.382\n",
      "pyswarms.single.global_best: 100%|██████████|500/500, best_cost=0.48\n",
      "pyswarms.single.global_best: 100%|██████████|500/500, best_cost=0.409\n",
      "pyswarms.single.global_best: 100%|██████████|500/500, best_cost=0.4\n",
      "pyswarms.single.global_best: 100%|██████████|500/500, best_cost=0.396\n",
      "pyswarms.single.global_best: 100%|██████████|500/500, best_cost=0.27\n",
      "pyswarms.single.global_best: 100%|██████████|500/500, best_cost=0.277\n",
      "pyswarms.single.global_best: 100%|██████████|500/500, best_cost=0.279\n"
     ]
    }
   ],
   "source": [
    "results = ci.single_core_CI(model = exp, \n",
    "                            y = y, \n",
    "                            x = x, \n",
    "                            ndays = 110,\n",
    "                            bootstrap = 20, \n",
    "                            simulation = \"Gamma_Poisson\", \n",
    "                            method = \"approximation\",\n",
    "                            model_name = \"exponencial\")"
   ]
  },
  {
   "cell_type": "code",
   "execution_count": 13,
   "metadata": {},
   "outputs": [
    {
     "data": {
      "text/plain": [
       "array([3.32522683e+04, 3.96251905e+04, 4.74203880e+04, 5.69558180e+04,\n",
       "       6.86206380e+04, 8.28911763e+04, 1.00350490e+05, 1.21712321e+05,\n",
       "       1.47850429e+05, 1.79834534e+05, 2.18974329e+05, 2.66873406e+05,\n",
       "       3.25495310e+05, 3.97244469e+05, 4.85065347e+05, 5.92563926e+05,\n",
       "       7.24156568e+05, 8.85252416e+05, 1.08247692e+06, 1.32394577e+06,\n",
       "       1.61960062e+06, 1.98162052e+06, 2.42492630e+06, 2.96779867e+06,\n",
       "       3.63263602e+06, 4.44688332e+06, 5.44417090e+06, 6.66571053e+06,\n",
       "       8.16200718e+06, 9.99495771e+06, 1.22404243e+07, 1.49913898e+07,\n",
       "       1.83618278e+07, 2.24914474e+07, 2.75515136e+07, 3.37519846e+07,\n",
       "       4.13502664e+07, 5.06619508e+07, 6.20739868e+07, 7.60608380e+07,\n",
       "       9.32043031e+07, 1.14217831e+08, 1.39976356e+08, 1.71552891e+08,\n",
       "       2.10263446e+08, 2.57722121e+08, 3.15908723e+08, 3.87251740e+08,\n",
       "       4.74730156e+08, 5.81998406e+08, 7.13539736e+08, 8.74854413e+08,\n",
       "       1.07269074e+09, 1.31532863e+09, 1.61292762e+09, 1.97795418e+09,\n",
       "       2.42570616e+09, 2.97495671e+09, 3.64874473e+09, 4.47534544e+09,\n",
       "       5.48946189e+09, 6.73368807e+09, 8.26030535e+09, 1.01334884e+10,\n",
       "       1.24320141e+10, 1.52525880e+10, 1.87139294e+10, 2.29617886e+10,\n",
       "       2.81751089e+10, 3.45735942e+10, 4.24270047e+10, 5.20665747e+10,\n",
       "       6.38990372e+10, 7.84238520e+10, 9.62543690e+10, 1.18143827e+11,\n",
       "       1.45017295e+11, 1.78010910e+11, 2.18520092e+11, 2.68258776e+11,\n",
       "       3.29332196e+11, 4.04326314e+11, 4.96417705e+11, 6.09508598e+11,\n",
       "       7.48392808e+11, 9.18959655e+11, 1.12844458e+12, 1.38573711e+12,\n",
       "       1.70175942e+12, 2.08993155e+12, 2.56674319e+12, 3.15245656e+12,\n",
       "       3.87197031e+12, 4.75588143e+12, 5.84179067e+12, 7.17590719e+12,\n",
       "       8.81502131e+12, 1.08289296e+13, 1.33034163e+13, 1.63439192e+13,\n",
       "       2.00800357e+13, 2.46710644e+13, 3.03128177e+13, 3.72459987e+13,\n",
       "       4.57665019e+13, 5.62380788e+13, 6.91079130e+13, 8.49257730e+13,\n",
       "       1.04367565e+14, 1.28264300e+14])"
      ]
     },
     "execution_count": 13,
     "metadata": {},
     "output_type": "execute_result"
    }
   ],
   "source": [
    "results[4]"
   ]
  },
  {
   "cell_type": "markdown",
   "metadata": {},
   "source": [
    "<h1>SIR with beta variante</h1>"
   ]
  },
  {
   "cell_type": "code",
   "execution_count": null,
   "metadata": {},
   "outputs": [],
   "source": [
    "sir = SIR(50000000)"
   ]
  },
  {
   "cell_type": "code",
   "execution_count": null,
   "metadata": {},
   "outputs": [],
   "source": [
    "results = ci.single_core_CI(model = sir, \n",
    "                             y = y, \n",
    "                             x = x, \n",
    "                             ndays = 300,\n",
    "                             bootstrap = 1, \n",
    "                             simulation = \"Gamma_Poisson\", \n",
    "                             method = \"approximation\",\n",
    "                             model_name = \"SIR\")"
   ]
  },
  {
   "cell_type": "code",
   "execution_count": null,
   "metadata": {},
   "outputs": [],
   "source": [
    "fig, axes = plt.subplots(nrows = 1, ncols = 1, figsize = (18,12))\n",
    "axes.plot(range(340,352), results[5][288:], \"--\", c = \"red\")\n",
    "axes.plot(range(340,352), results[6][288:], \"--\", c = \"red\")"
   ]
  },
  {
   "cell_type": "code",
   "execution_count": null,
   "metadata": {},
   "outputs": [],
   "source": [
    "results[4][58] - results[6][6]"
   ]
  }
 ],
 "metadata": {
  "kernelspec": {
   "display_name": "Python 3",
   "language": "python",
   "name": "python3"
  },
  "language_info": {
   "codemirror_mode": {
    "name": "ipython",
    "version": 3
   },
   "file_extension": ".py",
   "mimetype": "text/x-python",
   "name": "python",
   "nbconvert_exporter": "python",
   "pygments_lexer": "ipython3",
   "version": "3.7.3"
  }
 },
 "nbformat": 4,
 "nbformat_minor": 4
}
