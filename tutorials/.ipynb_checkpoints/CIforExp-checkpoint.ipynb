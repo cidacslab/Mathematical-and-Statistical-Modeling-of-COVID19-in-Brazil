{
 "cells": [
  {
   "cell_type": "code",
   "execution_count": 1,
   "metadata": {},
   "outputs": [],
   "source": [
    "import sys\n",
    "#add the path were the models are\n",
    "sys.path.append(\"../inProduction/\")\n",
    "from modelExp import EXP\n",
    "import pandas as pd\n",
    "from plotnine import *"
   ]
  },
  {
   "cell_type": "code",
   "execution_count": 2,
   "metadata": {},
   "outputs": [],
   "source": [
    "data = pd.read_csv(\"../data/estados.csv\")\n",
    "#Select only Sao Paulo\n",
    "sp = data[data[\"state\"] == \"SP\"]\n",
    "#Remove missing values to not crash the intervals\n",
    "sp = sp.dropna()\n",
    "#create a series with the cummulative number of cases\n",
    "y = sp[\"TOTAL\"]\n",
    "\n",
    "#Give the number of days since the day of first case confirmed\n",
    "x = range(0,len(sp[\"newCases\"]))"
   ]
  },
  {
   "cell_type": "code",
   "execution_count": 3,
   "metadata": {},
   "outputs": [],
   "source": [
    "model = EXP(N_inicial = 50000000)"
   ]
  },
  {
   "cell_type": "code",
   "execution_count": 4,
   "metadata": {},
   "outputs": [
    {
     "name": "stderr",
     "output_type": "stream",
     "text": [
      "2020-04-14 15:58:53,750 - pyswarms.single.global_best - INFO - Optimize for 500 iters with {'c1': 0.5, 'c2': 0.3, 'w': 0.9}\n",
      "2020-04-14 15:58:53,752 - pyswarms.single.global_best - INFO - Optimize for 500 iters with {'c1': 0.5, 'c2': 0.3, 'w': 0.9}\n",
      "2020-04-14 15:58:53,752 - pyswarms.single.global_best - INFO - Optimize for 500 iters with {'c1': 0.5, 'c2': 0.3, 'w': 0.9}\n",
      "2020-04-14 15:58:53,752 - pyswarms.single.global_best - INFO - Optimize for 500 iters with {'c1': 0.5, 'c2': 0.3, 'w': 0.9}\n",
      "2020-04-14 15:58:53,752 - pyswarms.single.global_best - INFO - Optimize for 500 iters with {'c1': 0.5, 'c2': 0.3, 'w': 0.9}\n",
      "pyswarms.single.global_best:  89%|████████▉ |446/500, best_cost=3.8e+33\n",
      "pyswarms.single.global_best:  94%|█████████▎|468/500, best_cost=3.42e+32020-04-14 15:58:55,458 - pyswarms.single.global_best - INFO - Optimization finished | best cost: 3776.7124215227386, best pos: [9.1561492  0.15594449]\n",
      "pyswarms.single.global_best: 100%|██████████|500/500, best_cost=3.8e+33\n",
      "pyswarms.single.global_best:  92%|█████████▏|459/500, best_cost=3.59e+32020-04-14 15:58:55,521 - pyswarms.single.global_best - INFO - Optimization finished | best cost: 3800.2727548485163, best pos: [8.13370958 0.16043532]\n",
      "pyswarms.single.global_best: 100%|██████████|500/500, best_cost=3.42e+3\n",
      "pyswarms.single.global_best:  91%|█████████ |454/500, best_cost=4.82e+32020-04-14 15:58:55,544 - pyswarms.single.global_best - INFO - Optimization finished | best cost: 3416.3034219381393, best pos: [9.23557224 0.15526121]\n",
      "pyswarms.single.global_best: 100%|██████████|500/500, best_cost=3.59e+3\n",
      "pyswarms.single.global_best:  98%|█████████▊|491/500, best_cost=4.82e+32020-04-14 15:58:55,562 - pyswarms.single.global_best - INFO - Optimization finished | best cost: 3587.297679376709, best pos: [8.20421273 0.15795317]\n",
      "pyswarms.single.global_best: 100%|██████████|500/500, best_cost=4.82e+3\n",
      "2020-04-14 15:58:55,567 - pyswarms.single.global_best - INFO - Optimization finished | best cost: 4822.508237937944, best pos: [8.81197551 0.15813654]\n"
     ]
    }
   ],
   "source": [
    "results = model.fit_predictCI(x = x, y = y, ndays = 7, bootstrap = 5)"
   ]
  },
  {
   "cell_type": "code",
   "execution_count": 5,
   "metadata": {},
   "outputs": [
    {
     "data": {
      "text/plain": [
       "{'a': [8.811975506924703,\n",
       "  8.204212729245773,\n",
       "  9.235572235409165,\n",
       "  9.156149204694355,\n",
       "  8.13370957640486],\n",
       " 'b': [0.15813654152979276,\n",
       "  0.15795316640520293,\n",
       "  0.1552612120740826,\n",
       "  0.15594449153457599,\n",
       "  0.16043531563243493],\n",
       " 'lim_inf': array([8.14146492e+00, 9.55563094e+00, 1.12154433e+01, 1.31635728e+01,\n",
       "        1.54344695e+01, 1.80804295e+01, 2.11800041e+01, 2.48109619e+01,\n",
       "        2.90644043e+01, 3.40470521e+01, 3.98839230e+01, 4.67214689e+01,\n",
       "        5.47312508e+01, 6.41142438e+01, 7.51058805e+01, 8.79819589e+01,\n",
       "        1.03065563e+02, 1.20735171e+02, 1.41434152e+02, 1.65681894e+02,\n",
       "        1.94086837e+02, 2.27361739e+02, 2.66341568e+02, 3.12004455e+02,\n",
       "        3.65496236e+02, 4.28045412e+02, 5.01133720e+02, 5.86702212e+02,\n",
       "        6.86882014e+02, 8.04168174e+02, 9.41481817e+02, 1.10224290e+03,\n",
       "        1.29045540e+03, 1.51080705e+03, 1.76878613e+03, 2.07081813e+03,\n",
       "        2.42442585e+03, 2.83841680e+03, 3.32310254e+03, 3.89055563e+03,\n",
       "        4.55491029e+03, 5.33271454e+03, 6.24334242e+03, 7.30947665e+03,\n",
       "        8.55746549e+03, 9.99776680e+03, 1.16804926e+04, 1.36464479e+04,\n",
       "        1.59433066e+04, 1.86267670e+04, 2.17619035e+04, 2.54247440e+04,\n",
       "        2.97041145e+04, 3.47037930e+04, 4.05450269e+04, 4.73657343e+04,\n",
       "        5.53256932e+04, 6.46233510e+04, 7.54835132e+04, 8.81687647e+04,\n",
       "        1.02985819e+05, 1.20292935e+05, 1.40508576e+05, 1.64121533e+05,\n",
       "        1.91702739e+05, 2.23919074e+05, 2.61549494e+05, 3.05503857e+05,\n",
       "        3.56844932e+05, 4.16814086e+05, 4.86861310e+05, 5.68680267e+05,\n",
       "        6.64249254e+05, 7.75879027e+05, 9.06268676e+05]),\n",
       " 'med': array([8.81197551e+00, 1.03216971e+01, 1.20900734e+01, 1.41614187e+01,\n",
       "        1.65876396e+01, 1.94295355e+01, 2.27583224e+01, 2.66574174e+01,\n",
       "        3.12245293e+01, 3.65741067e+01, 4.28402065e+01, 5.01798527e+01,\n",
       "        5.87769721e+01, 6.88470026e+01, 8.06422923e+01, 9.44584233e+01,\n",
       "        1.10641618e+02, 1.29347578e+02, 1.51073186e+02, 1.76447892e+02,\n",
       "        2.06084611e+02, 2.40699202e+02, 2.81127764e+02, 3.28346828e+02,\n",
       "        3.83496949e+02, 4.48944824e+02, 5.27071023e+02, 6.17035753e+02,\n",
       "        7.21167525e+02, 8.42872712e+02, 9.85117028e+02, 1.15136668e+03,\n",
       "        1.34567285e+03, 1.57277038e+03, 1.83819320e+03, 2.14840912e+03,\n",
       "        2.51097749e+03, 2.93473337e+03, 3.43000287e+03, 4.00885470e+03,\n",
       "        4.68539433e+03, 5.47610768e+03, 6.40026287e+03, 7.48037972e+03,\n",
       "        8.74277851e+03, 1.02182214e+04, 1.19426620e+04, 1.39581214e+04,\n",
       "        1.63137125e+04, 1.90668363e+04, 2.22845808e+04, 2.60453562e+04,\n",
       "        3.04408050e+04, 3.55780356e+04, 4.15822320e+04, 4.86336969e+04,\n",
       "        5.69554743e+04, 6.67012021e+04, 7.81145346e+04, 9.14808178e+04,\n",
       "        1.07134224e+05, 1.25466105e+05, 1.46934779e+05, 1.72076987e+05,\n",
       "        2.01521312e+05, 2.36003895e+05, 2.76386839e+05, 3.23679763e+05,\n",
       "        3.79065042e+05, 4.43927372e+05, 5.19888382e+05, 6.08847183e+05,\n",
       "        7.13027844e+05, 8.35034999e+05, 9.77918961e+05]),\n",
       " 'lim_sup': array([9.22762993e+00, 1.07782614e+01, 1.25894649e+01, 1.47050277e+01,\n",
       "        1.71760954e+01, 2.00624079e+01, 2.34337444e+01, 2.73716097e+01,\n",
       "        3.19712052e+01, 3.73437300e+01, 4.36190698e+01, 5.09489364e+01,\n",
       "        5.95105362e+01, 6.95245213e+01, 8.12520226e+01, 9.49577406e+01,\n",
       "        1.10975365e+02, 1.29719858e+02, 1.51783501e+02, 1.77749090e+02,\n",
       "        2.08156699e+02, 2.43766256e+02, 2.85467694e+02, 3.34303200e+02,\n",
       "        3.91493257e+02, 4.58467152e+02, 5.36898695e+02, 6.28923772e+02,\n",
       "        7.36841650e+02, 8.63277707e+02, 1.01140964e+03, 1.18496046e+03,\n",
       "        1.38829203e+03, 1.62651477e+03, 1.90561602e+03, 2.23325826e+03,\n",
       "        2.62129212e+03, 3.07674924e+03, 3.61134506e+03, 4.23883077e+03,\n",
       "        4.97534698e+03, 5.83983900e+03, 6.85454416e+03, 8.04556387e+03,\n",
       "        9.44353509e+03, 1.10844185e+04, 1.30104234e+04, 1.52710940e+04,\n",
       "        1.79245835e+04, 2.10391503e+04, 2.46949142e+04, 2.89859172e+04,\n",
       "        3.40225431e+04, 3.99343573e+04, 4.68734398e+04, 5.50182979e+04,\n",
       "        6.45784586e+04, 7.57998589e+04, 8.89711735e+04, 1.04431241e+05,\n",
       "        1.22577781e+05, 1.43877628e+05, 1.68878739e+05, 1.98224296e+05,\n",
       "        2.32669249e+05, 2.73099740e+05, 3.20555904e+05, 3.76258630e+05,\n",
       "        4.41640968e+05, 5.18385005e+05, 6.08465141e+05, 7.14198885e+05,\n",
       "        8.38306485e+05, 9.83980919e+05, 1.15497004e+06])}"
      ]
     },
     "execution_count": 5,
     "metadata": {},
     "output_type": "execute_result"
    }
   ],
   "source": [
    "results"
   ]
  },
  {
   "cell_type": "code",
   "execution_count": null,
   "metadata": {},
   "outputs": [],
   "source": []
  },
  {
   "cell_type": "code",
   "execution_count": null,
   "metadata": {},
   "outputs": [],
   "source": []
  }
 ],
 "metadata": {
  "kernelspec": {
   "display_name": "Python 3",
   "language": "python",
   "name": "python3"
  },
  "language_info": {
   "codemirror_mode": {
    "name": "ipython",
    "version": 3
   },
   "file_extension": ".py",
   "mimetype": "text/x-python",
   "name": "python",
   "nbconvert_exporter": "python",
   "pygments_lexer": "ipython3",
   "version": "3.7.3"
  }
 },
 "nbformat": 4,
 "nbformat_minor": 4
}
