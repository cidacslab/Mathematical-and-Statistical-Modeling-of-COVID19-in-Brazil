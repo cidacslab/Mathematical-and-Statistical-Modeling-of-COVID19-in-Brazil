{
 "cells": [
  {
   "cell_type": "code",
   "execution_count": 1,
   "metadata": {},
   "outputs": [],
   "source": [
    "import sys\n",
    "#add the path were the models are\n",
    "sys.path.append(\"../inProduction/\")\n",
    "import pandas as pd\n",
    "import numpy as np\n",
    "from functools import reduce\n",
    "from sirGA import SIR_GA\n",
    "from sirPSO import SIR_PSO\n",
    "from bootstrap import bootstrapTS as bsTS\n",
    "import matplotlib.pyplot as plt\n",
    "#set default theme for plts"
   ]
  },
  {
   "cell_type": "code",
   "execution_count": 2,
   "metadata": {},
   "outputs": [
    {
     "data": {
      "text/html": [
       "<div>\n",
       "<style scoped>\n",
       "    .dataframe tbody tr th:only-of-type {\n",
       "        vertical-align: middle;\n",
       "    }\n",
       "\n",
       "    .dataframe tbody tr th {\n",
       "        vertical-align: top;\n",
       "    }\n",
       "\n",
       "    .dataframe thead th {\n",
       "        text-align: right;\n",
       "    }\n",
       "</style>\n",
       "<table border=\"1\" class=\"dataframe\">\n",
       "  <thead>\n",
       "    <tr style=\"text-align: right;\">\n",
       "      <th></th>\n",
       "      <th>regiao</th>\n",
       "      <th>estado</th>\n",
       "      <th>data</th>\n",
       "      <th>casosNovos</th>\n",
       "      <th>casosAcumulados</th>\n",
       "      <th>obitosNovos</th>\n",
       "      <th>obitosAcumulados</th>\n",
       "    </tr>\n",
       "  </thead>\n",
       "  <tbody>\n",
       "    <tr>\n",
       "      <th>0</th>\n",
       "      <td>Norte</td>\n",
       "      <td>RO</td>\n",
       "      <td>2020-01-30</td>\n",
       "      <td>0</td>\n",
       "      <td>0</td>\n",
       "      <td>0</td>\n",
       "      <td>0</td>\n",
       "    </tr>\n",
       "    <tr>\n",
       "      <th>1</th>\n",
       "      <td>Norte</td>\n",
       "      <td>RO</td>\n",
       "      <td>2020-01-31</td>\n",
       "      <td>0</td>\n",
       "      <td>0</td>\n",
       "      <td>0</td>\n",
       "      <td>0</td>\n",
       "    </tr>\n",
       "    <tr>\n",
       "      <th>2</th>\n",
       "      <td>Norte</td>\n",
       "      <td>RO</td>\n",
       "      <td>2020-02-01</td>\n",
       "      <td>0</td>\n",
       "      <td>0</td>\n",
       "      <td>0</td>\n",
       "      <td>0</td>\n",
       "    </tr>\n",
       "    <tr>\n",
       "      <th>3</th>\n",
       "      <td>Norte</td>\n",
       "      <td>RO</td>\n",
       "      <td>2020-02-02</td>\n",
       "      <td>0</td>\n",
       "      <td>0</td>\n",
       "      <td>0</td>\n",
       "      <td>0</td>\n",
       "    </tr>\n",
       "    <tr>\n",
       "      <th>4</th>\n",
       "      <td>Norte</td>\n",
       "      <td>RO</td>\n",
       "      <td>2020-02-03</td>\n",
       "      <td>0</td>\n",
       "      <td>0</td>\n",
       "      <td>0</td>\n",
       "      <td>0</td>\n",
       "    </tr>\n",
       "  </tbody>\n",
       "</table>\n",
       "</div>"
      ],
      "text/plain": [
       "  regiao estado        data  casosNovos  casosAcumulados  obitosNovos  \\\n",
       "0  Norte     RO  2020-01-30           0                0            0   \n",
       "1  Norte     RO  2020-01-31           0                0            0   \n",
       "2  Norte     RO  2020-02-01           0                0            0   \n",
       "3  Norte     RO  2020-02-02           0                0            0   \n",
       "4  Norte     RO  2020-02-03           0                0            0   \n",
       "\n",
       "   obitosAcumulados  \n",
       "0                 0  \n",
       "1                 0  \n",
       "2                 0  \n",
       "3                 0  \n",
       "4                 0  "
      ]
     },
     "execution_count": 2,
     "metadata": {},
     "output_type": "execute_result"
    }
   ],
   "source": [
    "data = pd.read_csv(\"../data/dadosCovid.csv\")\n",
    "data.head()"
   ]
  },
  {
   "cell_type": "code",
   "execution_count": 3,
   "metadata": {},
   "outputs": [
    {
     "data": {
      "text/html": [
       "<div>\n",
       "<style scoped>\n",
       "    .dataframe tbody tr th:only-of-type {\n",
       "        vertical-align: middle;\n",
       "    }\n",
       "\n",
       "    .dataframe tbody tr th {\n",
       "        vertical-align: top;\n",
       "    }\n",
       "\n",
       "    .dataframe thead th {\n",
       "        text-align: right;\n",
       "    }\n",
       "</style>\n",
       "<table border=\"1\" class=\"dataframe\">\n",
       "  <thead>\n",
       "    <tr style=\"text-align: right;\">\n",
       "      <th></th>\n",
       "      <th>regiao</th>\n",
       "      <th>estado</th>\n",
       "      <th>data</th>\n",
       "      <th>casosNovos</th>\n",
       "      <th>casosAcumulados</th>\n",
       "      <th>obitosNovos</th>\n",
       "      <th>obitosAcumulados</th>\n",
       "    </tr>\n",
       "  </thead>\n",
       "  <tbody>\n",
       "    <tr>\n",
       "      <th>1501</th>\n",
       "      <td>Sudeste</td>\n",
       "      <td>SP</td>\n",
       "      <td>2020-02-26</td>\n",
       "      <td>1</td>\n",
       "      <td>1</td>\n",
       "      <td>0</td>\n",
       "      <td>0</td>\n",
       "    </tr>\n",
       "    <tr>\n",
       "      <th>1502</th>\n",
       "      <td>Sudeste</td>\n",
       "      <td>SP</td>\n",
       "      <td>2020-02-27</td>\n",
       "      <td>0</td>\n",
       "      <td>1</td>\n",
       "      <td>0</td>\n",
       "      <td>0</td>\n",
       "    </tr>\n",
       "    <tr>\n",
       "      <th>1503</th>\n",
       "      <td>Sudeste</td>\n",
       "      <td>SP</td>\n",
       "      <td>2020-02-28</td>\n",
       "      <td>0</td>\n",
       "      <td>1</td>\n",
       "      <td>0</td>\n",
       "      <td>0</td>\n",
       "    </tr>\n",
       "    <tr>\n",
       "      <th>1504</th>\n",
       "      <td>Sudeste</td>\n",
       "      <td>SP</td>\n",
       "      <td>2020-02-29</td>\n",
       "      <td>1</td>\n",
       "      <td>2</td>\n",
       "      <td>0</td>\n",
       "      <td>0</td>\n",
       "    </tr>\n",
       "    <tr>\n",
       "      <th>1505</th>\n",
       "      <td>Sudeste</td>\n",
       "      <td>SP</td>\n",
       "      <td>2020-03-01</td>\n",
       "      <td>0</td>\n",
       "      <td>2</td>\n",
       "      <td>0</td>\n",
       "      <td>0</td>\n",
       "    </tr>\n",
       "  </tbody>\n",
       "</table>\n",
       "</div>"
      ],
      "text/plain": [
       "       regiao estado        data  casosNovos  casosAcumulados  obitosNovos  \\\n",
       "1501  Sudeste     SP  2020-02-26           1                1            0   \n",
       "1502  Sudeste     SP  2020-02-27           0                1            0   \n",
       "1503  Sudeste     SP  2020-02-28           0                1            0   \n",
       "1504  Sudeste     SP  2020-02-29           1                2            0   \n",
       "1505  Sudeste     SP  2020-03-01           0                2            0   \n",
       "\n",
       "      obitosAcumulados  \n",
       "1501                 0  \n",
       "1502                 0  \n",
       "1503                 0  \n",
       "1504                 0  \n",
       "1505                 0  "
      ]
     },
     "execution_count": 3,
     "metadata": {},
     "output_type": "execute_result"
    }
   ],
   "source": [
    "#Select only Sao Paulo\n",
    "sp = data[data[\"estado\"] == \"SP\"]\n",
    "#Remove missing values to not crash the intervals\n",
    "sp = sp.dropna()\n",
    "sp.head()"
   ]
  },
  {
   "cell_type": "code",
   "execution_count": 4,
   "metadata": {},
   "outputs": [],
   "source": [
    "#create a series with the cummulative number of cases\n",
    "y = np.array(sp[\"casosAcumulados\"])\n",
    "\n",
    "#Give the number of days since the day of first case confirmed\n",
    "x = range(0,len(sp[\"casosAcumulados\"]))"
   ]
  },
  {
   "cell_type": "code",
   "execution_count": 5,
   "metadata": {},
   "outputs": [
    {
     "data": {
      "text/plain": [
       "52"
      ]
     },
     "execution_count": 5,
     "metadata": {},
     "output_type": "execute_result"
    }
   ],
   "source": [
    "len(y)"
   ]
  },
  {
   "cell_type": "code",
   "execution_count": 6,
   "metadata": {},
   "outputs": [],
   "source": [
    "model = SIR_GA(50000000)\n",
    "ci = bsTS()"
   ]
  },
  {
   "cell_type": "code",
   "execution_count": 7,
   "metadata": {},
   "outputs": [
    {
     "name": "stderr",
     "output_type": "stream",
     "text": [
      "2020-04-17 17:24:38,764 - Platypus - INFO - NSGAII starting\n",
      "2020-04-17 17:24:52,350 - Platypus - INFO - NSGAII finished; Total NFE: 10169, Elapsed Time: 0:00:13.586518\n",
      "2020-04-17 17:24:52,352 - Platypus - INFO - NSGAII starting\n",
      "2020-04-17 17:25:05,102 - Platypus - INFO - NSGAII finished; Total NFE: 10087, Elapsed Time: 0:00:12.749573\n",
      "2020-04-17 17:25:05,103 - Platypus - INFO - NSGAII starting\n",
      "2020-04-17 17:25:16,881 - Platypus - INFO - NSGAII finished; Total NFE: 10207, Elapsed Time: 0:00:11.778108\n",
      "2020-04-17 17:25:16,883 - Platypus - INFO - NSGAII starting\n",
      "2020-04-17 17:25:28,957 - Platypus - INFO - NSGAII finished; Total NFE: 10183, Elapsed Time: 0:00:12.074057\n",
      "2020-04-17 17:25:28,958 - Platypus - INFO - NSGAII starting\n",
      "2020-04-17 17:25:40,974 - Platypus - INFO - NSGAII finished; Total NFE: 10135, Elapsed Time: 0:00:12.015254\n",
      "2020-04-17 17:25:40,975 - Platypus - INFO - NSGAII starting\n",
      "2020-04-17 17:25:50,778 - Platypus - INFO - NSGAII finished; Total NFE: 10169, Elapsed Time: 0:00:09.802212\n",
      "2020-04-17 17:25:50,779 - Platypus - INFO - NSGAII starting\n",
      "2020-04-17 17:26:00,626 - Platypus - INFO - NSGAII finished; Total NFE: 10161, Elapsed Time: 0:00:09.846792\n",
      "2020-04-17 17:26:00,627 - Platypus - INFO - NSGAII starting\n",
      "2020-04-17 17:26:10,323 - Platypus - INFO - NSGAII finished; Total NFE: 10118, Elapsed Time: 0:00:09.695152\n",
      "2020-04-17 17:26:10,324 - Platypus - INFO - NSGAII starting\n",
      "2020-04-17 17:26:23,953 - Platypus - INFO - NSGAII finished; Total NFE: 10120, Elapsed Time: 0:00:13.629095\n",
      "2020-04-17 17:26:23,955 - Platypus - INFO - NSGAII starting\n",
      "2020-04-17 17:26:39,359 - Platypus - INFO - NSGAII finished; Total NFE: 10137, Elapsed Time: 0:00:15.404739\n"
     ]
    }
   ],
   "source": [
    "results = ci.single_core_CI(model = model, y = y, x = x, start = None, ndays = 7, bootstrap = 10)"
   ]
  },
  {
   "cell_type": "code",
   "execution_count": 8,
   "metadata": {},
   "outputs": [
    {
     "data": {
      "text/plain": [
       "<matplotlib.collections.PathCollection at 0x7fc4a8fb9cf8>"
      ]
     },
     "execution_count": 8,
     "metadata": {},
     "output_type": "execute_result"
    },
    {
     "data": {
      "image/png": "[encoded data removed]",
      "text/plain": [
       "<Figure size 1296x864 with 4 Axes>"
      ]
     },
     "metadata": {
      "needs_background": "light"
     },
     "output_type": "display_data"
    }
   ],
   "source": [
    "fig, axes = plt.subplots(nrows = 2, ncols = 2, figsize = (18,12))\n",
    "axes[0,0].hist(results[0])\n",
    "axes[0,1].hist(results[1])\n",
    "axes[1,0].plot(x,results[3][0:52], \"--\", c = \"black\")\n",
    "axes[1,0].plot(x,results[2][0:52], c = \"blue\")\n",
    "axes[1,0].plot(x,results[4][0:52], \"--\", c = \"black\")\n",
    "axes[1,0].scatter(x,y, c = \"red\")"
   ]
  },
  {
   "cell_type": "code",
   "execution_count": 9,
   "metadata": {},
   "outputs": [],
   "source": [
    "model = SIR_GA(50000000)"
   ]
  },
  {
   "cell_type": "code",
   "execution_count": 10,
   "metadata": {},
   "outputs": [
    {
     "name": "stderr",
     "output_type": "stream",
     "text": [
      "2020-04-17 17:26:40,309 - Platypus - INFO - NSGAII starting\n",
      "2020-04-17 17:26:40,309 - Platypus - INFO - NSGAII starting\n",
      "2020-04-17 17:26:40,311 - Platypus - INFO - NSGAII starting\n",
      "2020-04-17 17:26:40,310 - Platypus - INFO - NSGAII starting\n",
      "2020-04-17 17:26:40,309 - Platypus - INFO - NSGAII starting\n",
      "2020-04-17 17:26:40,319 - Platypus - INFO - NSGAII starting\n",
      "2020-04-17 17:26:40,310 - Platypus - INFO - NSGAII starting\n",
      "2020-04-17 17:26:40,310 - Platypus - INFO - NSGAII starting\n",
      "2020-04-17 17:27:04,867 - Platypus - INFO - NSGAII finished; Total NFE: 10121, Elapsed Time: 0:00:24.558179\n",
      "2020-04-17 17:27:04,878 - Platypus - INFO - NSGAII starting\n",
      "2020-04-17 17:27:05,573 - Platypus - INFO - NSGAII finished; Total NFE: 10127, Elapsed Time: 0:00:25.263494\n",
      "2020-04-17 17:27:05,578 - Platypus - INFO - NSGAII starting\n",
      "2020-04-17 17:27:06,518 - Platypus - INFO - NSGAII finished; Total NFE: 10178, Elapsed Time: 0:00:26.208334\n",
      "2020-04-17 17:27:06,973 - Platypus - INFO - NSGAII finished; Total NFE: 10130, Elapsed Time: 0:00:26.663980\n",
      "2020-04-17 17:27:07,085 - Platypus - INFO - NSGAII finished; Total NFE: 10129, Elapsed Time: 0:00:26.776054\n",
      "2020-04-17 17:27:07,321 - Platypus - INFO - NSGAII finished; Total NFE: 10163, Elapsed Time: 0:00:27.010759\n",
      "2020-04-17 17:27:07,448 - Platypus - INFO - NSGAII finished; Total NFE: 10101, Elapsed Time: 0:00:27.138437\n",
      "2020-04-17 17:27:07,652 - Platypus - INFO - NSGAII finished; Total NFE: 10149, Elapsed Time: 0:00:27.333022\n",
      "2020-04-17 17:27:18,856 - Platypus - INFO - NSGAII finished; Total NFE: 10148, Elapsed Time: 0:00:13.977813\n",
      "2020-04-17 17:27:19,028 - Platypus - INFO - NSGAII finished; Total NFE: 10152, Elapsed Time: 0:00:13.450135\n"
     ]
    }
   ],
   "source": [
    "df = model.predictCI(y = y, x = x, start = \"2020-01-30\", ndays = 7, bootstrap = 10, n_jobs = 8)"
   ]
  },
  {
   "cell_type": "code",
   "execution_count": 11,
   "metadata": {},
   "outputs": [
    {
     "data": {
      "text/html": [
       "<div>\n",
       "<style scoped>\n",
       "    .dataframe tbody tr th:only-of-type {\n",
       "        vertical-align: middle;\n",
       "    }\n",
       "\n",
       "    .dataframe tbody tr th {\n",
       "        vertical-align: top;\n",
       "    }\n",
       "\n",
       "    .dataframe thead th {\n",
       "        text-align: right;\n",
       "    }\n",
       "</style>\n",
       "<table border=\"1\" class=\"dataframe\">\n",
       "  <thead>\n",
       "    <tr style=\"text-align: right;\">\n",
       "      <th></th>\n",
       "      <th>date</th>\n",
       "      <th>Pred</th>\n",
       "      <th>Pred_lb</th>\n",
       "      <th>Pred_ub</th>\n",
       "      <th>I</th>\n",
       "      <th>I_lb</th>\n",
       "      <th>I_ub</th>\n",
       "      <th>S</th>\n",
       "      <th>S_lb</th>\n",
       "      <th>S_ub</th>\n",
       "      <th>R</th>\n",
       "      <th>R_lb</th>\n",
       "      <th>R_ub</th>\n",
       "    </tr>\n",
       "  </thead>\n",
       "  <tbody>\n",
       "    <tr>\n",
       "      <th>0</th>\n",
       "      <td>2020-01-30</td>\n",
       "      <td>1.000000</td>\n",
       "      <td>1.000000</td>\n",
       "      <td>1.000000</td>\n",
       "      <td>1.000000</td>\n",
       "      <td>1.000000</td>\n",
       "      <td>1.000000</td>\n",
       "      <td>5.000000e+07</td>\n",
       "      <td>5.000000e+07</td>\n",
       "      <td>5.000000e+07</td>\n",
       "      <td>0.000000</td>\n",
       "      <td>0.000000</td>\n",
       "      <td>0.000000</td>\n",
       "    </tr>\n",
       "    <tr>\n",
       "      <th>1</th>\n",
       "      <td>2020-01-31</td>\n",
       "      <td>1.409930</td>\n",
       "      <td>1.408970</td>\n",
       "      <td>1.410540</td>\n",
       "      <td>1.190687</td>\n",
       "      <td>1.190185</td>\n",
       "      <td>1.191013</td>\n",
       "      <td>5.000000e+07</td>\n",
       "      <td>5.000000e+07</td>\n",
       "      <td>5.000000e+07</td>\n",
       "      <td>0.219242</td>\n",
       "      <td>0.218320</td>\n",
       "      <td>0.219560</td>\n",
       "    </tr>\n",
       "    <tr>\n",
       "      <th>2</th>\n",
       "      <td>2020-02-01</td>\n",
       "      <td>1.897647</td>\n",
       "      <td>1.895519</td>\n",
       "      <td>1.899102</td>\n",
       "      <td>1.417559</td>\n",
       "      <td>1.416366</td>\n",
       "      <td>1.418334</td>\n",
       "      <td>5.000000e+07</td>\n",
       "      <td>5.000000e+07</td>\n",
       "      <td>5.000000e+07</td>\n",
       "      <td>0.480087</td>\n",
       "      <td>0.478068</td>\n",
       "      <td>0.480847</td>\n",
       "    </tr>\n",
       "    <tr>\n",
       "      <th>3</th>\n",
       "      <td>2020-02-02</td>\n",
       "      <td>2.478044</td>\n",
       "      <td>2.474448</td>\n",
       "      <td>2.480647</td>\n",
       "      <td>1.687544</td>\n",
       "      <td>1.685414</td>\n",
       "      <td>1.688925</td>\n",
       "      <td>5.000000e+07</td>\n",
       "      <td>5.000000e+07</td>\n",
       "      <td>5.000000e+07</td>\n",
       "      <td>0.790500</td>\n",
       "      <td>0.787159</td>\n",
       "      <td>0.791862</td>\n",
       "    </tr>\n",
       "    <tr>\n",
       "      <th>4</th>\n",
       "      <td>2020-02-03</td>\n",
       "      <td>3.170714</td>\n",
       "      <td>3.165290</td>\n",
       "      <td>3.174856</td>\n",
       "      <td>2.009754</td>\n",
       "      <td>2.006371</td>\n",
       "      <td>2.011948</td>\n",
       "      <td>5.000000e+07</td>\n",
       "      <td>5.000000e+07</td>\n",
       "      <td>5.000000e+07</td>\n",
       "      <td>1.160960</td>\n",
       "      <td>1.156029</td>\n",
       "      <td>1.163131</td>\n",
       "    </tr>\n",
       "  </tbody>\n",
       "</table>\n",
       "</div>"
      ],
      "text/plain": [
       "        date      Pred   Pred_lb   Pred_ub         I      I_lb      I_ub  \\\n",
       "0 2020-01-30  1.000000  1.000000  1.000000  1.000000  1.000000  1.000000   \n",
       "1 2020-01-31  1.409930  1.408970  1.410540  1.190687  1.190185  1.191013   \n",
       "2 2020-02-01  1.897647  1.895519  1.899102  1.417559  1.416366  1.418334   \n",
       "3 2020-02-02  2.478044  2.474448  2.480647  1.687544  1.685414  1.688925   \n",
       "4 2020-02-03  3.170714  3.165290  3.174856  2.009754  2.006371  2.011948   \n",
       "\n",
       "              S          S_lb          S_ub         R      R_lb      R_ub  \n",
       "0  5.000000e+07  5.000000e+07  5.000000e+07  0.000000  0.000000  0.000000  \n",
       "1  5.000000e+07  5.000000e+07  5.000000e+07  0.219242  0.218320  0.219560  \n",
       "2  5.000000e+07  5.000000e+07  5.000000e+07  0.480087  0.478068  0.480847  \n",
       "3  5.000000e+07  5.000000e+07  5.000000e+07  0.790500  0.787159  0.791862  \n",
       "4  5.000000e+07  5.000000e+07  5.000000e+07  1.160960  1.156029  1.163131  "
      ]
     },
     "execution_count": 11,
     "metadata": {},
     "output_type": "execute_result"
    }
   ],
   "source": [
    "df.head()"
   ]
  },
  {
   "cell_type": "code",
   "execution_count": 12,
   "metadata": {},
   "outputs": [
    {
     "data": {
      "text/plain": [
       "<matplotlib.collections.PathCollection at 0x7fc4a90adf28>"
      ]
     },
     "execution_count": 12,
     "metadata": {},
     "output_type": "execute_result"
    },
    {
     "data": {
      "image/png": "[encoded data removed]",
      "text/plain": [
       "<Figure size 1296x864 with 1 Axes>"
      ]
     },
     "metadata": {
      "needs_background": "light"
     },
     "output_type": "display_data"
    }
   ],
   "source": [
    "fig, axes = plt.subplots(figsize = (18,12))\n",
    "axes.plot(x,df[[\"Pred_lb\"]][0:52], \"--\", c = \"black\")\n",
    "axes.plot(x,df[[\"Pred\"]][0:52], c = \"blue\")\n",
    "axes.plot(x,df[[\"Pred_ub\"]][0:52], \"--\", c = \"black\")\n",
    "axes.scatter(x, y, c = \"red\")"
   ]
  },
  {
   "cell_type": "code",
   "execution_count": 13,
   "metadata": {},
   "outputs": [
    {
     "name": "stderr",
     "output_type": "stream",
     "text": [
      "2020-04-17 17:27:19,617 - pyswarms.single.global_best - INFO - Optimize for 500 iters with {'c1': 0.5, 'c2': 0.3, 'w': 0.9}\n",
      "pyswarms.single.global_best: 100%|██████████|500/500, best_cost=7.43e+5\n",
      "2020-04-17 17:27:36,951 - pyswarms.single.global_best - INFO - Optimization finished | best cost: 742527.5254332521, best pos: [2.70469191 2.57657289]\n"
     ]
    }
   ],
   "source": [
    "model = SIR_PSO(50000000)\n",
    "model.fit(x,y)\n",
    "ypred = model.predict(x)"
   ]
  },
  {
   "cell_type": "code",
   "execution_count": 14,
   "metadata": {},
   "outputs": [
    {
     "data": {
      "text/plain": [
       "<matplotlib.collections.PathCollection at 0x7fc4a90fc5c0>"
      ]
     },
     "execution_count": 14,
     "metadata": {},
     "output_type": "execute_result"
    },
    {
     "data": {
      "image/png": "[encoded data removed]",
      "text/plain": [
       "<Figure size 1296x864 with 1 Axes>"
      ]
     },
     "metadata": {
      "needs_background": "light"
     },
     "output_type": "display_data"
    }
   ],
   "source": [
    "fig, axes = plt.subplots(figsize = (18,12))\n",
    "axes.plot(x,ypred, c = \"blue\")\n",
    "axes.scatter(x, y, c = \"red\")"
   ]
  },
  {
   "cell_type": "code",
   "execution_count": null,
   "metadata": {},
   "outputs": [],
   "source": []
  },
  {
   "cell_type": "code",
   "execution_count": null,
   "metadata": {},
   "outputs": [],
   "source": []
  },
  {
   "cell_type": "code",
   "execution_count": null,
   "metadata": {},
   "outputs": [],
   "source": []
  },
  {
   "cell_type": "code",
   "execution_count": null,
   "metadata": {},
   "outputs": [],
   "source": []
  }
 ],
 "metadata": {
  "kernelspec": {
   "display_name": "Python 3",
   "language": "python",
   "name": "python3"
  },
  "language_info": {
   "codemirror_mode": {
    "name": "ipython",
    "version": 3
   },
   "file_extension": ".py",
   "mimetype": "text/x-python",
   "name": "python",
   "nbconvert_exporter": "python",
   "pygments_lexer": "ipython3",
   "version": "3.7.3"
  }
 },
 "nbformat": 4,
 "nbformat_minor": 4
}
