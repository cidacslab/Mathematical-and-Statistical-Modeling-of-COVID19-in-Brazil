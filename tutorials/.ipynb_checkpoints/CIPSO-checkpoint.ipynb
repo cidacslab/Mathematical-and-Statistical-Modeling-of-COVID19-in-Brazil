{
 "cells": [
  {
   "cell_type": "code",
   "execution_count": 1,
   "metadata": {},
   "outputs": [],
   "source": [
    "import multiprocessing as mp\n",
    "import sys\n",
    "#add the path were the models are\n",
    "sys.path.append(\"../inProduction/\")\n",
    "import pandas as pd\n",
    "import numpy as np\n",
    "from plotnine import *\n",
    "from mizani.breaks import date_breaks\n",
    "from mizani.formatters import date_format\n",
    "from itertools import repeat\n",
    "import time\n",
    "from functools import reduce\n",
    "from sirPSO import SIR_PSO\n",
    "#set default theme for plts\n",
    "theme_set(theme_linedraw())"
   ]
  },
  {
   "cell_type": "code",
   "execution_count": 2,
   "metadata": {},
   "outputs": [
    {
     "data": {
      "text/html": [
       "<div>\n",
       "<style scoped>\n",
       "    .dataframe tbody tr th:only-of-type {\n",
       "        vertical-align: middle;\n",
       "    }\n",
       "\n",
       "    .dataframe tbody tr th {\n",
       "        vertical-align: top;\n",
       "    }\n",
       "\n",
       "    .dataframe thead th {\n",
       "        text-align: right;\n",
       "    }\n",
       "</style>\n",
       "<table border=\"1\" class=\"dataframe\">\n",
       "  <thead>\n",
       "    <tr style=\"text-align: right;\">\n",
       "      <th></th>\n",
       "      <th>date</th>\n",
       "      <th>state</th>\n",
       "      <th>newCases</th>\n",
       "      <th>mortes</th>\n",
       "      <th>TOTAL</th>\n",
       "      <th>totalCasesPred</th>\n",
       "      <th>sucetivel</th>\n",
       "      <th>Recuperado</th>\n",
       "    </tr>\n",
       "  </thead>\n",
       "  <tbody>\n",
       "    <tr>\n",
       "      <th>41</th>\n",
       "      <td>2020-02-25</td>\n",
       "      <td>SP</td>\n",
       "      <td>1.0</td>\n",
       "      <td>0.0</td>\n",
       "      <td>1.0</td>\n",
       "      <td>1.000000</td>\n",
       "      <td>4.591905e+07</td>\n",
       "      <td>0.000000</td>\n",
       "    </tr>\n",
       "    <tr>\n",
       "      <th>42</th>\n",
       "      <td>2020-02-26</td>\n",
       "      <td>SP</td>\n",
       "      <td>0.0</td>\n",
       "      <td>0.0</td>\n",
       "      <td>1.0</td>\n",
       "      <td>1.253639</td>\n",
       "      <td>4.591905e+07</td>\n",
       "      <td>0.140394</td>\n",
       "    </tr>\n",
       "    <tr>\n",
       "      <th>43</th>\n",
       "      <td>2020-02-27</td>\n",
       "      <td>SP</td>\n",
       "      <td>0.0</td>\n",
       "      <td>0.0</td>\n",
       "      <td>1.0</td>\n",
       "      <td>1.571138</td>\n",
       "      <td>4.591905e+07</td>\n",
       "      <td>0.316136</td>\n",
       "    </tr>\n",
       "    <tr>\n",
       "      <th>44</th>\n",
       "      <td>2020-02-28</td>\n",
       "      <td>SP</td>\n",
       "      <td>0.0</td>\n",
       "      <td>0.0</td>\n",
       "      <td>1.0</td>\n",
       "      <td>1.968710</td>\n",
       "      <td>4.591905e+07</td>\n",
       "      <td>0.536200</td>\n",
       "    </tr>\n",
       "    <tr>\n",
       "      <th>45</th>\n",
       "      <td>2020-02-29</td>\n",
       "      <td>SP</td>\n",
       "      <td>1.0</td>\n",
       "      <td>0.0</td>\n",
       "      <td>2.0</td>\n",
       "      <td>2.468231</td>\n",
       "      <td>4.591905e+07</td>\n",
       "      <td>0.812695</td>\n",
       "    </tr>\n",
       "  </tbody>\n",
       "</table>\n",
       "</div>"
      ],
      "text/plain": [
       "          date state  newCases  mortes  TOTAL  totalCasesPred     sucetivel  \\\n",
       "41  2020-02-25    SP       1.0     0.0    1.0        1.000000  4.591905e+07   \n",
       "42  2020-02-26    SP       0.0     0.0    1.0        1.253639  4.591905e+07   \n",
       "43  2020-02-27    SP       0.0     0.0    1.0        1.571138  4.591905e+07   \n",
       "44  2020-02-28    SP       0.0     0.0    1.0        1.968710  4.591905e+07   \n",
       "45  2020-02-29    SP       1.0     0.0    2.0        2.468231  4.591905e+07   \n",
       "\n",
       "    Recuperado  \n",
       "41    0.000000  \n",
       "42    0.140394  \n",
       "43    0.316136  \n",
       "44    0.536200  \n",
       "45    0.812695  "
      ]
     },
     "execution_count": 2,
     "metadata": {},
     "output_type": "execute_result"
    }
   ],
   "source": [
    "data = pd.read_csv(\"../data/estados.csv\")\n",
    "#Select only Sao Paulo\n",
    "sp = data[data[\"state\"] == \"SP\"]\n",
    "#Remove missing values to not crash the intervals\n",
    "sp = sp.dropna()\n",
    "sp.head()"
   ]
  },
  {
   "cell_type": "code",
   "execution_count": 3,
   "metadata": {},
   "outputs": [],
   "source": [
    "#create a series with the cummulative number of cases\n",
    "y = np.array(sp[\"TOTAL\"])\n",
    "\n",
    "#Give the number of days since the day of first case confirmed\n",
    "x = range(0,len(sp[\"TOTAL\"]))"
   ]
  },
  {
   "cell_type": "code",
   "execution_count": 4,
   "metadata": {},
   "outputs": [],
   "source": [
    "#start model\n",
    "model = SIR_PSO(tamanhoPop = 50000000, numeroProcessadores = 8)"
   ]
  },
  {
   "cell_type": "code",
   "execution_count": 5,
   "metadata": {},
   "outputs": [
    {
     "name": "stderr",
     "output_type": "stream",
     "text": [
      "2020-04-10 17:41:01,442 - pyswarms.single.global_best - INFO - Optimize for 500 iters with {'c1': 0.5, 'c2': 0.3, 'w': 0.9}\n",
      "pyswarms.single.global_best: 100%|██████████|500/500, best_cost=9.13e+3\n",
      "2020-04-10 17:41:07,748 - pyswarms.single.global_best - INFO - Optimization finished | best cost: 9127.98338945704, best pos: [0.40004242 0.19693153]\n"
     ]
    },
    {
     "data": {
      "text/plain": [
       "array([1.00000000e+00, 1.44632923e+00, 1.99317233e+00, 2.66335931e+00,\n",
       "       3.48732604e+00, 4.52708276e+00, 5.80043005e+00, 7.33125426e+00,\n",
       "       9.25911362e+00, 1.16066522e+01, 1.44502904e+01, 1.80307545e+01,\n",
       "       2.23656464e+01, 2.76684965e+01, 3.43170284e+01, 4.23185570e+01,\n",
       "       5.22240692e+01, 6.45552996e+01, 7.93443913e+01, 9.78405430e+01,\n",
       "       1.20686064e+02, 1.48056454e+02, 1.82016029e+02, 2.23392205e+02,\n",
       "       2.74750020e+02, 3.37128054e+02, 4.13950034e+02, 5.08024790e+02,\n",
       "       6.23277883e+02, 7.64646535e+02, 9.38105874e+02, 1.15042135e+03,\n",
       "       1.41034057e+03, 1.72758159e+03])"
      ]
     },
     "execution_count": 5,
     "metadata": {},
     "output_type": "execute_result"
    }
   ],
   "source": [
    "model.fit(x = x, y = y)\n",
    "model.predict(x)"
   ]
  },
  {
   "cell_type": "code",
   "execution_count": 6,
   "metadata": {},
   "outputs": [
    {
     "data": {
      "text/plain": [
       "(OptimalBlockLength(b_star_sb=7.082336691795086, b_star_cb=8.107251681655882),)"
      ]
     },
     "execution_count": 6,
     "metadata": {},
     "output_type": "execute_result"
    }
   ],
   "source": [
    "from recombinator.optimal_block_length import optimal_block_length as opl\n",
    "opl(y)"
   ]
  },
  {
   "cell_type": "code",
   "execution_count": 7,
   "metadata": {},
   "outputs": [],
   "source": [
    "from recombinator.block_bootstrap import circular_block_bootstrap as cbb"
   ]
  },
  {
   "cell_type": "code",
   "execution_count": 8,
   "metadata": {},
   "outputs": [],
   "source": [
    "arrays = cbb(x = y, block_length = 8, replications = 1000, replace = True)"
   ]
  },
  {
   "cell_type": "code",
   "execution_count": 9,
   "metadata": {},
   "outputs": [],
   "source": [
    "sp[\"lb\"] = np.cumsum(np.quantile(np.transpose(arrays), q  = 0.0275, axis = 1))\n",
    "sp[\"ub\"] = np.cumsum(np.quantile(np.transpose(arrays), q  = 0.975, axis = 1))\n",
    "sp[\"meanSeries\"] = np.cumsum(np.median(np.transpose(arrays), axis = 1))\n",
    "\n",
    "sp[\"date\"] = pd.to_datetime(sp[\"date\"])"
   ]
  },
  {
   "cell_type": "code",
   "execution_count": 10,
   "metadata": {},
   "outputs": [
    {
     "data": {
      "image/png": "[encoded data removed]",
      "text/plain": [
       "<Figure size 640x480 with 1 Axes>"
      ]
     },
     "metadata": {},
     "output_type": "display_data"
    },
    {
     "data": {
      "text/plain": [
       "<ggplot: (-9223363256735069843)>"
      ]
     },
     "execution_count": 10,
     "metadata": {},
     "output_type": "execute_result"
    }
   ],
   "source": [
    "#plot graph using ggplot\n",
    "(ggplot(sp) + \n",
    "    geom_line(aes(x = \"date\", y = \"newCases\")) +\n",
    "    geom_line(aes(x = \"date\", y = \"meanSeries\")) +\n",
    "    geom_ribbon(aes(x = \"date\", ymin = \"lb\", ymax = \"ub\"), alpha = 0.5) +\n",
    "    scale_x_datetime(breaks = date_breaks('5 days'), labels=date_format('%d-%b')) +\n",
    "    ggtitle(\"Series of covid-19 for Sao Paulo\") +\n",
    "    ylab(\"Number of cases\"))"
   ]
  },
  {
   "cell_type": "code",
   "execution_count": 11,
   "metadata": {},
   "outputs": [],
   "source": [
    "def bootstratpTS(npArray, replicate):\n",
    "    \"\"\"\n",
    "    \n",
    "    \"\"\"\n",
    "    simList = []\n",
    "    def poissonGen(npArray, replicate = None):\n",
    "        simSeries = []\n",
    "        for i in range(0,len(npArray)):\n",
    "            if i == 0:\n",
    "                simSeries.append(npArray[i]) \n",
    "            else:\n",
    "                simSeries.append(np.random.poisson(lam = npArray[i] - npArray[i-1], size = 1)[0])\n",
    "        return np.cumsum(np.array(simSeries))\n",
    "    for i in range(0,replicate):\n",
    "        simList.append(poissonGen(npArray))\n",
    "    return np.array(simList)\n",
    "simList = bootstratpTS(npArray = y, replicate = 1000)"
   ]
  },
  {
   "cell_type": "code",
   "execution_count": 12,
   "metadata": {},
   "outputs": [],
   "source": [
    "sp[\"plb\"] = np.quantile(np.transpose(simList), q  = 0.0275, axis = 1)\n",
    "sp[\"pub\"] = np.quantile(np.transpose(simList), q  = 0.975, axis = 1)\n",
    "sp[\"pmeanSeries\"] = np.median(np.transpose(simList), axis = 1)"
   ]
  },
  {
   "cell_type": "code",
   "execution_count": 13,
   "metadata": {},
   "outputs": [
    {
     "data": {
      "image/png": "[encoded data removed]",
      "text/plain": [
       "<Figure size 640x480 with 1 Axes>"
      ]
     },
     "metadata": {},
     "output_type": "display_data"
    },
    {
     "data": {
      "text/plain": [
       "<ggplot: (8780118883336)>"
      ]
     },
     "execution_count": 13,
     "metadata": {},
     "output_type": "execute_result"
    }
   ],
   "source": [
    "#plot graph using ggplot\n",
    "(ggplot(sp) + \n",
    "    geom_line(aes(x = \"date\", y = \"TOTAL\")) +\n",
    "    geom_line(aes(x = \"date\", y = \"pmeanSeries\"), color = \"blue\") +\n",
    "    geom_ribbon(aes(x = \"date\", ymin = \"plb\", ymax = \"pub\"), alpha = 0.5) +\n",
    "    scale_x_datetime(breaks = date_breaks('5 days'), labels=date_format('%d-%b')) +\n",
    "    ggtitle(\"Series of covid-19 for Sao Paulo\") +\n",
    "    ylab(\"Number of cases\"))"
   ]
  },
  {
   "cell_type": "code",
   "execution_count": null,
   "metadata": {},
   "outputs": [],
   "source": []
  },
  {
   "cell_type": "code",
   "execution_count": null,
   "metadata": {},
   "outputs": [],
   "source": []
  }
 ],
 "metadata": {
  "kernelspec": {
   "display_name": "Python 3",
   "language": "python",
   "name": "python3"
  },
  "language_info": {
   "codemirror_mode": {
    "name": "ipython",
    "version": 3
   },
   "file_extension": ".py",
   "mimetype": "text/x-python",
   "name": "python",
   "nbconvert_exporter": "python",
   "pygments_lexer": "ipython3",
   "version": "3.7.3"
  }
 },
 "nbformat": 4,
 "nbformat_minor": 4
}
