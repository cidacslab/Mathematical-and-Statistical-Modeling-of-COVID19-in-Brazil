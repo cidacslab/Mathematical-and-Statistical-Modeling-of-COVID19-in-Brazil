{
 "cells": [
  {
   "cell_type": "markdown",
   "metadata": {},
   "source": [
    "<h1>Running Susceptible Infected Recovered (SIR)</h1>"
   ]
  },
  {
   "cell_type": "code",
   "execution_count": 1,
   "metadata": {},
   "outputs": [],
   "source": [
    "import sys\n",
    "#add the path were the models are\n",
    "sys.path.append(\"../main/\")\n",
    "import pandas as pd\n",
    "import numpy as np\n",
    "from plotnine import *\n",
    "from mizani.breaks import date_breaks\n",
    "from mizani.formatters import date_format\n",
    "from modelos import SIR\n",
    "\n",
    "#set default theme for plts\n",
    "theme_set(theme_linedraw())"
   ]
  },
  {
   "cell_type": "markdown",
   "metadata": {},
   "source": [
    "<h2>How to use</h2>"
   ]
  },
  {
   "cell_type": "markdown",
   "metadata": {},
   "source": [
    "<p>The easiest way to use SIR model is calling it on three basic information:</p>\n",
    "<ul>\n",
    "    <li>The population size</li>\n",
    "    <li>Days since the first report of infection</li>\n",
    "    <li>A series with the cummulative number of cases</li>\n",
    "    </ul>\n",
    "<p>To ilustrate it we will use the series of covid-19 notified in Sao Paulo, Brazil</p>"
   ]
  },
  {
   "cell_type": "code",
   "execution_count": 2,
   "metadata": {},
   "outputs": [
    {
     "data": {
      "text/html": [
       "<div>\n",
       "<style scoped>\n",
       "    .dataframe tbody tr th:only-of-type {\n",
       "        vertical-align: middle;\n",
       "    }\n",
       "\n",
       "    .dataframe tbody tr th {\n",
       "        vertical-align: top;\n",
       "    }\n",
       "\n",
       "    .dataframe thead th {\n",
       "        text-align: right;\n",
       "    }\n",
       "</style>\n",
       "<table border=\"1\" class=\"dataframe\">\n",
       "  <thead>\n",
       "    <tr style=\"text-align: right;\">\n",
       "      <th></th>\n",
       "      <th>Unnamed: 0</th>\n",
       "      <th>date</th>\n",
       "      <th>UF</th>\n",
       "      <th>newcases</th>\n",
       "      <th>state</th>\n",
       "      <th>totalcases</th>\n",
       "    </tr>\n",
       "  </thead>\n",
       "  <tbody>\n",
       "    <tr>\n",
       "      <th>0</th>\n",
       "      <td>1</td>\n",
       "      <td>2020-02-25</td>\n",
       "      <td>35</td>\n",
       "      <td>1</td>\n",
       "      <td>São Paulo</td>\n",
       "      <td>1</td>\n",
       "    </tr>\n",
       "    <tr>\n",
       "      <th>1</th>\n",
       "      <td>2</td>\n",
       "      <td>2020-02-29</td>\n",
       "      <td>35</td>\n",
       "      <td>1</td>\n",
       "      <td>São Paulo</td>\n",
       "      <td>2</td>\n",
       "    </tr>\n",
       "    <tr>\n",
       "      <th>2</th>\n",
       "      <td>3</td>\n",
       "      <td>2020-03-04</td>\n",
       "      <td>35</td>\n",
       "      <td>1</td>\n",
       "      <td>São Paulo</td>\n",
       "      <td>3</td>\n",
       "    </tr>\n",
       "    <tr>\n",
       "      <th>5</th>\n",
       "      <td>6</td>\n",
       "      <td>2020-03-05</td>\n",
       "      <td>35</td>\n",
       "      <td>3</td>\n",
       "      <td>São Paulo</td>\n",
       "      <td>6</td>\n",
       "    </tr>\n",
       "    <tr>\n",
       "      <th>8</th>\n",
       "      <td>9</td>\n",
       "      <td>2020-03-06</td>\n",
       "      <td>35</td>\n",
       "      <td>4</td>\n",
       "      <td>São Paulo</td>\n",
       "      <td>10</td>\n",
       "    </tr>\n",
       "  </tbody>\n",
       "</table>\n",
       "</div>"
      ],
      "text/plain": [
       "   Unnamed: 0        date  UF  newcases      state  totalcases\n",
       "0           1  2020-02-25  35         1  São Paulo           1\n",
       "1           2  2020-02-29  35         1  São Paulo           2\n",
       "2           3  2020-03-04  35         1  São Paulo           3\n",
       "5           6  2020-03-05  35         3  São Paulo           6\n",
       "8           9  2020-03-06  35         4  São Paulo          10"
      ]
     },
     "execution_count": 2,
     "metadata": {},
     "output_type": "execute_result"
    }
   ],
   "source": [
    "data = pd.read_csv(\"../data/datastate.csv\")\n",
    "\n",
    "#Select only Sao Paulo\n",
    "sp = data[data[\"UF\"] == 35]\n",
    "sp.head()"
   ]
  },
  {
   "cell_type": "code",
   "execution_count": 3,
   "metadata": {},
   "outputs": [],
   "source": [
    "#Start the model with population size\n",
    "model = SIR(tamanhoPop = 1000000)"
   ]
  },
  {
   "cell_type": "code",
   "execution_count": 4,
   "metadata": {},
   "outputs": [],
   "source": [
    "#create a series with the cummulative number of cases\n",
    "y = sp[\"totalcases\"]\n",
    "\n",
    "#Give the number of days since the day of first case confirmed\n",
    "x = range(1,len(sp[\"totalcases\"]) + 1)"
   ]
  },
  {
   "cell_type": "markdown",
   "metadata": {},
   "source": [
    "<p>Than fit the model on data</p>"
   ]
  },
  {
   "cell_type": "code",
   "execution_count": 5,
   "metadata": {},
   "outputs": [
    {
     "name": "stderr",
     "output_type": "stream",
     "text": [
      "2020-03-24 18:53:13,849 - pyswarms.single.global_best - INFO - Optimize for 1000 iters with {'c1': 0.5, 'c2': 0.3, 'w': 0.9}\n",
      "pyswarms.single.global_best: 100%|██████████|1000/1000, best_cost=148\n",
      "2020-03-24 18:53:15,054 - pyswarms.single.global_best - INFO - Optimization finished | best cost: 148.30187667763664, best pos: [3.4554853  0.28333418]\n"
     ]
    }
   ],
   "source": [
    "#fit model using data\n",
    "model.fit(x = x, y = y)"
   ]
  },
  {
   "cell_type": "code",
   "execution_count": 6,
   "metadata": {},
   "outputs": [
    {
     "name": "stderr",
     "output_type": "stream",
     "text": [
      "/usr/local/lib/python3.7/dist-packages/ipykernel_launcher.py:2: SettingWithCopyWarning: \n",
      "A value is trying to be set on a copy of a slice from a DataFrame.\n",
      "Try using .loc[row_indexer,col_indexer] = value instead\n",
      "\n",
      "See the caveats in the documentation: http://pandas.pydata.org/pandas-docs/stable/user_guide/indexing.html#returning-a-view-versus-a-copy\n",
      "  \n"
     ]
    }
   ],
   "source": [
    "#Predict the number of cases\n",
    "sp[\"predicted\"] = model.predict(x)"
   ]
  },
  {
   "cell_type": "code",
   "execution_count": 7,
   "metadata": {},
   "outputs": [
    {
     "data": {
      "text/html": [
       "<div>\n",
       "<style scoped>\n",
       "    .dataframe tbody tr th:only-of-type {\n",
       "        vertical-align: middle;\n",
       "    }\n",
       "\n",
       "    .dataframe tbody tr th {\n",
       "        vertical-align: top;\n",
       "    }\n",
       "\n",
       "    .dataframe thead th {\n",
       "        text-align: right;\n",
       "    }\n",
       "</style>\n",
       "<table border=\"1\" class=\"dataframe\">\n",
       "  <thead>\n",
       "    <tr style=\"text-align: right;\">\n",
       "      <th></th>\n",
       "      <th>Unnamed: 0</th>\n",
       "      <th>date</th>\n",
       "      <th>UF</th>\n",
       "      <th>newcases</th>\n",
       "      <th>state</th>\n",
       "      <th>totalcases</th>\n",
       "      <th>predicted</th>\n",
       "    </tr>\n",
       "  </thead>\n",
       "  <tbody>\n",
       "    <tr>\n",
       "      <th>0</th>\n",
       "      <td>1</td>\n",
       "      <td>2020-02-25</td>\n",
       "      <td>35</td>\n",
       "      <td>1</td>\n",
       "      <td>São Paulo</td>\n",
       "      <td>1</td>\n",
       "      <td>4.587325</td>\n",
       "    </tr>\n",
       "    <tr>\n",
       "      <th>1</th>\n",
       "      <td>2</td>\n",
       "      <td>2020-02-29</td>\n",
       "      <td>35</td>\n",
       "      <td>1</td>\n",
       "      <td>São Paulo</td>\n",
       "      <td>2</td>\n",
       "      <td>6.089898</td>\n",
       "    </tr>\n",
       "    <tr>\n",
       "      <th>2</th>\n",
       "      <td>3</td>\n",
       "      <td>2020-03-04</td>\n",
       "      <td>35</td>\n",
       "      <td>1</td>\n",
       "      <td>São Paulo</td>\n",
       "      <td>3</td>\n",
       "      <td>8.084636</td>\n",
       "    </tr>\n",
       "    <tr>\n",
       "      <th>5</th>\n",
       "      <td>6</td>\n",
       "      <td>2020-03-05</td>\n",
       "      <td>35</td>\n",
       "      <td>3</td>\n",
       "      <td>São Paulo</td>\n",
       "      <td>6</td>\n",
       "      <td>10.732748</td>\n",
       "    </tr>\n",
       "    <tr>\n",
       "      <th>8</th>\n",
       "      <td>9</td>\n",
       "      <td>2020-03-06</td>\n",
       "      <td>35</td>\n",
       "      <td>4</td>\n",
       "      <td>São Paulo</td>\n",
       "      <td>10</td>\n",
       "      <td>14.248246</td>\n",
       "    </tr>\n",
       "    <tr>\n",
       "      <th>11</th>\n",
       "      <td>12</td>\n",
       "      <td>2020-03-07</td>\n",
       "      <td>35</td>\n",
       "      <td>3</td>\n",
       "      <td>São Paulo</td>\n",
       "      <td>13</td>\n",
       "      <td>18.915241</td>\n",
       "    </tr>\n",
       "    <tr>\n",
       "      <th>15</th>\n",
       "      <td>16</td>\n",
       "      <td>2020-03-08</td>\n",
       "      <td>35</td>\n",
       "      <td>3</td>\n",
       "      <td>São Paulo</td>\n",
       "      <td>16</td>\n",
       "      <td>25.110904</td>\n",
       "    </tr>\n",
       "    <tr>\n",
       "      <th>17</th>\n",
       "      <td>18</td>\n",
       "      <td>2020-03-10</td>\n",
       "      <td>35</td>\n",
       "      <td>3</td>\n",
       "      <td>São Paulo</td>\n",
       "      <td>19</td>\n",
       "      <td>33.335948</td>\n",
       "    </tr>\n",
       "    <tr>\n",
       "      <th>22</th>\n",
       "      <td>23</td>\n",
       "      <td>2020-03-11</td>\n",
       "      <td>35</td>\n",
       "      <td>26</td>\n",
       "      <td>São Paulo</td>\n",
       "      <td>45</td>\n",
       "      <td>44.255096</td>\n",
       "    </tr>\n",
       "    <tr>\n",
       "      <th>29</th>\n",
       "      <td>30</td>\n",
       "      <td>2020-03-12</td>\n",
       "      <td>35</td>\n",
       "      <td>19</td>\n",
       "      <td>São Paulo</td>\n",
       "      <td>64</td>\n",
       "      <td>58.750796</td>\n",
       "    </tr>\n",
       "    <tr>\n",
       "      <th>45</th>\n",
       "      <td>46</td>\n",
       "      <td>2020-03-14</td>\n",
       "      <td>35</td>\n",
       "      <td>1</td>\n",
       "      <td>São Paulo</td>\n",
       "      <td>65</td>\n",
       "      <td>77.994544</td>\n",
       "    </tr>\n",
       "    <tr>\n",
       "      <th>54</th>\n",
       "      <td>55</td>\n",
       "      <td>2020-03-15</td>\n",
       "      <td>35</td>\n",
       "      <td>71</td>\n",
       "      <td>São Paulo</td>\n",
       "      <td>136</td>\n",
       "      <td>103.541557</td>\n",
       "    </tr>\n",
       "    <tr>\n",
       "      <th>65</th>\n",
       "      <td>66</td>\n",
       "      <td>2020-03-16</td>\n",
       "      <td>35</td>\n",
       "      <td>16</td>\n",
       "      <td>São Paulo</td>\n",
       "      <td>152</td>\n",
       "      <td>137.456463</td>\n",
       "    </tr>\n",
       "    <tr>\n",
       "      <th>77</th>\n",
       "      <td>78</td>\n",
       "      <td>2020-03-17</td>\n",
       "      <td>35</td>\n",
       "      <td>12</td>\n",
       "      <td>São Paulo</td>\n",
       "      <td>164</td>\n",
       "      <td>182.480152</td>\n",
       "    </tr>\n",
       "    <tr>\n",
       "      <th>91</th>\n",
       "      <td>92</td>\n",
       "      <td>2020-03-18</td>\n",
       "      <td>35</td>\n",
       "      <td>77</td>\n",
       "      <td>São Paulo</td>\n",
       "      <td>241</td>\n",
       "      <td>242.251293</td>\n",
       "    </tr>\n",
       "  </tbody>\n",
       "</table>\n",
       "</div>"
      ],
      "text/plain": [
       "    Unnamed: 0        date  UF  newcases      state  totalcases   predicted\n",
       "0            1  2020-02-25  35         1  São Paulo           1    4.587325\n",
       "1            2  2020-02-29  35         1  São Paulo           2    6.089898\n",
       "2            3  2020-03-04  35         1  São Paulo           3    8.084636\n",
       "5            6  2020-03-05  35         3  São Paulo           6   10.732748\n",
       "8            9  2020-03-06  35         4  São Paulo          10   14.248246\n",
       "11          12  2020-03-07  35         3  São Paulo          13   18.915241\n",
       "15          16  2020-03-08  35         3  São Paulo          16   25.110904\n",
       "17          18  2020-03-10  35         3  São Paulo          19   33.335948\n",
       "22          23  2020-03-11  35        26  São Paulo          45   44.255096\n",
       "29          30  2020-03-12  35        19  São Paulo          64   58.750796\n",
       "45          46  2020-03-14  35         1  São Paulo          65   77.994544\n",
       "54          55  2020-03-15  35        71  São Paulo         136  103.541557\n",
       "65          66  2020-03-16  35        16  São Paulo         152  137.456463\n",
       "77          78  2020-03-17  35        12  São Paulo         164  182.480152\n",
       "91          92  2020-03-18  35        77  São Paulo         241  242.251293"
      ]
     },
     "execution_count": 7,
     "metadata": {},
     "output_type": "execute_result"
    }
   ],
   "source": [
    "#Check the data\n",
    "sp"
   ]
  },
  {
   "cell_type": "code",
   "execution_count": 8,
   "metadata": {},
   "outputs": [],
   "source": [
    "#Projections about the futher could easiyl be done\n",
    "futherCases = pd.DataFrame.from_dict({\"date\":pd.date_range(start = \"2020-03-19\", end = \"2020-03-24\"),\n",
    "                                      \"type\": \"Predicted\"})"
   ]
  },
  {
   "cell_type": "code",
   "execution_count": 9,
   "metadata": {},
   "outputs": [],
   "source": [
    "#create the new series to be predicted\n",
    "newX = range(len(y) + 1, len(futherCases) + len(y) + 1)\n",
    "\n",
    "#make projections\n",
    "futherCases[\"totalcases\"] = model.predict(newX)"
   ]
  },
  {
   "cell_type": "code",
   "execution_count": 10,
   "metadata": {},
   "outputs": [
    {
     "data": {
      "text/html": [
       "<div>\n",
       "<style scoped>\n",
       "    .dataframe tbody tr th:only-of-type {\n",
       "        vertical-align: middle;\n",
       "    }\n",
       "\n",
       "    .dataframe tbody tr th {\n",
       "        vertical-align: top;\n",
       "    }\n",
       "\n",
       "    .dataframe thead th {\n",
       "        text-align: right;\n",
       "    }\n",
       "</style>\n",
       "<table border=\"1\" class=\"dataframe\">\n",
       "  <thead>\n",
       "    <tr style=\"text-align: right;\">\n",
       "      <th></th>\n",
       "      <th>date</th>\n",
       "      <th>type</th>\n",
       "      <th>totalcases</th>\n",
       "    </tr>\n",
       "  </thead>\n",
       "  <tbody>\n",
       "    <tr>\n",
       "      <th>0</th>\n",
       "      <td>2020-03-19</td>\n",
       "      <td>Predicted</td>\n",
       "      <td>321.600396</td>\n",
       "    </tr>\n",
       "    <tr>\n",
       "      <th>1</th>\n",
       "      <td>2020-03-20</td>\n",
       "      <td>Predicted</td>\n",
       "      <td>426.940196</td>\n",
       "    </tr>\n",
       "    <tr>\n",
       "      <th>2</th>\n",
       "      <td>2020-03-21</td>\n",
       "      <td>Predicted</td>\n",
       "      <td>566.783913</td>\n",
       "    </tr>\n",
       "    <tr>\n",
       "      <th>3</th>\n",
       "      <td>2020-03-22</td>\n",
       "      <td>Predicted</td>\n",
       "      <td>752.433261</td>\n",
       "    </tr>\n",
       "    <tr>\n",
       "      <th>4</th>\n",
       "      <td>2020-03-23</td>\n",
       "      <td>Predicted</td>\n",
       "      <td>998.891818</td>\n",
       "    </tr>\n",
       "    <tr>\n",
       "      <th>5</th>\n",
       "      <td>2020-03-24</td>\n",
       "      <td>Predicted</td>\n",
       "      <td>1326.077560</td>\n",
       "    </tr>\n",
       "  </tbody>\n",
       "</table>\n",
       "</div>"
      ],
      "text/plain": [
       "        date       type   totalcases\n",
       "0 2020-03-19  Predicted   321.600396\n",
       "1 2020-03-20  Predicted   426.940196\n",
       "2 2020-03-21  Predicted   566.783913\n",
       "3 2020-03-22  Predicted   752.433261\n",
       "4 2020-03-23  Predicted   998.891818\n",
       "5 2020-03-24  Predicted  1326.077560"
      ]
     },
     "execution_count": 10,
     "metadata": {},
     "output_type": "execute_result"
    }
   ],
   "source": [
    "futherCases"
   ]
  },
  {
   "cell_type": "code",
   "execution_count": 11,
   "metadata": {},
   "outputs": [
    {
     "name": "stderr",
     "output_type": "stream",
     "text": [
      "/usr/local/lib/python3.7/dist-packages/ipykernel_launcher.py:6: SettingWithCopyWarning: \n",
      "A value is trying to be set on a copy of a slice from a DataFrame.\n",
      "Try using .loc[row_indexer,col_indexer] = value instead\n",
      "\n",
      "See the caveats in the documentation: http://pandas.pydata.org/pandas-docs/stable/user_guide/indexing.html#returning-a-view-versus-a-copy\n",
      "  \n"
     ]
    }
   ],
   "source": [
    "#Create a plot using the information above\n",
    "#Selecting variables of the first data\n",
    "sp = sp[[\"date\", \"totalcases\", \"predicted\"]]\n",
    "\n",
    "#Add a column for plot\n",
    "sp[\"type\"] = \"Observed\"\n",
    "\n",
    "df = sp.append(futherCases)"
   ]
  },
  {
   "cell_type": "code",
   "execution_count": 12,
   "metadata": {},
   "outputs": [
    {
     "data": {
      "image/png": "[encoded data removed]",
      "text/plain": [
       "<Figure size 640x480 with 1 Axes>"
      ]
     },
     "metadata": {},
     "output_type": "display_data"
    },
    {
     "data": {
      "text/plain": [
       "<ggplot: (8752040185250)>"
      ]
     },
     "execution_count": 12,
     "metadata": {},
     "output_type": "execute_result"
    }
   ],
   "source": [
    "#plot data\n",
    "(ggplot(df) +\n",
    "    geom_point(aes(x = \"date\", y = \"totalcases\", color = \"type\")) +\n",
    "    scale_x_datetime(breaks = date_breaks('1 weeks')) +\n",
    "    labs(ggtitle = \"Series of covid-19 for Sao Paulo\", xlab = None, ylab = \"Number of cases\"))"
   ]
  }
 ],
 "metadata": {
  "kernelspec": {
   "display_name": "Python 3",
   "language": "python",
   "name": "python3"
  },
  "language_info": {
   "codemirror_mode": {
    "name": "ipython",
    "version": 3
   },
   "file_extension": ".py",
   "mimetype": "text/x-python",
   "name": "python",
   "nbconvert_exporter": "python",
   "pygments_lexer": "ipython3",
   "version": "3.7.3"
  }
 },
 "nbformat": 4,
 "nbformat_minor": 4
}
