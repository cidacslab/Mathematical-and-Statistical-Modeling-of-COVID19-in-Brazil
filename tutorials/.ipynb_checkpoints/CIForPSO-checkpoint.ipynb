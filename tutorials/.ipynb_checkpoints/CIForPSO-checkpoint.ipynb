{
 "cells": [
  {
   "cell_type": "code",
   "execution_count": 1,
   "metadata": {},
   "outputs": [],
   "source": [
    "import multiprocessing as mp\n",
    "import sys\n",
    "#add the path were the models are\n",
    "sys.path.append(\"../inProduction\")\n",
    "import pandas as pd\n",
    "import numpy as np\n",
    "import matplotlib.pyplot as plt\n",
    "from itertools import repeat\n",
    "import time\n",
    "from functools import reduce\n",
    "from modelExp import EXP\n",
    "plt.style.use('seaborn-deep')"
   ]
  },
  {
   "cell_type": "code",
   "execution_count": 2,
   "metadata": {},
   "outputs": [],
   "source": [
    "data = pd.read_csv(\"../data/estados.csv\")\n",
    "#Select only Sao Paulo\n",
    "sp = data[data[\"state\"] == \"SP\"]\n",
    "#Remove missing values to not crash the intervals\n",
    "sp = sp.dropna()\n",
    "#create a series with the cummulative number of cases\n",
    "y = np.array(sp[\"TOTAL\"])\n",
    "\n",
    "#Give the number of days since the day of first case confirmed\n",
    "x = range(0,len(sp[\"newCases\"]))"
   ]
  },
  {
   "cell_type": "code",
   "execution_count": 3,
   "metadata": {},
   "outputs": [],
   "source": [
    "model = EXP(N_inicial = 50000000)"
   ]
  },
  {
   "cell_type": "code",
   "execution_count": 7,
   "metadata": {},
   "outputs": [
    {
     "data": {
      "text/plain": [
       "[8.916826119281767,\n",
       " 10.433510745200417,\n",
       " 12.20817194526396,\n",
       " 14.284689581950213,\n",
       " 16.71440715019066,\n",
       " 19.55740128475396,\n",
       " 22.883967201225733,\n",
       " 26.776356799254746,\n",
       " 31.330812404004515,\n",
       " 36.65994643163121,\n",
       " 42.895525817846156,\n",
       " 50.19173005669972,\n",
       " 58.728963407100316,\n",
       " 68.71831552680528,\n",
       " 80.40678082648836,\n",
       " 94.08336559642537,\n",
       " 110.08623390920071,\n",
       " 128.8110689863725,\n",
       " 150.7208567703149,\n",
       " 176.35733360757288,\n",
       " 206.3543810965012,\n",
       " 241.45369929709327,\n",
       " 282.5231458351608,\n",
       " 330.5781943493149,\n",
       " 386.8070428573464,\n",
       " 452.599992865667,\n",
       " 529.5838256428771,\n",
       " 619.6620256372531,\n",
       " 725.0618455930706,\n",
       " 848.3893770869547,\n",
       " 992.6939881455961,\n",
       " 1161.5437212144707,\n",
       " 1359.1135157503122,\n",
       " 1590.2884368087455]"
      ]
     },
     "execution_count": 7,
     "metadata": {},
     "output_type": "execute_result"
    }
   ],
   "source": [
    "model.fit_predictCI(x = x, y = y, ndays = 7, bootstrap = 30, n_jobs = 4)"
   ]
  },
  {
   "cell_type": "code",
   "execution_count": 9,
   "metadata": {},
   "outputs": [],
   "source": []
  },
  {
   "cell_type": "code",
   "execution_count": null,
   "metadata": {},
   "outputs": [],
   "source": []
  },
  {
   "cell_type": "code",
   "execution_count": null,
   "metadata": {},
   "outputs": [],
   "source": []
  }
 ],
 "metadata": {
  "kernelspec": {
   "display_name": "Python 3",
   "language": "python",
   "name": "python3"
  },
  "language_info": {
   "codemirror_mode": {
    "name": "ipython",
    "version": 3
   },
   "file_extension": ".py",
   "mimetype": "text/x-python",
   "name": "python",
   "nbconvert_exporter": "python",
   "pygments_lexer": "ipython3",
   "version": "3.7.3"
  }
 },
 "nbformat": 4,
 "nbformat_minor": 4
}
