{
 "cells": [
  {
   "cell_type": "code",
   "execution_count": 1,
   "metadata": {},
   "outputs": [],
   "source": [
    "#import libraries necessary for paralelization\n",
    "import multiprocessing as mp\n",
    "import sys\n",
    "#add the path were the models are\n",
    "sys.path.append(\"../main/\")\n",
    "import pandas as pd\n",
    "import numpy as np\n",
    "from plotnine import *\n",
    "from mizani.breaks import date_breaks\n",
    "from mizani.formatters import date_format\n",
    "from modelos import SIR_EDO\n",
    "from itertools import repeat\n",
    "import time\n",
    "\n",
    "#set default theme for plts\n",
    "theme_set(theme_linedraw())"
   ]
  },
  {
   "cell_type": "code",
   "execution_count": 2,
   "metadata": {},
   "outputs": [
    {
     "data": {
      "text/html": [
       "<div>\n",
       "<style scoped>\n",
       "    .dataframe tbody tr th:only-of-type {\n",
       "        vertical-align: middle;\n",
       "    }\n",
       "\n",
       "    .dataframe tbody tr th {\n",
       "        vertical-align: top;\n",
       "    }\n",
       "\n",
       "    .dataframe thead th {\n",
       "        text-align: right;\n",
       "    }\n",
       "</style>\n",
       "<table border=\"1\" class=\"dataframe\">\n",
       "  <thead>\n",
       "    <tr style=\"text-align: right;\">\n",
       "      <th></th>\n",
       "      <th>date</th>\n",
       "      <th>state</th>\n",
       "      <th>newCases</th>\n",
       "      <th>mortes</th>\n",
       "      <th>TOTAL</th>\n",
       "      <th>totalCasesPred</th>\n",
       "      <th>sucetivel</th>\n",
       "      <th>Recuperado</th>\n",
       "    </tr>\n",
       "  </thead>\n",
       "  <tbody>\n",
       "    <tr>\n",
       "      <th>0</th>\n",
       "      <td>2020-02-25</td>\n",
       "      <td>TOTAL</td>\n",
       "      <td>1.0</td>\n",
       "      <td>0.0</td>\n",
       "      <td>1.0</td>\n",
       "      <td>1.000000</td>\n",
       "      <td>2.170260e+08</td>\n",
       "      <td>0.000000</td>\n",
       "    </tr>\n",
       "    <tr>\n",
       "      <th>1</th>\n",
       "      <td>2020-02-26</td>\n",
       "      <td>TOTAL</td>\n",
       "      <td>0.0</td>\n",
       "      <td>0.0</td>\n",
       "      <td>1.0</td>\n",
       "      <td>1.356124</td>\n",
       "      <td>2.170260e+08</td>\n",
       "      <td>0.079351</td>\n",
       "    </tr>\n",
       "    <tr>\n",
       "      <th>2</th>\n",
       "      <td>2020-02-27</td>\n",
       "      <td>TOTAL</td>\n",
       "      <td>0.0</td>\n",
       "      <td>0.0</td>\n",
       "      <td>1.0</td>\n",
       "      <td>1.844646</td>\n",
       "      <td>2.170260e+08</td>\n",
       "      <td>0.188203</td>\n",
       "    </tr>\n",
       "    <tr>\n",
       "      <th>3</th>\n",
       "      <td>2020-02-28</td>\n",
       "      <td>TOTAL</td>\n",
       "      <td>0.0</td>\n",
       "      <td>0.0</td>\n",
       "      <td>1.0</td>\n",
       "      <td>2.371169</td>\n",
       "      <td>2.170260e+08</td>\n",
       "      <td>0.305522</td>\n",
       "    </tr>\n",
       "    <tr>\n",
       "      <th>4</th>\n",
       "      <td>2020-02-29</td>\n",
       "      <td>TOTAL</td>\n",
       "      <td>1.0</td>\n",
       "      <td>0.0</td>\n",
       "      <td>2.0</td>\n",
       "      <td>3.075460</td>\n",
       "      <td>2.170260e+08</td>\n",
       "      <td>0.462452</td>\n",
       "    </tr>\n",
       "  </tbody>\n",
       "</table>\n",
       "</div>"
      ],
      "text/plain": [
       "         date  state  newCases  mortes  TOTAL  totalCasesPred     sucetivel  \\\n",
       "0  2020-02-25  TOTAL       1.0     0.0    1.0        1.000000  2.170260e+08   \n",
       "1  2020-02-26  TOTAL       0.0     0.0    1.0        1.356124  2.170260e+08   \n",
       "2  2020-02-27  TOTAL       0.0     0.0    1.0        1.844646  2.170260e+08   \n",
       "3  2020-02-28  TOTAL       0.0     0.0    1.0        2.371169  2.170260e+08   \n",
       "4  2020-02-29  TOTAL       1.0     0.0    2.0        3.075460  2.170260e+08   \n",
       "\n",
       "   Recuperado  \n",
       "0    0.000000  \n",
       "1    0.079351  \n",
       "2    0.188203  \n",
       "3    0.305522  \n",
       "4    0.462452  "
      ]
     },
     "execution_count": 2,
     "metadata": {},
     "output_type": "execute_result"
    }
   ],
   "source": [
    "data = pd.read_csv(\"../data/estados.csv\")\n",
    "data.head()"
   ]
  },
  {
   "cell_type": "code",
   "execution_count": 3,
   "metadata": {},
   "outputs": [
    {
     "data": {
      "text/html": [
       "<div>\n",
       "<style scoped>\n",
       "    .dataframe tbody tr th:only-of-type {\n",
       "        vertical-align: middle;\n",
       "    }\n",
       "\n",
       "    .dataframe tbody tr th {\n",
       "        vertical-align: top;\n",
       "    }\n",
       "\n",
       "    .dataframe thead th {\n",
       "        text-align: right;\n",
       "    }\n",
       "</style>\n",
       "<table border=\"1\" class=\"dataframe\">\n",
       "  <thead>\n",
       "    <tr style=\"text-align: right;\">\n",
       "      <th></th>\n",
       "      <th>date</th>\n",
       "      <th>state</th>\n",
       "      <th>newCases</th>\n",
       "      <th>mortes</th>\n",
       "      <th>TOTAL</th>\n",
       "      <th>totalCasesPred</th>\n",
       "      <th>sucetivel</th>\n",
       "      <th>Recuperado</th>\n",
       "    </tr>\n",
       "  </thead>\n",
       "  <tbody>\n",
       "    <tr>\n",
       "      <th>41</th>\n",
       "      <td>2020-02-25</td>\n",
       "      <td>SP</td>\n",
       "      <td>1.0</td>\n",
       "      <td>0.0</td>\n",
       "      <td>1.0</td>\n",
       "      <td>1.000000</td>\n",
       "      <td>4.591905e+07</td>\n",
       "      <td>0.000000</td>\n",
       "    </tr>\n",
       "    <tr>\n",
       "      <th>42</th>\n",
       "      <td>2020-02-26</td>\n",
       "      <td>SP</td>\n",
       "      <td>0.0</td>\n",
       "      <td>0.0</td>\n",
       "      <td>1.0</td>\n",
       "      <td>1.253639</td>\n",
       "      <td>4.591905e+07</td>\n",
       "      <td>0.140394</td>\n",
       "    </tr>\n",
       "    <tr>\n",
       "      <th>43</th>\n",
       "      <td>2020-02-27</td>\n",
       "      <td>SP</td>\n",
       "      <td>0.0</td>\n",
       "      <td>0.0</td>\n",
       "      <td>1.0</td>\n",
       "      <td>1.571138</td>\n",
       "      <td>4.591905e+07</td>\n",
       "      <td>0.316136</td>\n",
       "    </tr>\n",
       "    <tr>\n",
       "      <th>44</th>\n",
       "      <td>2020-02-28</td>\n",
       "      <td>SP</td>\n",
       "      <td>0.0</td>\n",
       "      <td>0.0</td>\n",
       "      <td>1.0</td>\n",
       "      <td>1.968710</td>\n",
       "      <td>4.591905e+07</td>\n",
       "      <td>0.536200</td>\n",
       "    </tr>\n",
       "    <tr>\n",
       "      <th>45</th>\n",
       "      <td>2020-02-29</td>\n",
       "      <td>SP</td>\n",
       "      <td>1.0</td>\n",
       "      <td>0.0</td>\n",
       "      <td>2.0</td>\n",
       "      <td>2.468231</td>\n",
       "      <td>4.591905e+07</td>\n",
       "      <td>0.812695</td>\n",
       "    </tr>\n",
       "  </tbody>\n",
       "</table>\n",
       "</div>"
      ],
      "text/plain": [
       "          date state  newCases  mortes  TOTAL  totalCasesPred     sucetivel  \\\n",
       "41  2020-02-25    SP       1.0     0.0    1.0        1.000000  4.591905e+07   \n",
       "42  2020-02-26    SP       0.0     0.0    1.0        1.253639  4.591905e+07   \n",
       "43  2020-02-27    SP       0.0     0.0    1.0        1.571138  4.591905e+07   \n",
       "44  2020-02-28    SP       0.0     0.0    1.0        1.968710  4.591905e+07   \n",
       "45  2020-02-29    SP       1.0     0.0    2.0        2.468231  4.591905e+07   \n",
       "\n",
       "    Recuperado  \n",
       "41    0.000000  \n",
       "42    0.140394  \n",
       "43    0.316136  \n",
       "44    0.536200  \n",
       "45    0.812695  "
      ]
     },
     "execution_count": 3,
     "metadata": {},
     "output_type": "execute_result"
    }
   ],
   "source": [
    "#Select only Sao Paulo\n",
    "sp = data[data[\"state\"] == \"SP\"]\n",
    "sp.head()"
   ]
  },
  {
   "cell_type": "code",
   "execution_count": 4,
   "metadata": {},
   "outputs": [],
   "source": [
    "#Remove missing values to not crash the intervals\n",
    "sp = sp.dropna()"
   ]
  },
  {
   "cell_type": "code",
   "execution_count": 5,
   "metadata": {},
   "outputs": [],
   "source": [
    "#create a series with the cummulative number of cases\n",
    "y = sp[\"TOTAL\"]\n",
    "\n",
    "#Give the number of days since the day of first case confirmed\n",
    "x = range(1,len(sp[\"TOTAL\"]) + 1)"
   ]
  },
  {
   "cell_type": "code",
   "execution_count": 6,
   "metadata": {},
   "outputs": [],
   "source": [
    "model = SIR_EDO(N = 45919049)"
   ]
  },
  {
   "cell_type": "code",
   "execution_count": 7,
   "metadata": {},
   "outputs": [],
   "source": [
    "def predictSIR(x,y,days,bootstrap, lb = 0.0275, ub = 0.975):\n",
    "    \n",
    "    \"\"\"\n",
    "    x: Number of days since the case\n",
    "    y: An array with the cumulative cases\n",
    "    days: for how many days the projection should be done\n",
    "    bootsrap: how many simulation should be done for compute CI\n",
    "    lb: The inferior limit of the interval. Default is 0.0275\n",
    "    ub: The inferior limit of the interval. Default is 0.975\n",
    "    \"\"\"\n",
    "    def q1(x):\n",
    "        return x.quantile(lb)\n",
    "    \n",
    "    def q2(x):\n",
    "        return x.quantile(ub)\n",
    "    \n",
    "    #S = []\n",
    "    #I = []\n",
    "    #R = []\n",
    "    df = []\n",
    "    predicted = {}\n",
    "    newx = range(1,days)\n",
    "    \n",
    "    #fit model using data\n",
    "    for i in range(0,bootstrap):\n",
    "        newy = np.random.choice(a = y, size = len(x), replace = True)\n",
    "        model.fit(x = x, y = newy)\n",
    "        #S.append(model.getCoef()[1][3][0])\n",
    "        #I.append(model.getCoef()[1][3][1])\n",
    "        #R.append(model.getCoef()[1][3][2])\n",
    "        df.append(pd.DataFrame.from_dict({\"Predicted\":model.predict(newx),\n",
    "                                          \"x\": np.arange(start = 1, stop = len(newx) + 3)}))\n",
    "        \n",
    "    dfs = pd.concat(df)\n",
    "    \n",
    "    f = ['mean', 'std', q1, q2]\n",
    "    dfs = dfs.groupby([\"x\"])[\"Predicted\"].agg(f).reset_index()\n",
    "    \n",
    "    return dfs"
   ]
  },
  {
   "cell_type": "code",
   "execution_count": 8,
   "metadata": {},
   "outputs": [
    {
     "name": "stdout",
     "output_type": "stream",
     "text": [
      "64.0041675567627\n"
     ]
    }
   ],
   "source": [
    "start = time.time()\n",
    "predictSIR(x = x, y = y, days = 50, bootstrap = 100)\n",
    "end = time.time()\n",
    "print(end - start)"
   ]
  },
  {
   "cell_type": "code",
   "execution_count": 9,
   "metadata": {},
   "outputs": [],
   "source": [
    "lists = [np.random.choice(a = y, size = len(x), replace = True) for i in repeat(None, 100)]"
   ]
  },
  {
   "cell_type": "code",
   "execution_count": 10,
   "metadata": {},
   "outputs": [],
   "source": [
    "def runSir(y, x, pop, ndays):\n",
    "    newx = range(1,ndays)\n",
    "    model = SIR_EDO(pop)\n",
    "    model.fit(y = y, x = x)\n",
    "    return model.predict(newx)"
   ]
  },
  {
   "cell_type": "code",
   "execution_count": 11,
   "metadata": {},
   "outputs": [
    {
     "name": "stdout",
     "output_type": "stream",
     "text": [
      "60.876667499542236\n"
     ]
    }
   ],
   "source": [
    "start = time.time()\n",
    "results1 = []\n",
    "for i in range(0,len(lists)):\n",
    "    results1.append(runSir(lists[i],x,50000000,50))\n",
    "end = time.time()\n",
    "print(end - start)"
   ]
  },
  {
   "cell_type": "code",
   "execution_count": 12,
   "metadata": {},
   "outputs": [
    {
     "name": "stdout",
     "output_type": "stream",
     "text": [
      "16.73759365081787\n"
     ]
    }
   ],
   "source": [
    "start = time.time()\n",
    "pool =  mp.Pool(processes = 8)\n",
    "if __name__ == '__main__':\n",
    "    results2 = pool.starmap(runSir, [(lists[i], x, 50000000, 50) for i in range(1,len(lists))])\n",
    "end = time.time()\n",
    "print(end - start)"
   ]
  }
 ],
 "metadata": {
  "kernelspec": {
   "display_name": "Python 3",
   "language": "python",
   "name": "python3"
  },
  "language_info": {
   "codemirror_mode": {
    "name": "ipython",
    "version": 3
   },
   "file_extension": ".py",
   "mimetype": "text/x-python",
   "name": "python",
   "nbconvert_exporter": "python",
   "pygments_lexer": "ipython3",
   "version": "3.7.3"
  }
 },
 "nbformat": 4,
 "nbformat_minor": 4
}
