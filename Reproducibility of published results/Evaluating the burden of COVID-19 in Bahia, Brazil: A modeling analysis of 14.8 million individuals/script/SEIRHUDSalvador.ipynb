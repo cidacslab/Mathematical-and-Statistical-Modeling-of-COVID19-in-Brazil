{
 "cells": [
  {
   "cell_type": "markdown",
   "metadata": {},
   "source": [
    "<h1>Run SEIRHUD</h1>"
   ]
  },
  {
   "cell_type": "code",
   "execution_count": 1,
   "metadata": {},
   "outputs": [],
   "source": [
    "from model import SEIRHUD\n",
    "import csv\n",
    "import numpy as np\n",
    "import pandas as pd\n",
    "import time\n",
    "import warnings\n",
    "from tqdm import tqdm\n",
    "warnings.filterwarnings('ignore')"
   ]
  },
  {
   "cell_type": "code",
   "execution_count": 7,
   "metadata": {
    "scrolled": true
   },
   "outputs": [
    {
     "data": {
      "text/html": [
       "<div>\n",
       "<style scoped>\n",
       "    .dataframe tbody tr th:only-of-type {\n",
       "        vertical-align: middle;\n",
       "    }\n",
       "\n",
       "    .dataframe tbody tr th {\n",
       "        vertical-align: top;\n",
       "    }\n",
       "\n",
       "    .dataframe thead th {\n",
       "        text-align: right;\n",
       "    }\n",
       "</style>\n",
       "<table border=\"1\" class=\"dataframe\">\n",
       "  <thead>\n",
       "    <tr style=\"text-align: right;\">\n",
       "      <th></th>\n",
       "      <th>date</th>\n",
       "      <th>city</th>\n",
       "      <th>cases</th>\n",
       "      <th>deaths</th>\n",
       "      <th>ndeaths</th>\n",
       "    </tr>\n",
       "  </thead>\n",
       "  <tbody>\n",
       "    <tr>\n",
       "      <th>0</th>\n",
       "      <td>2020-03-13</td>\n",
       "      <td>Salvador</td>\n",
       "      <td>3</td>\n",
       "      <td>0</td>\n",
       "      <td>0</td>\n",
       "    </tr>\n",
       "    <tr>\n",
       "      <th>1</th>\n",
       "      <td>2020-03-14</td>\n",
       "      <td>Salvador</td>\n",
       "      <td>3</td>\n",
       "      <td>0</td>\n",
       "      <td>0</td>\n",
       "    </tr>\n",
       "    <tr>\n",
       "      <th>2</th>\n",
       "      <td>2020-03-15</td>\n",
       "      <td>Salvador</td>\n",
       "      <td>4</td>\n",
       "      <td>0</td>\n",
       "      <td>0</td>\n",
       "    </tr>\n",
       "    <tr>\n",
       "      <th>3</th>\n",
       "      <td>2020-03-16</td>\n",
       "      <td>Salvador</td>\n",
       "      <td>4</td>\n",
       "      <td>0</td>\n",
       "      <td>0</td>\n",
       "    </tr>\n",
       "    <tr>\n",
       "      <th>4</th>\n",
       "      <td>2020-03-17</td>\n",
       "      <td>Salvador</td>\n",
       "      <td>5</td>\n",
       "      <td>0</td>\n",
       "      <td>0</td>\n",
       "    </tr>\n",
       "  </tbody>\n",
       "</table>\n",
       "</div>"
      ],
      "text/plain": [
       "         date      city  cases  deaths  ndeaths\n",
       "0  2020-03-13  Salvador      3       0        0\n",
       "1  2020-03-14  Salvador      3       0        0\n",
       "2  2020-03-15  Salvador      4       0        0\n",
       "3  2020-03-16  Salvador      4       0        0\n",
       "4  2020-03-17  Salvador      5       0        0"
      ]
     },
     "execution_count": 7,
     "metadata": {},
     "output_type": "execute_result"
    }
   ],
   "source": [
    "data = pd.read_csv(\"../data/salvador.csv\")\n",
    "data.head()"
   ]
  },
  {
   "cell_type": "code",
   "execution_count": 4,
   "metadata": {},
   "outputs": [],
   "source": [
    "def bootWeig(series, times):\n",
    "    series = np.diff(series)\n",
    "    series = np.insert(series, 0, 1)\n",
    "    results = []\n",
    "    for i in range(0,times):\n",
    "        results.append(np.random.multinomial(n = sum(series), pvals = series/sum(series)))\n",
    "    return np.array(results)"
   ]
  },
  {
   "cell_type": "code",
   "execution_count": 8,
   "metadata": {},
   "outputs": [],
   "source": [
    "#using bootstrap to \n",
    "infeclists = bootWeig(data[\"cases\"], 500)\n",
    "deathslists = bootWeig(data[\"deaths\"], 500)"
   ]
  },
  {
   "cell_type": "code",
   "execution_count": 9,
   "metadata": {},
   "outputs": [],
   "source": [
    "#Define empty lists to recive results\n",
    "ypred = []\n",
    "dpred = []\n",
    "spred = []\n",
    "epred = []\n",
    "beta1 = []\n",
    "beta2 = []\n",
    "gammaH = []\n",
    "gammaU = []\n",
    "delta = []\n",
    "ia0 = []\n",
    "t1 = []\n",
    "e0 = []\n",
    "is0 = []"
   ]
  },
  {
   "cell_type": "code",
   "execution_count": 10,
   "metadata": {},
   "outputs": [],
   "source": [
    "#define fixed parameters:\n",
    "kappa = 1/4\n",
    "p = 0.2\n",
    "gammaA = 1/3.5\n",
    "gammaS = 1/4\n",
    "muH = 0.15\n",
    "muU = 0.4\n",
    "xi = 0.53\n",
    "omega_U = 0.29 \n",
    "omega_H = 0.14\n",
    "N = 2872347\n",
    "\n",
    "#Bound   b1,   b2?, t1, gmH  gmU    d   h     ia0   is0  e0\n",
    "bound = ([0,0,0,1/14,1/14,0,0.05,0,0,0],\n",
    "         [30,1.5,1,1/5,1/5,1,0.35,10/N,10/N,10/N])"
   ]
  },
  {
   "cell_type": "code",
   "execution_count": 11,
   "metadata": {},
   "outputs": [
    {
     "name": "stderr",
     "output_type": "stream",
     "text": [
      "0it [00:00, ?it/s]2020-06-29 18:26:05,797 - pyswarms.single.local_best - INFO - Optimize for 250 iters with {'c1': 0.3, 'c2': 0.3, 'w': 0.9, 'k': 5, 'p': 2}\n",
      "\n",
      "pyswarms.single.local_best:   0%|          |0/250\u001b[A\n"
     ]
    },
    {
     "ename": "TypeError",
     "evalue": "objectiveFunction() got an unexpected keyword argument 'verbose'",
     "output_type": "error",
     "traceback": [
      "\u001b[0;31m---------------------------------------------------------------------------\u001b[0m",
      "\u001b[0;31mRemoteTraceback\u001b[0m                           Traceback (most recent call last)",
      "\u001b[0;31mRemoteTraceback\u001b[0m: \n\"\"\"\nTraceback (most recent call last):\n  File \"/home/juliane_oliveira/anaconda3/lib/python3.6/multiprocessing/pool.py\", line 119, in worker\n    result = (True, func(*args, **kwds))\n  File \"/home/juliane_oliveira/anaconda3/lib/python3.6/multiprocessing/pool.py\", line 44, in mapstar\n    return list(map(*args))\nTypeError: objectiveFunction() got an unexpected keyword argument 'verbose'\n\"\"\"",
      "\nThe above exception was the direct cause of the following exception:\n",
      "\u001b[0;31mTypeError\u001b[0m                                 Traceback (most recent call last)",
      "\u001b[0;32m<ipython-input-11-2424c0574c15>\u001b[0m in \u001b[0;36m<module>\u001b[0;34m()\u001b[0m\n\u001b[1;32m     15\u001b[0m           \u001b[0momegaU\u001b[0m \u001b[0;34m=\u001b[0m \u001b[0momega_U\u001b[0m\u001b[0;34m,\u001b[0m\u001b[0;34m\u001b[0m\u001b[0m\n\u001b[1;32m     16\u001b[0m           \u001b[0momegaH\u001b[0m \u001b[0;34m=\u001b[0m \u001b[0momega_H\u001b[0m\u001b[0;34m,\u001b[0m\u001b[0;34m\u001b[0m\u001b[0m\n\u001b[0;32m---> 17\u001b[0;31m           \u001b[0mstand_error\u001b[0m \u001b[0;34m=\u001b[0m \u001b[0;32mTrue\u001b[0m\u001b[0;34m,\u001b[0m\u001b[0;34m\u001b[0m\u001b[0m\n\u001b[0m\u001b[1;32m     18\u001b[0m           )\n\u001b[1;32m     19\u001b[0m     \u001b[0mresults\u001b[0m \u001b[0;34m=\u001b[0m \u001b[0mmodel\u001b[0m\u001b[0;34m.\u001b[0m\u001b[0mpredict\u001b[0m\u001b[0;34m(\u001b[0m\u001b[0mrange\u001b[0m\u001b[0;34m(\u001b[0m\u001b[0;36m1\u001b[0m\u001b[0;34m,\u001b[0m\u001b[0mlen\u001b[0m\u001b[0;34m(\u001b[0m\u001b[0mdata\u001b[0m\u001b[0;34m[\u001b[0m\u001b[0;34m\"cases\"\u001b[0m\u001b[0;34m]\u001b[0m\u001b[0;34m)\u001b[0m \u001b[0;34m+\u001b[0m \u001b[0;36m200\u001b[0m\u001b[0;34m)\u001b[0m\u001b[0;34m)\u001b[0m\u001b[0;34m\u001b[0m\u001b[0m\n",
      "\u001b[0;32m/media/juliane_oliveira/My Passport/dropbox_15_11_2019/Artigos_preprints/COVID19/github_covid19/Mathematical-and-Statistical-Modeling-of-COVID19-in-Brazil/Reproducibility of published results/Evaluating the burden of COVID-19 in Bahia, Brazil: A modeling analysis of 14.8 million individuals/script/model.py\u001b[0m in \u001b[0;36mfit\u001b[0;34m(self, x, y, d, pesoMorte, kappa, p, gammaA, gammaS, muH, muU, xi, omegaU, omegaH, bound, stand_error, beta2, day_mudar, paramPSO)\u001b[0m\n\u001b[1;32m    204\u001b[0m         \u001b[0;31m#__cal_EDO_2(self,x,beta1,beta2,tempo,gammaH,gammaU,delta,h,ia0,is0,e0)\u001b[0m\u001b[0;34m\u001b[0m\u001b[0;34m\u001b[0m\u001b[0m\n\u001b[1;32m    205\u001b[0m         \u001b[0;32mif\u001b[0m \u001b[0mbeta2\u001b[0m\u001b[0;34m:\u001b[0m\u001b[0;34m\u001b[0m\u001b[0m\n\u001b[0;32m--> 206\u001b[0;31m             \u001b[0mcost\u001b[0m\u001b[0;34m,\u001b[0m \u001b[0mpos\u001b[0m \u001b[0;34m=\u001b[0m \u001b[0moptimizer\u001b[0m\u001b[0;34m.\u001b[0m\u001b[0moptimize\u001b[0m\u001b[0;34m(\u001b[0m\u001b[0mself\u001b[0m\u001b[0;34m.\u001b[0m\u001b[0mobjectiveFunction\u001b[0m\u001b[0;34m,\u001b[0m\u001b[0mparamPSO\u001b[0m\u001b[0;34m[\u001b[0m\u001b[0;34m'iter'\u001b[0m\u001b[0;34m]\u001b[0m\u001b[0;34m,\u001b[0m \u001b[0mx\u001b[0m \u001b[0;34m=\u001b[0m \u001b[0mx\u001b[0m\u001b[0;34m,\u001b[0m\u001b[0my\u001b[0m\u001b[0;34m=\u001b[0m\u001b[0mdf\u001b[0m\u001b[0;34m,\u001b[0m\u001b[0md\u001b[0m\u001b[0;34m=\u001b[0m\u001b[0mdd\u001b[0m\u001b[0;34m,\u001b[0m\u001b[0mstand_error\u001b[0m\u001b[0;34m=\u001b[0m\u001b[0mstand_error\u001b[0m\u001b[0;34m,\u001b[0m\u001b[0mn_processes\u001b[0m\u001b[0;34m=\u001b[0m\u001b[0mself\u001b[0m\u001b[0;34m.\u001b[0m\u001b[0mnumeroProcessadores\u001b[0m\u001b[0;34m,\u001b[0m \u001b[0mverbose\u001b[0m \u001b[0;34m=\u001b[0m \u001b[0;32mTrue\u001b[0m\u001b[0;34m)\u001b[0m\u001b[0;34m\u001b[0m\u001b[0m\n\u001b[0m\u001b[1;32m    207\u001b[0m         \u001b[0;32melse\u001b[0m\u001b[0;34m:\u001b[0m\u001b[0;34m\u001b[0m\u001b[0m\n\u001b[1;32m    208\u001b[0m             \u001b[0mcost\u001b[0m\u001b[0;34m,\u001b[0m \u001b[0mpos\u001b[0m \u001b[0;34m=\u001b[0m \u001b[0moptimizer\u001b[0m\u001b[0;34m.\u001b[0m\u001b[0moptimize\u001b[0m\u001b[0;34m(\u001b[0m\u001b[0mself\u001b[0m\u001b[0;34m.\u001b[0m\u001b[0mobjectiveFunction\u001b[0m\u001b[0;34m,\u001b[0m \u001b[0mparamPSO\u001b[0m\u001b[0;34m[\u001b[0m\u001b[0;34m'iter'\u001b[0m\u001b[0;34m]\u001b[0m\u001b[0;34m,\u001b[0m \u001b[0mx\u001b[0m \u001b[0;34m=\u001b[0m \u001b[0mx\u001b[0m\u001b[0;34m,\u001b[0m\u001b[0my\u001b[0m\u001b[0;34m=\u001b[0m\u001b[0mdf\u001b[0m\u001b[0;34m,\u001b[0m\u001b[0md\u001b[0m\u001b[0;34m=\u001b[0m\u001b[0mdd\u001b[0m\u001b[0;34m,\u001b[0m\u001b[0mstand_error\u001b[0m\u001b[0;34m=\u001b[0m\u001b[0mstand_error\u001b[0m\u001b[0;34m,\u001b[0m\u001b[0mn_processes\u001b[0m\u001b[0;34m=\u001b[0m\u001b[0mself\u001b[0m\u001b[0;34m.\u001b[0m\u001b[0mnumeroProcessadores\u001b[0m\u001b[0;34m,\u001b[0m \u001b[0mverbose\u001b[0m \u001b[0;34m=\u001b[0m \u001b[0;32mTrue\u001b[0m\u001b[0;34m)\u001b[0m\u001b[0;34m\u001b[0m\u001b[0m\n",
      "\u001b[0;32m~/anaconda3/lib/python3.6/site-packages/pyswarms/single/local_best.py\u001b[0m in \u001b[0;36moptimize\u001b[0;34m(self, objective_func, iters, n_processes, **kwargs)\u001b[0m\n\u001b[1;32m    206\u001b[0m             \u001b[0;31m# Compute cost for current position and personal best\u001b[0m\u001b[0;34m\u001b[0m\u001b[0;34m\u001b[0m\u001b[0m\n\u001b[1;32m    207\u001b[0m             self.swarm.current_cost = compute_objective_function(\n\u001b[0;32m--> 208\u001b[0;31m                 \u001b[0mself\u001b[0m\u001b[0;34m.\u001b[0m\u001b[0mswarm\u001b[0m\u001b[0;34m,\u001b[0m \u001b[0mobjective_func\u001b[0m\u001b[0;34m,\u001b[0m \u001b[0mpool\u001b[0m\u001b[0;34m=\u001b[0m\u001b[0mpool\u001b[0m\u001b[0;34m,\u001b[0m \u001b[0;34m**\u001b[0m\u001b[0mkwargs\u001b[0m\u001b[0;34m\u001b[0m\u001b[0m\n\u001b[0m\u001b[1;32m    209\u001b[0m             )\n\u001b[1;32m    210\u001b[0m             self.swarm.pbest_pos, self.swarm.pbest_cost = compute_pbest(\n",
      "\u001b[0;32m~/anaconda3/lib/python3.6/site-packages/pyswarms/backend/operators.py\u001b[0m in \u001b[0;36mcompute_objective_function\u001b[0;34m(swarm, objective_func, pool, **kwargs)\u001b[0m\n\u001b[1;32m    241\u001b[0m         results = pool.map(\n\u001b[1;32m    242\u001b[0m             \u001b[0mpartial\u001b[0m\u001b[0;34m(\u001b[0m\u001b[0mobjective_func\u001b[0m\u001b[0;34m,\u001b[0m \u001b[0;34m**\u001b[0m\u001b[0mkwargs\u001b[0m\u001b[0;34m)\u001b[0m\u001b[0;34m,\u001b[0m\u001b[0;34m\u001b[0m\u001b[0m\n\u001b[0;32m--> 243\u001b[0;31m             \u001b[0mnp\u001b[0m\u001b[0;34m.\u001b[0m\u001b[0marray_split\u001b[0m\u001b[0;34m(\u001b[0m\u001b[0mswarm\u001b[0m\u001b[0;34m.\u001b[0m\u001b[0mposition\u001b[0m\u001b[0;34m,\u001b[0m \u001b[0mpool\u001b[0m\u001b[0;34m.\u001b[0m\u001b[0m_processes\u001b[0m\u001b[0;34m)\u001b[0m\u001b[0;34m,\u001b[0m\u001b[0;34m\u001b[0m\u001b[0m\n\u001b[0m\u001b[1;32m    244\u001b[0m         )\n\u001b[1;32m    245\u001b[0m         \u001b[0;32mreturn\u001b[0m \u001b[0mnp\u001b[0m\u001b[0;34m.\u001b[0m\u001b[0mconcatenate\u001b[0m\u001b[0;34m(\u001b[0m\u001b[0mresults\u001b[0m\u001b[0;34m)\u001b[0m\u001b[0;34m\u001b[0m\u001b[0m\n",
      "\u001b[0;32m~/anaconda3/lib/python3.6/multiprocessing/pool.py\u001b[0m in \u001b[0;36mmap\u001b[0;34m(self, func, iterable, chunksize)\u001b[0m\n\u001b[1;32m    264\u001b[0m         \u001b[0;32min\u001b[0m \u001b[0ma\u001b[0m \u001b[0mlist\u001b[0m \u001b[0mthat\u001b[0m \u001b[0;32mis\u001b[0m \u001b[0mreturned\u001b[0m\u001b[0;34m.\u001b[0m\u001b[0;34m\u001b[0m\u001b[0m\n\u001b[1;32m    265\u001b[0m         '''\n\u001b[0;32m--> 266\u001b[0;31m         \u001b[0;32mreturn\u001b[0m \u001b[0mself\u001b[0m\u001b[0;34m.\u001b[0m\u001b[0m_map_async\u001b[0m\u001b[0;34m(\u001b[0m\u001b[0mfunc\u001b[0m\u001b[0;34m,\u001b[0m \u001b[0miterable\u001b[0m\u001b[0;34m,\u001b[0m \u001b[0mmapstar\u001b[0m\u001b[0;34m,\u001b[0m \u001b[0mchunksize\u001b[0m\u001b[0;34m)\u001b[0m\u001b[0;34m.\u001b[0m\u001b[0mget\u001b[0m\u001b[0;34m(\u001b[0m\u001b[0;34m)\u001b[0m\u001b[0;34m\u001b[0m\u001b[0m\n\u001b[0m\u001b[1;32m    267\u001b[0m \u001b[0;34m\u001b[0m\u001b[0m\n\u001b[1;32m    268\u001b[0m     \u001b[0;32mdef\u001b[0m \u001b[0mstarmap\u001b[0m\u001b[0;34m(\u001b[0m\u001b[0mself\u001b[0m\u001b[0;34m,\u001b[0m \u001b[0mfunc\u001b[0m\u001b[0;34m,\u001b[0m \u001b[0miterable\u001b[0m\u001b[0;34m,\u001b[0m \u001b[0mchunksize\u001b[0m\u001b[0;34m=\u001b[0m\u001b[0;32mNone\u001b[0m\u001b[0;34m)\u001b[0m\u001b[0;34m:\u001b[0m\u001b[0;34m\u001b[0m\u001b[0m\n",
      "\u001b[0;32m~/anaconda3/lib/python3.6/multiprocessing/pool.py\u001b[0m in \u001b[0;36mget\u001b[0;34m(self, timeout)\u001b[0m\n\u001b[1;32m    642\u001b[0m             \u001b[0;32mreturn\u001b[0m \u001b[0mself\u001b[0m\u001b[0;34m.\u001b[0m\u001b[0m_value\u001b[0m\u001b[0;34m\u001b[0m\u001b[0m\n\u001b[1;32m    643\u001b[0m         \u001b[0;32melse\u001b[0m\u001b[0;34m:\u001b[0m\u001b[0;34m\u001b[0m\u001b[0m\n\u001b[0;32m--> 644\u001b[0;31m             \u001b[0;32mraise\u001b[0m \u001b[0mself\u001b[0m\u001b[0;34m.\u001b[0m\u001b[0m_value\u001b[0m\u001b[0;34m\u001b[0m\u001b[0m\n\u001b[0m\u001b[1;32m    645\u001b[0m \u001b[0;34m\u001b[0m\u001b[0m\n\u001b[1;32m    646\u001b[0m     \u001b[0;32mdef\u001b[0m \u001b[0m_set\u001b[0m\u001b[0;34m(\u001b[0m\u001b[0mself\u001b[0m\u001b[0;34m,\u001b[0m \u001b[0mi\u001b[0m\u001b[0;34m,\u001b[0m \u001b[0mobj\u001b[0m\u001b[0;34m)\u001b[0m\u001b[0;34m:\u001b[0m\u001b[0;34m\u001b[0m\u001b[0m\n",
      "\u001b[0;31mTypeError\u001b[0m: objectiveFunction() got an unexpected keyword argument 'verbose'"
     ]
    }
   ],
   "source": [
    "for cases, deaths in tqdm(zip(infeclists, deathslists)):\n",
    "    model = SEIRHUD(tamanhoPop = N, numeroProcessadores = 8)\n",
    "    model.fit(x = range(1,len(data[\"cases\"]) + 1),\n",
    "          y = np.cumsum(cases),\n",
    "          d = np.cumsum(deaths),\n",
    "          bound = bound,\n",
    "          kappa = kappa,\n",
    "          p = p,\n",
    "          gammaA = gammaA,\n",
    "          gammaS = gammaS,\n",
    "          muH = muH,\n",
    "          muU = muU,\n",
    "          xi = xi,\n",
    "          omegaU = omega_U,\n",
    "          omegaH = omega_H,\n",
    "          stand_error = True,\n",
    "          )\n",
    "    results = model.predict(range(1,len(data[\"cases\"]) + 200))\n",
    "    \n",
    "    coef = model.getCoef()\n",
    "    \n",
    "    #Append predictions\n",
    "    ypred.append(results[\"pred\"])\n",
    "    dpred.append(results[\"death\"])\n",
    "    spred.append(results[\"susceptible\"])\n",
    "    epred.append(results[\"exposed\"])\n",
    "    \n",
    "    \n",
    "    #append parameters\n",
    "    beta1.append(coef[\"beta1\"])\n",
    "    beta2.append(coef[\"beta2\"])\n",
    "    gammaH.append(coef[\"gammaH\"])\n",
    "    gammaU.append(coef[\"gammaU\"])\n",
    "    delta.append(coef[\"delta\"])\n",
    "    t1.append(coef[\"dia_mudanca\"])\n",
    "    ia0.append(coef[\"ia0\"])\n",
    "    e0.append(coef[\"e0\"])\n",
    "    is0.append(coef[\"is0\"])"
   ]
  },
  {
   "cell_type": "code",
   "execution_count": null,
   "metadata": {},
   "outputs": [],
   "source": [
    "def getConfidenceInterval(series, length):\n",
    "    series = np.array(series)\n",
    "    \n",
    "    #Compute mean value\n",
    "    meanValue = [np.mean(series[:,i]) for i in range(0,length)]\n",
    "\n",
    "    #Compute deltaStar\n",
    "    deltaStar = meanValue - series\n",
    "\n",
    "    #Compute lower and uper bound\n",
    "    deltaL = [np.quantile(deltaStar[:,i], q = 0.025) for i in range(0,length)]\n",
    "    deltaU = [np.quantile(deltaStar[:,i], q = 0.975) for i in range(0,length)]\n",
    "\n",
    "    #Compute CI\n",
    "    lowerBound  = np.array(meanValue) + np.array(deltaL)\n",
    "    UpperBound  = np.array(meanValue) + np.array(deltaU)\n",
    "    return [meanValue, lowerBound, UpperBound]"
   ]
  },
  {
   "cell_type": "code",
   "execution_count": null,
   "metadata": {},
   "outputs": [],
   "source": [
    "#Get confidence interval for prediction\n",
    "for i, pred in tqdm(zip([ypred, dpred, epred, spred],\n",
    "                   [\"Infec\", \"deaths\", \"exposed\", \"susceptible\"])):\n",
    "    Meanvalue, lowerBound, UpperBound = getConfidenceInterval(i, len(data[\"cases\"]) + 199)\n",
    "    df = pd.DataFrame.from_dict({pred + \"_mean\": Meanvalue,\n",
    "                            pred + \"_lb\": lowerBound,\n",
    "                            pred + \"_ub\": UpperBound})\n",
    "    df.to_csv(\"../results/Salvador/\" + pred + \".csv\", index = False)"
   ]
  },
  {
   "cell_type": "code",
   "execution_count": null,
   "metadata": {},
   "outputs": [],
   "source": [
    "#Exprort parametes\n",
    "parameters = pd.DataFrame.from_dict({\"beta1\": beta1,\n",
    "                                     \"beta2\": beta2,\n",
    "                                     \"gammaH\": gammaH,\n",
    "                                     \"gammaU\": gammaU,\n",
    "                                     \"delta\": delta,\n",
    "                                     \"ia0\":ia0,\n",
    "                                     \"e0\": e0,\n",
    "                                     \"t1\": t1,\n",
    "                                     \"is0\":is0})\n",
    "parameters.to_csv(\"../results/Salvador/Parameters.csv\", index = False)"
   ]
  }
 ],
 "metadata": {
  "kernelspec": {
   "display_name": "Python 3",
   "language": "python",
   "name": "python3"
  },
  "language_info": {
   "codemirror_mode": {
    "name": "ipython",
    "version": 3
   },
   "file_extension": ".py",
   "mimetype": "text/x-python",
   "name": "python",
   "nbconvert_exporter": "python",
   "pygments_lexer": "ipython3",
   "version": "3.6.5"
  }
 },
 "nbformat": 4,
 "nbformat_minor": 4
}
