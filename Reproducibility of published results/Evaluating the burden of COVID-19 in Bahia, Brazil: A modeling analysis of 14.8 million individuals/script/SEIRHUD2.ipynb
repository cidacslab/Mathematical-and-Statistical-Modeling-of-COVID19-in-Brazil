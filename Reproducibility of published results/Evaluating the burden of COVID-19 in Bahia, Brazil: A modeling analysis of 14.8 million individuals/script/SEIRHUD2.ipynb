{
 "cells": [
  {
   "cell_type": "markdown",
   "metadata": {},
   "source": [
    "<h1>Run SEIRHUD</h1>"
   ]
  },
  {
   "cell_type": "code",
   "execution_count": null,
   "metadata": {},
   "outputs": [],
   "source": [
    "from model import SEIRHUD\n",
    "import csv\n",
    "import numpy as np\n",
    "import pandas as pd\n",
    "import time\n",
    "import warnings\n",
    "from tqdm import tqdm\n",
    "import multiprocessing as mp\n",
    "warnings.filterwarnings('ignore')"
   ]
  },
  {
   "cell_type": "code",
   "execution_count": null,
   "metadata": {},
   "outputs": [],
   "source": [
    "data = pd.read_csv(\"../data/data.csv\")\n",
    "data.head()"
   ]
  },
  {
   "cell_type": "code",
   "execution_count": null,
   "metadata": {},
   "outputs": [],
   "source": [
    "#Define empty lists to recive results\n",
    "ypred = []\n",
    "dpred = []\n",
    "upred = []\n",
    "hpred = []\n",
    "spred = []\n",
    "epred = []\n",
    "beta1 = []\n",
    "beta2 = []\n",
    "gammaH = []\n",
    "gammaU = []\n",
    "delta = []\n",
    "ia0 = []\n",
    "t1 = []\n",
    "e0 = []\n",
    "is0 = []"
   ]
  },
  {
   "cell_type": "code",
   "execution_count": null,
   "metadata": {},
   "outputs": [],
   "source": [
    "#define fixed parameters:\n",
    "kappa = 1/4\n",
    "p = 0.2\n",
    "gammaA = 1/3.5\n",
    "gammaS = 1/4\n",
    "muH = 0.15\n",
    "muU = 0.4\n",
    "xi = 0.53 \n",
    "omega_U = 0.29 \n",
    "omega_H = 0.14\n",
    "N = 14873064\n",
    "bound = ([0,0,0,1/14,1/14,0,0.05,0,0,0],\n",
    "         [1.5,1,30,1/5,1/5,1,0.35,10/N,10/N,10/N])"
   ]
  },
  {
   "cell_type": "code",
   "execution_count": null,
   "metadata": {},
   "outputs": [],
   "source": [
    "model = SEIRHUD(N,nCores=1)"
   ]
  },
  {
   "cell_type": "code",
   "execution_count": null,
   "metadata": {},
   "outputs": [],
   "source": [
    "model.fit(x=range(1,len(data.infec)+1),y=data.infec,d=data.dth,fittingByCumulativeCases=False,kappa=kappa,p = p,gammaA = gammaA, gammaS = gammaS, muH = muH,muU = muU,xi = xi,omegaU = omega_U,omegaH=omega_H ,bound= bound)"
   ]
  },
  {
   "cell_type": "code",
   "execution_count": null,
   "metadata": {},
   "outputs": [],
   "source": [
    "model.save(\"../results/model1.dat\")\n",
    "model.predict(200)\n",
    "model.save(\"../results/model2.dat\")"
   ]
  },
  {
   "cell_type": "code",
   "execution_count": null,
   "metadata": {},
   "outputs": [],
   "source": [
    "model.computeCI(times=500, level=0.95)"
   ]
  },
  {
   "cell_type": "code",
   "execution_count": null,
   "metadata": {},
   "outputs": [],
   "source": [
    "model.save(\"../results/model3.dat\")"
   ]
  },
  {
   "cell_type": "code",
   "execution_count": null,
   "metadata": {},
   "outputs": [],
   "source": [
    "#Exprort parametes\n",
    "parameters = pd.DataFrame.from_dict({\"beta1\": model.lBeta[0],\n",
    "                                     \"beta2\": model.lBeta[1],\n",
    "                                     \"gammaH\": model.lGammaH,\n",
    "                                     \"gammaU\": model.lGammaU,\n",
    "                                     \"delta\": model.LDelta,\n",
    "                                     \"ia0\":model.lIa0,\n",
    "                                     \"e0\": model.lE0,\n",
    "                                     \"t1\": model.lDayBetaChange[0],\n",
    "                                     \"is0\":model.lIs0})\n",
    "parameters.to_csv(\"../results/Parameters.csv\", index = False)"
   ]
  },
  {
   "cell_type": "code",
   "execution_count": null,
   "metadata": {},
   "outputs": [],
   "source": []
  },
  {
   "cell_type": "code",
   "execution_count": null,
   "metadata": {},
   "outputs": [],
   "source": []
  }
 ],
 "metadata": {
  "kernelspec": {
   "display_name": "Python 3",
   "language": "python",
   "name": "python3"
  },
  "language_info": {
   "codemirror_mode": {
    "name": "ipython",
    "version": 3
   },
   "file_extension": ".py",
   "mimetype": "text/x-python",
   "name": "python",
   "nbconvert_exporter": "python",
   "pygments_lexer": "ipython3",
   "version": "3.7.3"
  }
 },
 "nbformat": 4,
 "nbformat_minor": 4
}
