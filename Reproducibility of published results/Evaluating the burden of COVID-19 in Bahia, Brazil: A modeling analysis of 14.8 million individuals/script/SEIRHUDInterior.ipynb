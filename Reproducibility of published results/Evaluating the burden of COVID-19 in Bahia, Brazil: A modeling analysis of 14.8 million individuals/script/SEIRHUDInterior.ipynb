{
 "cells": [
  {
   "cell_type": "markdown",
   "metadata": {},
   "source": [
    "<h1>Run SEIRHUD</h1>"
   ]
  },
  {
   "cell_type": "code",
   "execution_count": 1,
   "metadata": {},
   "outputs": [],
   "source": [
    "from model import SEIRHUD\n",
    "import csv\n",
    "import numpy as np\n",
    "import pandas as pd\n",
    "import time\n",
    "import warnings\n",
    "from tqdm import tqdm\n",
    "warnings.filterwarnings('ignore')"
   ]
  },
  {
   "cell_type": "code",
   "execution_count": 2,
   "metadata": {},
   "outputs": [
    {
     "data": {
      "text/html": [
       "<div>\n",
       "<style scoped>\n",
       "    .dataframe tbody tr th:only-of-type {\n",
       "        vertical-align: middle;\n",
       "    }\n",
       "\n",
       "    .dataframe tbody tr th {\n",
       "        vertical-align: top;\n",
       "    }\n",
       "\n",
       "    .dataframe thead th {\n",
       "        text-align: right;\n",
       "    }\n",
       "</style>\n",
       "<table border=\"1\" class=\"dataframe\">\n",
       "  <thead>\n",
       "    <tr style=\"text-align: right;\">\n",
       "      <th></th>\n",
       "      <th>dates</th>\n",
       "      <th>cases</th>\n",
       "      <th>deaths</th>\n",
       "    </tr>\n",
       "  </thead>\n",
       "  <tbody>\n",
       "    <tr>\n",
       "      <th>0</th>\n",
       "      <td>06-03-2020</td>\n",
       "      <td>1</td>\n",
       "      <td>0</td>\n",
       "    </tr>\n",
       "    <tr>\n",
       "      <th>1</th>\n",
       "      <td>07-03-2020</td>\n",
       "      <td>2</td>\n",
       "      <td>0</td>\n",
       "    </tr>\n",
       "    <tr>\n",
       "      <th>2</th>\n",
       "      <td>08-03-2020</td>\n",
       "      <td>2</td>\n",
       "      <td>0</td>\n",
       "    </tr>\n",
       "    <tr>\n",
       "      <th>3</th>\n",
       "      <td>09-03-2020</td>\n",
       "      <td>2</td>\n",
       "      <td>0</td>\n",
       "    </tr>\n",
       "    <tr>\n",
       "      <th>4</th>\n",
       "      <td>10-03-2020</td>\n",
       "      <td>2</td>\n",
       "      <td>0</td>\n",
       "    </tr>\n",
       "  </tbody>\n",
       "</table>\n",
       "</div>"
      ],
      "text/plain": [
       "        dates  cases  deaths\n",
       "0  06-03-2020      1       0\n",
       "1  07-03-2020      2       0\n",
       "2  08-03-2020      2       0\n",
       "3  09-03-2020      2       0\n",
       "4  10-03-2020      2       0"
      ]
     },
     "execution_count": 2,
     "metadata": {},
     "output_type": "execute_result"
    }
   ],
   "source": [
    "data = pd.read_csv(\"../data/dataInterior.csv\")\n",
    "data.head()"
   ]
  },
  {
   "cell_type": "code",
   "execution_count": 3,
   "metadata": {},
   "outputs": [],
   "source": [
    "def bootWeig(series, times):\n",
    "    series = np.diff(series)\n",
    "    series = np.insert(series, 0, 1)\n",
    "    results = []\n",
    "    for i in range(0,times):\n",
    "        results.append(np.random.multinomial(n = sum(series), pvals = series/sum(series)))\n",
    "    return np.array(results)"
   ]
  },
  {
   "cell_type": "code",
   "execution_count": 4,
   "metadata": {},
   "outputs": [],
   "source": [
    "#using bootstrap to \n",
    "infeclists = bootWeig(data[\"cases\"], 500)\n",
    "deathslists = bootWeig(data[\"deaths\"], 500)"
   ]
  },
  {
   "cell_type": "code",
   "execution_count": 5,
   "metadata": {},
   "outputs": [],
   "source": [
    "#Define empty lists to recive results\n",
    "ypred = []\n",
    "dpred = []\n",
    "spred = []\n",
    "epred = []\n",
    "beta1 = []\n",
    "beta2 = []\n",
    "gammaH = []\n",
    "gammaU = []\n",
    "delta = []\n",
    "ia0 = []\n",
    "t1 = []\n",
    "e0 = []\n",
    "is0 = []"
   ]
  },
  {
   "cell_type": "code",
   "execution_count": 6,
   "metadata": {},
   "outputs": [],
   "source": [
    "#define fixed parameters:\n",
    "kappa = 1/4\n",
    "p = 0.2\n",
    "gammaA = 1/3.5\n",
    "gammaS = 1/4\n",
    "muH = 0.15\n",
    "muU = 0.4\n",
    "xi = 0.53\n",
    "omega_U = 0.29 \n",
    "omega_H = 0.14\n",
    "N = 2872347\n",
    "bound = ([0,0,0,1/14,1/14,0,0.05,0,0,0],\n",
    "         [30,1.5,1,1/5,1/5,1,0.35,10/N,10/N,10/N])"
   ]
  },
  {
   "cell_type": "code",
   "execution_count": 7,
   "metadata": {},
   "outputs": [
    {
     "name": "stderr",
     "output_type": "stream",
     "text": [
      "100it [53:58, 32.39s/it]\n"
     ]
    }
   ],
   "source": [
    "for cases, deaths in tqdm(zip(infeclists, deathslists)):\n",
    "    model = SEIRHUD(tamanhoPop = N, numeroProcessadores = 8)\n",
    "    model.fit(x = range(1,len(data[\"cases\"]) + 1),\n",
    "          y = np.cumsum(cases),\n",
    "          d = np.cumsum(deaths),\n",
    "          bound = bound,\n",
    "          kappa = kappa,\n",
    "          p = p,\n",
    "          gammaA = gammaA,\n",
    "          gammaS = gammaS,\n",
    "          muH = muH,\n",
    "          muU = muU,\n",
    "          xi = xi,\n",
    "          omegaU = omega_U,\n",
    "          omegaH = omega_H,\n",
    "          stand_error = True,\n",
    "          )\n",
    "    results = model.predict(range(1,len(data[\"cases\"]) + 200))\n",
    "    \n",
    "    coef = model.getCoef()\n",
    "    \n",
    "    #Append predictions\n",
    "    ypred.append(results[\"pred\"])\n",
    "    dpred.append(results[\"death\"])\n",
    "    spred.append(results[\"susceptible\"])\n",
    "    epred.append(results[\"exposed\"])\n",
    "    \n",
    "    \n",
    "    #append parameters\n",
    "    beta1.append(coef[\"beta1\"])\n",
    "    beta2.append(coef[\"beta2\"])\n",
    "    gammaH.append(coef[\"gammaH\"])\n",
    "    gammaU.append(coef[\"gammaU\"])\n",
    "    delta.append(coef[\"delta\"])\n",
    "    t1.append(coef[\"dia_mudanca\"])\n",
    "    ia0.append(coef[\"ia0\"])\n",
    "    e0.append(coef[\"e0\"])\n",
    "    is0.append(coef[\"is0\"])"
   ]
  },
  {
   "cell_type": "code",
   "execution_count": 8,
   "metadata": {},
   "outputs": [],
   "source": [
    "def getConfidenceInterval(series, length):\n",
    "    series = np.array(series)\n",
    "    \n",
    "    #Compute mean value\n",
    "    meanValue = [np.mean(series[:,i]) for i in range(0,length)]\n",
    "\n",
    "    #Compute deltaStar\n",
    "    deltaStar = meanValue - series\n",
    "\n",
    "    #Compute lower and uper bound\n",
    "    deltaL = [np.quantile(deltaStar[:,i], q = 0.025) for i in range(0,length)]\n",
    "    deltaU = [np.quantile(deltaStar[:,i], q = 0.975) for i in range(0,length)]\n",
    "\n",
    "    #Compute CI\n",
    "    lowerBound  = np.array(meanValue) + np.array(deltaL)\n",
    "    UpperBound  = np.array(meanValue) + np.array(deltaU)\n",
    "    return [meanValue, lowerBound, UpperBound]"
   ]
  },
  {
   "cell_type": "code",
   "execution_count": 9,
   "metadata": {},
   "outputs": [
    {
     "name": "stderr",
     "output_type": "stream",
     "text": [
      "4it [00:00, 17.21it/s]\n"
     ]
    }
   ],
   "source": [
    "#Get confidence interval for prediction\n",
    "for i, pred in tqdm(zip([ypred, dpred, epred, spred],\n",
    "                   [\"Infec\", \"deaths\", \"exposed\", \"susceptible\"])):\n",
    "    Meanvalue, lowerBound, UpperBound = getConfidenceInterval(i, len(data[\"cases\"]) + 199)\n",
    "    df = pd.DataFrame.from_dict({pred + \"_mean\": Meanvalue,\n",
    "                            pred + \"_lb\": lowerBound,\n",
    "                            pred + \"_ub\": UpperBound})\n",
    "    df.to_csv(\"../results/Interior/\" + pred + \".csv\", index = False)"
   ]
  },
  {
   "cell_type": "code",
   "execution_count": 10,
   "metadata": {},
   "outputs": [],
   "source": [
    "#Exprort parametes\n",
    "parameters = pd.DataFrame.from_dict({\"beta1\": beta1,\n",
    "                                     \"beta2\": beta2,\n",
    "                                     \"gammaH\": gammaH,\n",
    "                                     \"gammaU\": gammaU,\n",
    "                                     \"delta\": delta,\n",
    "                                     \"ia0\":ia0,\n",
    "                                     \"e0\": e0,\n",
    "                                     \"t1\": t1,\n",
    "                                     \"is0\":is0})\n",
    "parameters.to_csv(\"../results/Interior/Parameters.csv\", index = False)"
   ]
  }
 ],
 "metadata": {
  "kernelspec": {
   "display_name": "Python 3",
   "language": "python",
   "name": "python3"
  },
  "language_info": {
   "codemirror_mode": {
    "name": "ipython",
    "version": 3
   },
   "file_extension": ".py",
   "mimetype": "text/x-python",
   "name": "python",
   "nbconvert_exporter": "python",
   "pygments_lexer": "ipython3",
   "version": "3.6.5"
  }
 },
 "nbformat": 4,
 "nbformat_minor": 4
}
