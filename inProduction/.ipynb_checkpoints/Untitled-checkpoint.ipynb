{
 "cells": [
  {
   "cell_type": "code",
   "execution_count": 1,
   "metadata": {},
   "outputs": [],
   "source": [
    "import pandas as pd\n",
    "import numpy as np\n",
    "from models import SEIRHUD, bootstrapSEIRHUD\n",
    "from scipy import stats"
   ]
  },
  {
   "cell_type": "code",
   "execution_count": 2,
   "metadata": {},
   "outputs": [
    {
     "data": {
      "text/html": [
       "<div>\n",
       "<style scoped>\n",
       "    .dataframe tbody tr th:only-of-type {\n",
       "        vertical-align: middle;\n",
       "    }\n",
       "\n",
       "    .dataframe tbody tr th {\n",
       "        vertical-align: top;\n",
       "    }\n",
       "\n",
       "    .dataframe thead th {\n",
       "        text-align: right;\n",
       "    }\n",
       "</style>\n",
       "<table border=\"1\" class=\"dataframe\">\n",
       "  <thead>\n",
       "    <tr style=\"text-align: right;\">\n",
       "      <th></th>\n",
       "      <th>date</th>\n",
       "      <th>state</th>\n",
       "      <th>city</th>\n",
       "      <th>place_type</th>\n",
       "      <th>confirmed</th>\n",
       "      <th>deaths</th>\n",
       "      <th>is_last</th>\n",
       "      <th>estimated_population_2019</th>\n",
       "      <th>city_ibge_code</th>\n",
       "      <th>confirmed_per_100k_inhabitants</th>\n",
       "      <th>death_rate</th>\n",
       "    </tr>\n",
       "  </thead>\n",
       "  <tbody>\n",
       "    <tr>\n",
       "      <th>0</th>\n",
       "      <td>2020-05-31</td>\n",
       "      <td>RO</td>\n",
       "      <td>NaN</td>\n",
       "      <td>state</td>\n",
       "      <td>4942</td>\n",
       "      <td>156</td>\n",
       "      <td>True</td>\n",
       "      <td>1777225</td>\n",
       "      <td>11</td>\n",
       "      <td>278.07396</td>\n",
       "      <td>0.0316</td>\n",
       "    </tr>\n",
       "    <tr>\n",
       "      <th>1</th>\n",
       "      <td>2020-05-30</td>\n",
       "      <td>RO</td>\n",
       "      <td>NaN</td>\n",
       "      <td>state</td>\n",
       "      <td>4743</td>\n",
       "      <td>151</td>\n",
       "      <td>False</td>\n",
       "      <td>1777225</td>\n",
       "      <td>11</td>\n",
       "      <td>266.87673</td>\n",
       "      <td>0.0318</td>\n",
       "    </tr>\n",
       "    <tr>\n",
       "      <th>2</th>\n",
       "      <td>2020-05-29</td>\n",
       "      <td>RO</td>\n",
       "      <td>NaN</td>\n",
       "      <td>state</td>\n",
       "      <td>4502</td>\n",
       "      <td>145</td>\n",
       "      <td>False</td>\n",
       "      <td>1777225</td>\n",
       "      <td>11</td>\n",
       "      <td>253.31627</td>\n",
       "      <td>0.0322</td>\n",
       "    </tr>\n",
       "    <tr>\n",
       "      <th>3</th>\n",
       "      <td>2020-05-28</td>\n",
       "      <td>RO</td>\n",
       "      <td>NaN</td>\n",
       "      <td>state</td>\n",
       "      <td>4252</td>\n",
       "      <td>142</td>\n",
       "      <td>False</td>\n",
       "      <td>1777225</td>\n",
       "      <td>11</td>\n",
       "      <td>239.24939</td>\n",
       "      <td>0.0334</td>\n",
       "    </tr>\n",
       "    <tr>\n",
       "      <th>4</th>\n",
       "      <td>2020-05-27</td>\n",
       "      <td>RO</td>\n",
       "      <td>NaN</td>\n",
       "      <td>state</td>\n",
       "      <td>3862</td>\n",
       "      <td>137</td>\n",
       "      <td>False</td>\n",
       "      <td>1777225</td>\n",
       "      <td>11</td>\n",
       "      <td>217.30507</td>\n",
       "      <td>0.0355</td>\n",
       "    </tr>\n",
       "  </tbody>\n",
       "</table>\n",
       "</div>"
      ],
      "text/plain": [
       "         date state  city place_type  confirmed  deaths  is_last  \\\n",
       "0  2020-05-31    RO   NaN      state       4942     156     True   \n",
       "1  2020-05-30    RO   NaN      state       4743     151    False   \n",
       "2  2020-05-29    RO   NaN      state       4502     145    False   \n",
       "3  2020-05-28    RO   NaN      state       4252     142    False   \n",
       "4  2020-05-27    RO   NaN      state       3862     137    False   \n",
       "\n",
       "   estimated_population_2019  city_ibge_code  confirmed_per_100k_inhabitants  \\\n",
       "0                    1777225              11                       278.07396   \n",
       "1                    1777225              11                       266.87673   \n",
       "2                    1777225              11                       253.31627   \n",
       "3                    1777225              11                       239.24939   \n",
       "4                    1777225              11                       217.30507   \n",
       "\n",
       "   death_rate  \n",
       "0      0.0316  \n",
       "1      0.0318  \n",
       "2      0.0322  \n",
       "3      0.0334  \n",
       "4      0.0355  "
      ]
     },
     "execution_count": 2,
     "metadata": {},
     "output_type": "execute_result"
    }
   ],
   "source": [
    "data = pd.read_csv(\"https://brasil.io/dataset/covid19/caso/?state=RO&place_type=state&format=csv\")\n",
    "data.head()"
   ]
  },
  {
   "cell_type": "code",
   "execution_count": 3,
   "metadata": {},
   "outputs": [],
   "source": [
    "model = bootstrapSEIRHUD(tamanhoPop = 1777225)"
   ]
  },
  {
   "cell_type": "code",
   "execution_count": 4,
   "metadata": {},
   "outputs": [
    {
     "name": "stderr",
     "output_type": "stream",
     "text": [
      "/home/rodriguesms/Hubic/Analise_de_dados/CIDACS/Mathematical-and-Statistical-Modeling-of-COVID19-in-Brazil/inProduction/models.py:75: RuntimeWarning: overflow encountered in exp\n",
      "  h = 1.0/(1.0+ np.exp(-2.0*50*t))\n"
     ]
    }
   ],
   "source": [
    "model.fit(x = range(1,len(data[\"confirmed\"]) + 1),\n",
    "          y = data[\"confirmed\"],\n",
    "          d = data[\"deaths\"])"
   ]
  },
  {
   "cell_type": "code",
   "execution_count": 5,
   "metadata": {},
   "outputs": [],
   "source": [
    "model.computeCI(2)"
   ]
  },
  {
   "cell_type": "code",
   "execution_count": 6,
   "metadata": {},
   "outputs": [
    {
     "data": {
      "text/html": [
       "<div>\n",
       "<style scoped>\n",
       "    .dataframe tbody tr th:only-of-type {\n",
       "        vertical-align: middle;\n",
       "    }\n",
       "\n",
       "    .dataframe tbody tr th {\n",
       "        vertical-align: top;\n",
       "    }\n",
       "\n",
       "    .dataframe thead th {\n",
       "        text-align: right;\n",
       "    }\n",
       "</style>\n",
       "<table border=\"1\" class=\"dataframe\">\n",
       "  <thead>\n",
       "    <tr style=\"text-align: right;\">\n",
       "      <th></th>\n",
       "      <th>beta1</th>\n",
       "      <th>beta2</th>\n",
       "      <th>gammaH</th>\n",
       "      <th>gammaU</th>\n",
       "      <th>delta</th>\n",
       "      <th>e0</th>\n",
       "      <th>a0</th>\n",
       "      <th>is0</th>\n",
       "    </tr>\n",
       "  </thead>\n",
       "  <tbody>\n",
       "    <tr>\n",
       "      <th>0</th>\n",
       "      <td>0.625951</td>\n",
       "      <td>1.438574</td>\n",
       "      <td>0.237315</td>\n",
       "      <td>0.096747</td>\n",
       "      <td>0.071460</td>\n",
       "      <td>0.000004</td>\n",
       "      <td>0.000004</td>\n",
       "      <td>0.000005</td>\n",
       "    </tr>\n",
       "    <tr>\n",
       "      <th>1</th>\n",
       "      <td>0.798446</td>\n",
       "      <td>1.120078</td>\n",
       "      <td>0.212259</td>\n",
       "      <td>0.084080</td>\n",
       "      <td>0.316104</td>\n",
       "      <td>0.000004</td>\n",
       "      <td>0.000004</td>\n",
       "      <td>0.000003</td>\n",
       "    </tr>\n",
       "  </tbody>\n",
       "</table>\n",
       "</div>"
      ],
      "text/plain": [
       "      beta1     beta2    gammaH    gammaU     delta        e0        a0  \\\n",
       "0  0.625951  1.438574  0.237315  0.096747  0.071460  0.000004  0.000004   \n",
       "1  0.798446  1.120078  0.212259  0.084080  0.316104  0.000004  0.000004   \n",
       "\n",
       "        is0  \n",
       "0  0.000005  \n",
       "1  0.000003  "
      ]
     },
     "execution_count": 6,
     "metadata": {},
     "output_type": "execute_result"
    }
   ],
   "source": [
    "model.parameters"
   ]
  },
  {
   "cell_type": "code",
   "execution_count": 9,
   "metadata": {},
   "outputs": [
    {
     "data": {
      "text/plain": [
       "[array([  0.        ,   0.43646646,   0.98020964,   1.57997719,\n",
       "          2.20111142,   2.8252495 ,   3.49157407,   4.28484906,\n",
       "          5.174642  ,   6.14322993,   7.18088534,   8.28325318,\n",
       "          9.4494673 ,  10.68008072,  11.9770038 ,  13.34262452,\n",
       "         14.77989194,  16.29255104,  17.88385383,  19.55723401,\n",
       "         21.31856103,  23.16955174,  25.11631697,  27.16436143,\n",
       "         29.31899619,  31.58548501,  33.96918334,  36.47648029,\n",
       "         39.11397007,  41.88789262,  44.80570152,  47.87503933,\n",
       "         51.10315381,  54.49835882,  58.06931032,  61.82513216,\n",
       "         65.77530874,  69.92997561,  74.31663687,  78.89845232,\n",
       "         83.73067854,  88.81630771,  94.1631016 ,  99.79105736,\n",
       "        105.7061011 , 111.92697542, 118.47084426, 125.35454663,\n",
       "        132.59491586, 140.20932133, 148.21838595, 156.64182137,\n",
       "        165.53212031, 174.82197656, 184.61671534, 194.92311271,\n",
       "        205.76173703, 217.16267981, 229.14848393, 241.75448822,\n",
       "        255.01409158, 268.95983102, 283.62536599, 299.04956122,\n",
       "        315.27026486, 332.3286126 , 350.26866632, 369.13369968,\n",
       "        388.97356913]),\n",
       " array([  0.        ,   0.45128363,   1.06594432,   1.7883471 ,\n",
       "          2.59000502,   3.45474837,   4.3728225 ,   5.34006797,\n",
       "          6.35471556,   7.41623208,   8.52518943,   9.68265583,\n",
       "         10.89008397,  12.14923161,  13.46208362,  14.83078913,\n",
       "         16.25809083,  17.74643405,  19.29700166,  20.91416761,\n",
       "         22.59514111,  24.35501922,  26.18576539,  28.09165552,\n",
       "         30.07751881,  32.14736237,  34.30518366,  36.55460282,\n",
       "         38.89924335,  41.34286241,  43.88929467,  46.54342586,\n",
       "         49.30987594,  52.19303446,  55.22992998,  58.34034443,\n",
       "         61.59542723,  64.99517838,  68.54086269,  72.23702937,\n",
       "         76.08971243,  80.10386067,  84.28782096,  88.64569514,\n",
       "         93.18757986,  97.92175092, 102.85579435, 107.99810585,\n",
       "        113.35758757, 118.94760656, 124.764418  , 130.83139209,\n",
       "        137.15465201, 143.74502622, 150.61281776, 157.76913367,\n",
       "        165.22478197, 172.99513458, 181.09436841, 189.67650564,\n",
       "        199.41926695, 210.3692109 , 222.54941022, 236.02914955,\n",
       "        250.91058968, 267.32015676, 285.40339344, 305.3248993 ,\n",
       "        327.26793239])]"
      ]
     },
     "execution_count": 9,
     "metadata": {},
     "output_type": "execute_result"
    }
   ],
   "source": []
  }
 ],
 "metadata": {
  "kernelspec": {
   "display_name": "Python 3",
   "language": "python",
   "name": "python3"
  },
  "language_info": {
   "codemirror_mode": {
    "name": "ipython",
    "version": 3
   },
   "file_extension": ".py",
   "mimetype": "text/x-python",
   "name": "python",
   "nbconvert_exporter": "python",
   "pygments_lexer": "ipython3",
   "version": "3.7.3"
  }
 },
 "nbformat": 4,
 "nbformat_minor": 4
}
