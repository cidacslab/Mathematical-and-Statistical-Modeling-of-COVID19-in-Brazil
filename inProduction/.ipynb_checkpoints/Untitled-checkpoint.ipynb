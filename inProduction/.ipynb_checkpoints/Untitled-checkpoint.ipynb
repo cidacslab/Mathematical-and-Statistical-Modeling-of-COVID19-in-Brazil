{
 "cells": [
  {
   "cell_type": "code",
   "execution_count": 1,
   "metadata": {},
   "outputs": [],
   "source": [
    "import pandas as pd\n",
    "import numpy as np\n",
    "from models import SEIRHUD, bootstrapSEIRHUD\n",
    "from scipy import stats"
   ]
  },
  {
   "cell_type": "code",
   "execution_count": 2,
   "metadata": {},
   "outputs": [
    {
     "data": {
      "text/html": [
       "<div>\n",
       "<style scoped>\n",
       "    .dataframe tbody tr th:only-of-type {\n",
       "        vertical-align: middle;\n",
       "    }\n",
       "\n",
       "    .dataframe tbody tr th {\n",
       "        vertical-align: top;\n",
       "    }\n",
       "\n",
       "    .dataframe thead th {\n",
       "        text-align: right;\n",
       "    }\n",
       "</style>\n",
       "<table border=\"1\" class=\"dataframe\">\n",
       "  <thead>\n",
       "    <tr style=\"text-align: right;\">\n",
       "      <th></th>\n",
       "      <th>date</th>\n",
       "      <th>state</th>\n",
       "      <th>city</th>\n",
       "      <th>place_type</th>\n",
       "      <th>confirmed</th>\n",
       "      <th>deaths</th>\n",
       "      <th>is_last</th>\n",
       "      <th>estimated_population_2019</th>\n",
       "      <th>city_ibge_code</th>\n",
       "      <th>confirmed_per_100k_inhabitants</th>\n",
       "      <th>death_rate</th>\n",
       "    </tr>\n",
       "  </thead>\n",
       "  <tbody>\n",
       "    <tr>\n",
       "      <th>0</th>\n",
       "      <td>2020-05-31</td>\n",
       "      <td>RO</td>\n",
       "      <td>NaN</td>\n",
       "      <td>state</td>\n",
       "      <td>4942</td>\n",
       "      <td>156</td>\n",
       "      <td>True</td>\n",
       "      <td>1777225</td>\n",
       "      <td>11</td>\n",
       "      <td>278.07396</td>\n",
       "      <td>0.0316</td>\n",
       "    </tr>\n",
       "    <tr>\n",
       "      <th>1</th>\n",
       "      <td>2020-05-30</td>\n",
       "      <td>RO</td>\n",
       "      <td>NaN</td>\n",
       "      <td>state</td>\n",
       "      <td>4743</td>\n",
       "      <td>151</td>\n",
       "      <td>False</td>\n",
       "      <td>1777225</td>\n",
       "      <td>11</td>\n",
       "      <td>266.87673</td>\n",
       "      <td>0.0318</td>\n",
       "    </tr>\n",
       "    <tr>\n",
       "      <th>2</th>\n",
       "      <td>2020-05-29</td>\n",
       "      <td>RO</td>\n",
       "      <td>NaN</td>\n",
       "      <td>state</td>\n",
       "      <td>4502</td>\n",
       "      <td>145</td>\n",
       "      <td>False</td>\n",
       "      <td>1777225</td>\n",
       "      <td>11</td>\n",
       "      <td>253.31627</td>\n",
       "      <td>0.0322</td>\n",
       "    </tr>\n",
       "    <tr>\n",
       "      <th>3</th>\n",
       "      <td>2020-05-28</td>\n",
       "      <td>RO</td>\n",
       "      <td>NaN</td>\n",
       "      <td>state</td>\n",
       "      <td>4252</td>\n",
       "      <td>142</td>\n",
       "      <td>False</td>\n",
       "      <td>1777225</td>\n",
       "      <td>11</td>\n",
       "      <td>239.24939</td>\n",
       "      <td>0.0334</td>\n",
       "    </tr>\n",
       "    <tr>\n",
       "      <th>4</th>\n",
       "      <td>2020-05-27</td>\n",
       "      <td>RO</td>\n",
       "      <td>NaN</td>\n",
       "      <td>state</td>\n",
       "      <td>3862</td>\n",
       "      <td>137</td>\n",
       "      <td>False</td>\n",
       "      <td>1777225</td>\n",
       "      <td>11</td>\n",
       "      <td>217.30507</td>\n",
       "      <td>0.0355</td>\n",
       "    </tr>\n",
       "  </tbody>\n",
       "</table>\n",
       "</div>"
      ],
      "text/plain": [
       "         date state  city place_type  confirmed  deaths  is_last  \\\n",
       "0  2020-05-31    RO   NaN      state       4942     156     True   \n",
       "1  2020-05-30    RO   NaN      state       4743     151    False   \n",
       "2  2020-05-29    RO   NaN      state       4502     145    False   \n",
       "3  2020-05-28    RO   NaN      state       4252     142    False   \n",
       "4  2020-05-27    RO   NaN      state       3862     137    False   \n",
       "\n",
       "   estimated_population_2019  city_ibge_code  confirmed_per_100k_inhabitants  \\\n",
       "0                    1777225              11                       278.07396   \n",
       "1                    1777225              11                       266.87673   \n",
       "2                    1777225              11                       253.31627   \n",
       "3                    1777225              11                       239.24939   \n",
       "4                    1777225              11                       217.30507   \n",
       "\n",
       "   death_rate  \n",
       "0      0.0316  \n",
       "1      0.0318  \n",
       "2      0.0322  \n",
       "3      0.0334  \n",
       "4      0.0355  "
      ]
     },
     "execution_count": 2,
     "metadata": {},
     "output_type": "execute_result"
    }
   ],
   "source": [
    "data = pd.read_csv(\"https://brasil.io/dataset/covid19/caso/?state=RO&place_type=state&format=csv\")\n",
    "data.head()"
   ]
  },
  {
   "cell_type": "code",
   "execution_count": 3,
   "metadata": {},
   "outputs": [],
   "source": [
    "model = bootstrapSEIRHUD(tamanhoPop = 1777225)"
   ]
  },
  {
   "cell_type": "code",
   "execution_count": 4,
   "metadata": {},
   "outputs": [
    {
     "name": "stderr",
     "output_type": "stream",
     "text": [
      "/home/rodriguesms/Hubic/Analise_de_dados/CIDACS/Mathematical-and-Statistical-Modeling-of-COVID19-in-Brazil/inProduction/models.py:75: RuntimeWarning: overflow encountered in exp\n",
      "  h = 1.0/(1.0+ np.exp(-2.0*50*t))\n"
     ]
    }
   ],
   "source": [
    "model.fit(x = range(1,len(data[\"confirmed\"]) + 1),\n",
    "          y = data[\"confirmed\"],\n",
    "          d = data[\"deaths\"])"
   ]
  },
  {
   "cell_type": "code",
   "execution_count": 5,
   "metadata": {},
   "outputs": [],
   "source": [
    "model.computeCI(2)"
   ]
  }
 ],
 "metadata": {
  "kernelspec": {
   "display_name": "Python 3",
   "language": "python",
   "name": "python3"
  },
  "language_info": {
   "codemirror_mode": {
    "name": "ipython",
    "version": 3
   },
   "file_extension": ".py",
   "mimetype": "text/x-python",
   "name": "python",
   "nbconvert_exporter": "python",
   "pygments_lexer": "ipython3",
   "version": "3.7.3"
  }
 },
 "nbformat": 4,
 "nbformat_minor": 4
}
