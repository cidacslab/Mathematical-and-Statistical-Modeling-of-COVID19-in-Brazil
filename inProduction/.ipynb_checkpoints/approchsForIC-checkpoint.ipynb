{
 "cells": [
  {
   "cell_type": "code",
   "execution_count": 1,
   "metadata": {},
   "outputs": [],
   "source": [
    "import scipy.integrate as spi\n",
    "import numpy as np\n",
    "import pylab as pl\n",
    "import numpy as np\n",
    "#import matplotlib.pyplot as plt\n",
    "from scipy.integrate import odeint\n",
    "from scipy import integrate\n",
    "from pylab import *\n",
    "from scipy.optimize import curve_fit\n",
    "import numpy as np\n",
    "from scipy import optimize\n",
    "import pandas as pd"
   ]
  },
  {
   "cell_type": "code",
   "execution_count": 2,
   "metadata": {},
   "outputs": [
    {
     "data": {
      "text/html": [
       "<div>\n",
       "<style scoped>\n",
       "    .dataframe tbody tr th:only-of-type {\n",
       "        vertical-align: middle;\n",
       "    }\n",
       "\n",
       "    .dataframe tbody tr th {\n",
       "        vertical-align: top;\n",
       "    }\n",
       "\n",
       "    .dataframe thead th {\n",
       "        text-align: right;\n",
       "    }\n",
       "</style>\n",
       "<table border=\"1\" class=\"dataframe\">\n",
       "  <thead>\n",
       "    <tr style=\"text-align: right;\">\n",
       "      <th></th>\n",
       "      <th>regiao</th>\n",
       "      <th>estado</th>\n",
       "      <th>data</th>\n",
       "      <th>casosNovos</th>\n",
       "      <th>casosAcumulados</th>\n",
       "      <th>obitosNovos</th>\n",
       "      <th>obitosAcumulados</th>\n",
       "    </tr>\n",
       "  </thead>\n",
       "  <tbody>\n",
       "    <tr>\n",
       "      <th>0</th>\n",
       "      <td>Norte</td>\n",
       "      <td>RO</td>\n",
       "      <td>2020-01-30</td>\n",
       "      <td>0</td>\n",
       "      <td>0</td>\n",
       "      <td>0</td>\n",
       "      <td>0</td>\n",
       "    </tr>\n",
       "    <tr>\n",
       "      <th>1</th>\n",
       "      <td>Norte</td>\n",
       "      <td>RO</td>\n",
       "      <td>2020-01-31</td>\n",
       "      <td>0</td>\n",
       "      <td>0</td>\n",
       "      <td>0</td>\n",
       "      <td>0</td>\n",
       "    </tr>\n",
       "    <tr>\n",
       "      <th>2</th>\n",
       "      <td>Norte</td>\n",
       "      <td>RO</td>\n",
       "      <td>2020-02-01</td>\n",
       "      <td>0</td>\n",
       "      <td>0</td>\n",
       "      <td>0</td>\n",
       "      <td>0</td>\n",
       "    </tr>\n",
       "    <tr>\n",
       "      <th>3</th>\n",
       "      <td>Norte</td>\n",
       "      <td>RO</td>\n",
       "      <td>2020-02-02</td>\n",
       "      <td>0</td>\n",
       "      <td>0</td>\n",
       "      <td>0</td>\n",
       "      <td>0</td>\n",
       "    </tr>\n",
       "    <tr>\n",
       "      <th>4</th>\n",
       "      <td>Norte</td>\n",
       "      <td>RO</td>\n",
       "      <td>2020-02-03</td>\n",
       "      <td>0</td>\n",
       "      <td>0</td>\n",
       "      <td>0</td>\n",
       "      <td>0</td>\n",
       "    </tr>\n",
       "  </tbody>\n",
       "</table>\n",
       "</div>"
      ],
      "text/plain": [
       "  regiao estado        data  casosNovos  casosAcumulados  obitosNovos  \\\n",
       "0  Norte     RO  2020-01-30           0                0            0   \n",
       "1  Norte     RO  2020-01-31           0                0            0   \n",
       "2  Norte     RO  2020-02-01           0                0            0   \n",
       "3  Norte     RO  2020-02-02           0                0            0   \n",
       "4  Norte     RO  2020-02-03           0                0            0   \n",
       "\n",
       "   obitosAcumulados  \n",
       "0                 0  \n",
       "1                 0  \n",
       "2                 0  \n",
       "3                 0  \n",
       "4                 0  "
      ]
     },
     "execution_count": 2,
     "metadata": {},
     "output_type": "execute_result"
    }
   ],
   "source": [
    "data = pd.read_csv(\"../data/dadosCovid.csv\")\n",
    "data.head()"
   ]
  },
  {
   "cell_type": "code",
   "execution_count": 3,
   "metadata": {},
   "outputs": [
    {
     "data": {
      "text/html": [
       "<div>\n",
       "<style scoped>\n",
       "    .dataframe tbody tr th:only-of-type {\n",
       "        vertical-align: middle;\n",
       "    }\n",
       "\n",
       "    .dataframe tbody tr th {\n",
       "        vertical-align: top;\n",
       "    }\n",
       "\n",
       "    .dataframe thead th {\n",
       "        text-align: right;\n",
       "    }\n",
       "</style>\n",
       "<table border=\"1\" class=\"dataframe\">\n",
       "  <thead>\n",
       "    <tr style=\"text-align: right;\">\n",
       "      <th></th>\n",
       "      <th>regiao</th>\n",
       "      <th>estado</th>\n",
       "      <th>data</th>\n",
       "      <th>casosNovos</th>\n",
       "      <th>casosAcumulados</th>\n",
       "      <th>obitosNovos</th>\n",
       "      <th>obitosAcumulados</th>\n",
       "    </tr>\n",
       "  </thead>\n",
       "  <tbody>\n",
       "    <tr>\n",
       "      <th>1501</th>\n",
       "      <td>Sudeste</td>\n",
       "      <td>SP</td>\n",
       "      <td>2020-02-26</td>\n",
       "      <td>1</td>\n",
       "      <td>1</td>\n",
       "      <td>0</td>\n",
       "      <td>0</td>\n",
       "    </tr>\n",
       "    <tr>\n",
       "      <th>1502</th>\n",
       "      <td>Sudeste</td>\n",
       "      <td>SP</td>\n",
       "      <td>2020-02-27</td>\n",
       "      <td>0</td>\n",
       "      <td>1</td>\n",
       "      <td>0</td>\n",
       "      <td>0</td>\n",
       "    </tr>\n",
       "    <tr>\n",
       "      <th>1503</th>\n",
       "      <td>Sudeste</td>\n",
       "      <td>SP</td>\n",
       "      <td>2020-02-28</td>\n",
       "      <td>0</td>\n",
       "      <td>1</td>\n",
       "      <td>0</td>\n",
       "      <td>0</td>\n",
       "    </tr>\n",
       "    <tr>\n",
       "      <th>1504</th>\n",
       "      <td>Sudeste</td>\n",
       "      <td>SP</td>\n",
       "      <td>2020-02-29</td>\n",
       "      <td>1</td>\n",
       "      <td>2</td>\n",
       "      <td>0</td>\n",
       "      <td>0</td>\n",
       "    </tr>\n",
       "    <tr>\n",
       "      <th>1505</th>\n",
       "      <td>Sudeste</td>\n",
       "      <td>SP</td>\n",
       "      <td>2020-03-01</td>\n",
       "      <td>0</td>\n",
       "      <td>2</td>\n",
       "      <td>0</td>\n",
       "      <td>0</td>\n",
       "    </tr>\n",
       "  </tbody>\n",
       "</table>\n",
       "</div>"
      ],
      "text/plain": [
       "       regiao estado        data  casosNovos  casosAcumulados  obitosNovos  \\\n",
       "1501  Sudeste     SP  2020-02-26           1                1            0   \n",
       "1502  Sudeste     SP  2020-02-27           0                1            0   \n",
       "1503  Sudeste     SP  2020-02-28           0                1            0   \n",
       "1504  Sudeste     SP  2020-02-29           1                2            0   \n",
       "1505  Sudeste     SP  2020-03-01           0                2            0   \n",
       "\n",
       "      obitosAcumulados  \n",
       "1501                 0  \n",
       "1502                 0  \n",
       "1503                 0  \n",
       "1504                 0  \n",
       "1505                 0  "
      ]
     },
     "execution_count": 3,
     "metadata": {},
     "output_type": "execute_result"
    }
   ],
   "source": [
    "#Select only Sao Paulo\n",
    "sp = data[data[\"estado\"] == \"SP\"]\n",
    "#Remove missing values to not crash the intervals\n",
    "sp = sp.dropna()\n",
    "sp.head()"
   ]
  },
  {
   "cell_type": "code",
   "execution_count": 4,
   "metadata": {},
   "outputs": [],
   "source": [
    "#create a series with the cummulative number of cases\n",
    "y = np.array(sp[\"casosAcumulados\"])\n",
    "\n",
    "#Give the number of days since the day of first case confirmed\n",
    "x = range(0,len(sp[\"casosAcumulados\"]))"
   ]
  },
  {
   "cell_type": "code",
   "execution_count": 5,
   "metadata": {},
   "outputs": [],
   "source": [
    "# Initial conditions\n",
    "I0 = 1/50000000\n",
    "S0= 1 -I0\n",
    "\n",
    "\n",
    "Time = range(0,len(y))\n",
    "DayFinal = len(y)"
   ]
  },
  {
   "cell_type": "code",
   "execution_count": 6,
   "metadata": {},
   "outputs": [],
   "source": [
    "gamma = 1/14"
   ]
  },
  {
   "cell_type": "code",
   "execution_count": 7,
   "metadata": {},
   "outputs": [],
   "source": [
    "#=EXAMPLE+DEFINING THE Solution of DF-EQ, TRIAL run NEEDS BETA and so on======================================================\n",
    "def eq(par,initial_cond,start_t,end_t,incr):\n",
    "    #-time-grid-----------------------------------\n",
    "    t  = np.linspace(start_t, end_t, num=incr, endpoint=True)\n",
    "    def funct(y,t):\n",
    "        S=y[0]\n",
    "        I=y[1]\n",
    "        R=y[2]\n",
    "        beta, gamma = par\n",
    "        f0 = - beta * S * I        \n",
    "        f1 = beta * S * I - gamma * I\n",
    "        f2 = gamma * I\n",
    "        return [f0, f1, f2]\n",
    "     #integrate------------------------------------\n",
    "    ds = integrate.odeint(funct,initial_cond,t)\n",
    "    return (ds[:,0],ds[:,1],ds[:,2],t)\n",
    "#======================================================="
   ]
  },
  {
   "cell_type": "code",
   "execution_count": 8,
   "metadata": {},
   "outputs": [
    {
     "data": {
      "image/png": "[encoded data removed]",
      "text/plain": [
       "<Figure size 432x288 with 1 Axes>"
      ]
     },
     "metadata": {
      "needs_background": "light"
     },
     "output_type": "display_data"
    }
   ],
   "source": [
    "ND=100.0\n",
    "beta = 0.30\n",
    "Param=(beta,gamma)\n",
    "#S0=1-1e-6          # Initial condition need to be defined \n",
    "#I0=1e-6\n",
    "INPUT = [S0, I0, 0.0] # R(0) = 0\n",
    "         # initial condition vector\n",
    "\n",
    "Sf, If, Rf, Days = eq(Param,INPUT,1,ND,800)  #1time, steps\n",
    "\n",
    "pl.plot(Days,If)\n",
    "pl.plot(Days,Sf)\n",
    "pl.plot(Days,Rf)\n",
    "pl.plot(y/50000000, 'ob')\n",
    "pl.show()"
   ]
  },
  {
   "cell_type": "code",
   "execution_count": 9,
   "metadata": {},
   "outputs": [
    {
     "data": {
      "text/plain": [
       "(array([0.26044017]), array([[1.31440555e-06]]))"
      ]
     },
     "execution_count": 9,
     "metadata": {},
     "output_type": "execute_result"
    }
   ],
   "source": [
    "#Fitting of FULL MODEL\n",
    "def fitFunc(x,beta):\n",
    "    Param = (beta, gamma)\n",
    "    INPUT = [S0, I0, 0.0]\n",
    "    return eq(Param,INPUT,1,DayFinal,DayFinal)[1][x]\n",
    "\n",
    "p0 = (beta)\n",
    "popt, pcov = curve_fit(fitFunc, Time, y/50000000, p0)\n",
    "popt, pcov"
   ]
  },
  {
   "cell_type": "code",
   "execution_count": 10,
   "metadata": {},
   "outputs": [],
   "source": [
    "#BOOTSTRAP FITTING!\n",
    "def fit_bootstrap(p0, datax, datay, function, yerr_systematic=0.0):\n",
    "\n",
    "    errfunc = lambda p, x, y: function(x,p) - y\n",
    "\n",
    "    # Fit first time\n",
    "    pfit, perr = optimize.leastsq(errfunc, p0, args=(datax, datay), full_output=0)\n",
    "\n",
    "\n",
    "    # Get the stdev of the residuals\n",
    "    residuals = errfunc(pfit, datax, datay)\n",
    "    sigma_res = np.std(residuals)\n",
    "\n",
    "    sigma_err_total = np.sqrt(sigma_res**2 + yerr_systematic**2)\n",
    "\n",
    "    # 100 random data sets are generated and fitted\n",
    "    rda = []\n",
    "    ps = []\n",
    "    for i in range(2000):\n",
    "\n",
    "        randomDelta = np.random.normal(0., sigma_err_total, len(datay))\n",
    "        randomdataY = datay + randomDelta\n",
    "\n",
    "        randomfit, randomcov = \\\n",
    "            optimize.leastsq(errfunc, p0, args=(datax, randomdataY),\\\n",
    "                             full_output=0)\n",
    "        rda.append(randomdataY)\n",
    "\n",
    "        ps.append(randomfit) \n",
    "\n",
    "    ps = np.array(ps)\n",
    "    mean_pfit = np.mean(ps,0)\n",
    "\n",
    "    # You can choose the confidence interval that you want for your\n",
    "    # parameter estimates: \n",
    "    Nsigma = 2. # 1sigma gets approximately the same as methods above\n",
    "                # 1sigma corresponds to 68.3% confidence interval\n",
    "                # 2sigma corresponds to 95.44% confidence interval\n",
    "    err_pfit = Nsigma * np.std(ps,0) \n",
    "\n",
    "    pfit_bootstrap = mean_pfit\n",
    "    perr_bootstrap = err_pfit\n",
    "    return pfit_bootstrap, perr_bootstrap, sigma_err_total, rda"
   ]
  },
  {
   "cell_type": "code",
   "execution_count": 11,
   "metadata": {},
   "outputs": [
    {
     "data": {
      "text/plain": [
       "(array([0.2604063]),\n",
       " array([0.00195666]),\n",
       " 2.893839973517217e-05,\n",
       " array([ 4.14596663e-05,  1.53135929e-05,  1.38574558e-05, -1.07441878e-05,\n",
       "        -5.46900069e-05,  1.20681194e-05, -2.45139526e-06, -3.83617394e-05,\n",
       "        -2.30493986e-06, -2.40311679e-05,  3.27467137e-05,  2.63612152e-05,\n",
       "         3.19658431e-05,  3.53286798e-05,  4.87685102e-05, -2.01907264e-05,\n",
       "        -5.80336131e-05, -1.44736809e-05, -5.76827905e-06,  6.80041214e-05,\n",
       "         1.29715087e-05, -8.71605695e-06, -2.24844761e-06, -4.00100523e-07,\n",
       "         4.75999648e-05,  3.82985661e-05,  5.08711006e-07, -2.12309691e-05,\n",
       "         3.77591732e-06, -3.65781523e-05,  1.81920071e-05, -6.22100433e-06,\n",
       "         6.04030994e-05,  5.15664520e-05,  4.93259378e-05,  9.45226371e-05,\n",
       "         9.97258717e-05,  9.88124483e-05,  5.58847279e-05,  6.48612922e-05,\n",
       "         1.06416204e-04,  1.65815969e-04,  1.31134305e-04,  1.11729709e-04,\n",
       "         1.62184286e-04,  1.96528031e-04,  1.68306827e-04,  2.08275277e-04,\n",
       "         2.30229922e-04,  1.97124828e-04,  1.83806607e-04,  2.76105754e-04]))"
      ]
     },
     "execution_count": 11,
     "metadata": {},
     "output_type": "execute_result"
    }
   ],
   "source": [
    "#COMPARE BOOTSTRAP AND CURVE FIT!\n",
    "BFIT, BError, sigma_err_total, rda = fit_bootstrap(p0, Time, y/50000000, fitFunc, yerr_systematic=0.0000000)\n",
    "BFIT, BError, sigma_err_total"
   ]
  },
  {
   "cell_type": "code",
   "execution_count": 12,
   "metadata": {},
   "outputs": [
    {
     "data": {
      "text/plain": [
       "array([-2.96293858e-05,  5.34552963e-06, -1.00499656e-05, -6.58621649e-05,\n",
       "       -3.88727463e-05, -1.19694584e-04, -1.15059961e-04, -1.63751553e-04,\n",
       "       -1.28276354e-04, -1.37909287e-04, -1.70085704e-04, -1.71383676e-04,\n",
       "       -1.78580534e-04, -1.52184293e-04, -1.08716490e-04, -1.43271353e-04,\n",
       "       -1.19989042e-04, -6.01953122e-05, -1.42042907e-04, -1.03852389e-04,\n",
       "       -1.38380028e-04, -1.30388825e-04, -5.19896320e-05, -9.27952705e-05,\n",
       "       -1.03627540e-04, -6.21935281e-05, -6.41811615e-05, -4.35858123e-05,\n",
       "       -1.76872275e-05, -8.66266021e-05, -1.25926286e-04, -1.68130510e-04,\n",
       "       -1.61838721e-04, -1.39508544e-04, -1.06526029e-04, -8.10297151e-05,\n",
       "       -1.15929013e-04, -7.57824203e-05, -5.26605878e-05, -1.07798318e-04,\n",
       "       -1.57369524e-04, -1.09175752e-04, -1.05790886e-04, -1.40625778e-04,\n",
       "       -1.88887676e-04, -1.60913536e-04, -1.77673713e-04, -1.69784561e-04,\n",
       "       -1.82279959e-04, -1.20319051e-04, -9.47330060e-05, -2.19808493e-04])"
      ]
     },
     "execution_count": 12,
     "metadata": {},
     "output_type": "execute_result"
    }
   ],
   "source": [
    "np.cumsum(np.random.normal(0, sigma_err_total, len(y)) + np.random.normal(0, sigma_err_total, len(y)))"
   ]
  },
  {
   "cell_type": "code",
   "execution_count": 21,
   "metadata": {},
   "outputs": [
    {
     "data": {
      "text/plain": [
       "array([1.00000000e+00, 1.21153395e+00, 1.46756216e+00, 1.77752529e+00,\n",
       "       2.15393301e+00, 2.62300556e+00, 3.19228392e+00, 3.86601091e+00,\n",
       "       4.70160922e+00, 5.71719241e+00, 6.91986769e+00, 8.41239486e+00,\n",
       "       1.02284988e+01, 1.23799724e+01, 1.50493842e+01, 1.82990634e+01,\n",
       "       2.21485755e+01, 2.69230466e+01, 3.27379279e+01, 3.96255879e+01,\n",
       "       4.81649381e+01, 5.85697713e+01, 7.08842692e+01, 8.59614095e+01,\n",
       "       1.04140154e+02, 1.26354866e+02, 1.53199621e+02, 1.85648830e+02,\n",
       "       2.24891820e+02, 2.72706377e+02, 3.30309510e+02, 4.00101017e+02,\n",
       "       4.84816327e+02, 5.87340067e+02, 7.11016823e+02, 8.60323728e+02,\n",
       "       1.04141449e+03, 1.26070036e+03, 1.52631804e+03, 1.84760252e+03,\n",
       "       2.23677884e+03, 2.70746382e+03, 3.27721558e+03, 3.96696433e+03,\n",
       "       4.80200256e+03, 5.81229490e+03, 7.03514580e+03, 8.51520341e+03,\n",
       "       1.03065582e+04, 1.24741687e+04, 1.50967100e+04, 1.82705394e+04,\n",
       "       2.21114138e+04, 2.67587695e+04, 3.23816516e+04, 3.91843412e+04,\n",
       "       4.74133014e+04, 5.73662334e+04, 6.94032696e+04, 8.39582776e+04,\n",
       "       1.01553993e+05, 1.22819935e+05, 1.48513991e+05, 1.79546754e+05,\n",
       "       2.17010283e+05, 2.62212530e+05, 3.16716441e+05, 3.82383867e+05,\n",
       "       4.61425164e+05, 5.56454696e+05, 6.70547881e+05, 8.07299988e+05,\n",
       "       9.70882955e+05, 1.16609094e+06, 1.39836973e+06, 1.67380909e+06,\n",
       "       1.99909612e+06, 2.38138911e+06, 2.82810409e+06, 3.34657587e+06,\n",
       "       3.94357727e+06, 4.62467916e+06, 5.39345833e+06, 6.25059200e+06,\n",
       "       7.19291720e+06, 8.21257839e+06, 9.29643682e+06, 1.04259034e+07,\n",
       "       1.15773624e+07, 1.27232454e+07, 1.38337173e+07, 1.48787806e+07,\n",
       "       1.58305127e+07, 1.66651023e+07, 1.73643915e+07, 1.79167379e+07,\n",
       "       1.83171557e+07, 1.85668245e+07, 1.86721413e+07, 1.86435223e+07,\n",
       "       1.84941436e+07])"
      ]
     },
     "execution_count": 21,
     "metadata": {},
     "output_type": "execute_result"
    }
   ],
   "source": [
    "#====PLOTS===================================================\n",
    "def eq(par,initial_cond,start_t,end_t,incr):\n",
    "    #-time-grid-----------------------------------\n",
    "    t  = np.linspace(start_t, end_t, incr)\n",
    "    def funct(y,t):\n",
    "        S=y[0]\n",
    "        I=y[1]\n",
    "        R=y[2]\n",
    "        beta, gamma = par\n",
    "        f0 = - beta * S * I        \n",
    "        f1 = beta * S * I - gamma * I\n",
    "        f2 = gamma * I\n",
    "        return [f0, f1, f2]\n",
    "     #integrate------------------------------------\n",
    "    ds = integrate.odeint(funct,initial_cond,t)\n",
    "    return (ds[:,0],ds[:,1],ds[:,2],t)\n",
    "#=======================================================\n",
    "     \n",
    "#parameters  \n",
    "#beta= bUp      \n",
    "gamma=1.0/14.0\n",
    "#TS=0.1\n",
    "ND=100.0\n",
    "Param=(popt[0],gamma)\n",
    "ParamErr1=(BFIT+BError,gamma)\n",
    "ParamErr2=(BFIT-BError,gamma)\n",
    "#S0=1-1e-6          # Initial condition need to be defined \n",
    "#I0=1e-6\n",
    "INPUT = [S0,I0, 0.0] # R(0) = 0\n",
    "         # initial condition vector\n",
    "\n",
    "Sf, If, Rf, Days = eq(Param,INPUT,0,ND,101)  #1time, steps\n",
    "Sf1, If1, Rf1, Days1 = eq(ParamErr1,INPUT,0,ND,101) \n",
    "Sf2, If2, Rf2, Days2 = eq(ParamErr2,INPUT,0,ND,101) \n",
    "\n",
    "figure(figsize=(8, 6), dpi=100, facecolor='w', edgecolor='k')\n",
    "#fig, ax = pl.subplots()\n",
    "pl.plot(Days,If, '-')\n",
    "pl.plot(y/50000000, 'or')\n",
    "pl.fill_between(Days, If1, If2, alpha=0.2)\n",
    "#pl.errorbar(Time, df_BA, xerr=0.0, yerr=0.0000000, color='r', fmt='o',  ecolor='g',capsize=2,barsabove=True,elinewidth=0.8,)\n",
    "pl.xlim(0.0,52)\n",
    "pl.ylim(0,0.00002)\n",
    "pl.show()"
   ]
  },
  {
   "cell_type": "code",
   "execution_count": 29,
   "metadata": {},
   "outputs": [
    {
     "data": {
      "text/plain": [
       "1"
      ]
     },
     "execution_count": 29,
     "metadata": {},
     "output_type": "execute_result"
    }
   ],
   "source": []
  }
 ],
 "metadata": {
  "kernelspec": {
   "display_name": "Python 3",
   "language": "python",
   "name": "python3"
  },
  "language_info": {
   "codemirror_mode": {
    "name": "ipython",
    "version": 3
   },
   "file_extension": ".py",
   "mimetype": "text/x-python",
   "name": "python",
   "nbconvert_exporter": "python",
   "pygments_lexer": "ipython3",
   "version": "3.7.3"
  }
 },
 "nbformat": 4,
 "nbformat_minor": 4
}
