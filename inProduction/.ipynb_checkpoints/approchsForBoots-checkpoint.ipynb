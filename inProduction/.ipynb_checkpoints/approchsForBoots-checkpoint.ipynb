{
 "cells": [
  {
   "cell_type": "markdown",
   "metadata": {},
   "source": [
    "<h1>Testting Simulation forms to time series</h1>"
   ]
  },
  {
   "cell_type": "code",
   "execution_count": 1,
   "metadata": {},
   "outputs": [],
   "source": [
    "import pandas as pd\n",
    "import numpy as np\n",
    "import matplotlib.pyplot as plt"
   ]
  },
  {
   "cell_type": "code",
   "execution_count": 2,
   "metadata": {},
   "outputs": [
    {
     "data": {
      "text/html": [
       "<div>\n",
       "<style scoped>\n",
       "    .dataframe tbody tr th:only-of-type {\n",
       "        vertical-align: middle;\n",
       "    }\n",
       "\n",
       "    .dataframe tbody tr th {\n",
       "        vertical-align: top;\n",
       "    }\n",
       "\n",
       "    .dataframe thead th {\n",
       "        text-align: right;\n",
       "    }\n",
       "</style>\n",
       "<table border=\"1\" class=\"dataframe\">\n",
       "  <thead>\n",
       "    <tr style=\"text-align: right;\">\n",
       "      <th></th>\n",
       "      <th>regiao</th>\n",
       "      <th>estado</th>\n",
       "      <th>data</th>\n",
       "      <th>casosNovos</th>\n",
       "      <th>casosAcumulados</th>\n",
       "      <th>obitosNovos</th>\n",
       "      <th>obitosAcumulados</th>\n",
       "    </tr>\n",
       "  </thead>\n",
       "  <tbody>\n",
       "    <tr>\n",
       "      <th>0</th>\n",
       "      <td>Norte</td>\n",
       "      <td>RO</td>\n",
       "      <td>2020-01-30</td>\n",
       "      <td>0</td>\n",
       "      <td>0</td>\n",
       "      <td>0</td>\n",
       "      <td>0</td>\n",
       "    </tr>\n",
       "    <tr>\n",
       "      <th>1</th>\n",
       "      <td>Norte</td>\n",
       "      <td>RO</td>\n",
       "      <td>2020-01-31</td>\n",
       "      <td>0</td>\n",
       "      <td>0</td>\n",
       "      <td>0</td>\n",
       "      <td>0</td>\n",
       "    </tr>\n",
       "    <tr>\n",
       "      <th>2</th>\n",
       "      <td>Norte</td>\n",
       "      <td>RO</td>\n",
       "      <td>2020-02-01</td>\n",
       "      <td>0</td>\n",
       "      <td>0</td>\n",
       "      <td>0</td>\n",
       "      <td>0</td>\n",
       "    </tr>\n",
       "    <tr>\n",
       "      <th>3</th>\n",
       "      <td>Norte</td>\n",
       "      <td>RO</td>\n",
       "      <td>2020-02-02</td>\n",
       "      <td>0</td>\n",
       "      <td>0</td>\n",
       "      <td>0</td>\n",
       "      <td>0</td>\n",
       "    </tr>\n",
       "    <tr>\n",
       "      <th>4</th>\n",
       "      <td>Norte</td>\n",
       "      <td>RO</td>\n",
       "      <td>2020-02-03</td>\n",
       "      <td>0</td>\n",
       "      <td>0</td>\n",
       "      <td>0</td>\n",
       "      <td>0</td>\n",
       "    </tr>\n",
       "  </tbody>\n",
       "</table>\n",
       "</div>"
      ],
      "text/plain": [
       "  regiao estado        data  casosNovos  casosAcumulados  obitosNovos  \\\n",
       "0  Norte     RO  2020-01-30           0                0            0   \n",
       "1  Norte     RO  2020-01-31           0                0            0   \n",
       "2  Norte     RO  2020-02-01           0                0            0   \n",
       "3  Norte     RO  2020-02-02           0                0            0   \n",
       "4  Norte     RO  2020-02-03           0                0            0   \n",
       "\n",
       "   obitosAcumulados  \n",
       "0                 0  \n",
       "1                 0  \n",
       "2                 0  \n",
       "3                 0  \n",
       "4                 0  "
      ]
     },
     "execution_count": 2,
     "metadata": {},
     "output_type": "execute_result"
    }
   ],
   "source": [
    "data = pd.read_csv(\"../data/dadosCovid.csv\")\n",
    "data.head()"
   ]
  },
  {
   "cell_type": "code",
   "execution_count": 3,
   "metadata": {},
   "outputs": [
    {
     "data": {
      "text/html": [
       "<div>\n",
       "<style scoped>\n",
       "    .dataframe tbody tr th:only-of-type {\n",
       "        vertical-align: middle;\n",
       "    }\n",
       "\n",
       "    .dataframe tbody tr th {\n",
       "        vertical-align: top;\n",
       "    }\n",
       "\n",
       "    .dataframe thead th {\n",
       "        text-align: right;\n",
       "    }\n",
       "</style>\n",
       "<table border=\"1\" class=\"dataframe\">\n",
       "  <thead>\n",
       "    <tr style=\"text-align: right;\">\n",
       "      <th></th>\n",
       "      <th>regiao</th>\n",
       "      <th>estado</th>\n",
       "      <th>data</th>\n",
       "      <th>casosNovos</th>\n",
       "      <th>casosAcumulados</th>\n",
       "      <th>obitosNovos</th>\n",
       "      <th>obitosAcumulados</th>\n",
       "    </tr>\n",
       "  </thead>\n",
       "  <tbody>\n",
       "    <tr>\n",
       "      <th>1501</th>\n",
       "      <td>Sudeste</td>\n",
       "      <td>SP</td>\n",
       "      <td>2020-02-26</td>\n",
       "      <td>1</td>\n",
       "      <td>1</td>\n",
       "      <td>0</td>\n",
       "      <td>0</td>\n",
       "    </tr>\n",
       "    <tr>\n",
       "      <th>1502</th>\n",
       "      <td>Sudeste</td>\n",
       "      <td>SP</td>\n",
       "      <td>2020-02-27</td>\n",
       "      <td>0</td>\n",
       "      <td>1</td>\n",
       "      <td>0</td>\n",
       "      <td>0</td>\n",
       "    </tr>\n",
       "    <tr>\n",
       "      <th>1503</th>\n",
       "      <td>Sudeste</td>\n",
       "      <td>SP</td>\n",
       "      <td>2020-02-28</td>\n",
       "      <td>0</td>\n",
       "      <td>1</td>\n",
       "      <td>0</td>\n",
       "      <td>0</td>\n",
       "    </tr>\n",
       "    <tr>\n",
       "      <th>1504</th>\n",
       "      <td>Sudeste</td>\n",
       "      <td>SP</td>\n",
       "      <td>2020-02-29</td>\n",
       "      <td>1</td>\n",
       "      <td>2</td>\n",
       "      <td>0</td>\n",
       "      <td>0</td>\n",
       "    </tr>\n",
       "    <tr>\n",
       "      <th>1505</th>\n",
       "      <td>Sudeste</td>\n",
       "      <td>SP</td>\n",
       "      <td>2020-03-01</td>\n",
       "      <td>0</td>\n",
       "      <td>2</td>\n",
       "      <td>0</td>\n",
       "      <td>0</td>\n",
       "    </tr>\n",
       "  </tbody>\n",
       "</table>\n",
       "</div>"
      ],
      "text/plain": [
       "       regiao estado        data  casosNovos  casosAcumulados  obitosNovos  \\\n",
       "1501  Sudeste     SP  2020-02-26           1                1            0   \n",
       "1502  Sudeste     SP  2020-02-27           0                1            0   \n",
       "1503  Sudeste     SP  2020-02-28           0                1            0   \n",
       "1504  Sudeste     SP  2020-02-29           1                2            0   \n",
       "1505  Sudeste     SP  2020-03-01           0                2            0   \n",
       "\n",
       "      obitosAcumulados  \n",
       "1501                 0  \n",
       "1502                 0  \n",
       "1503                 0  \n",
       "1504                 0  \n",
       "1505                 0  "
      ]
     },
     "execution_count": 3,
     "metadata": {},
     "output_type": "execute_result"
    }
   ],
   "source": [
    "#Select only Sao Paulo\n",
    "sp = data[data[\"estado\"] == \"SP\"]\n",
    "#Remove missing values to not crash the intervals\n",
    "sp = sp.dropna()\n",
    "sp.head()"
   ]
  },
  {
   "cell_type": "code",
   "execution_count": 4,
   "metadata": {},
   "outputs": [],
   "source": [
    "#create a series with the cummulative number of cases\n",
    "y = np.array(sp[\"casosAcumulados\"])\n",
    "\n",
    "#Give the number of days since the day of first case confirmed\n",
    "x = range(0,len(sp[\"casosAcumulados\"]))"
   ]
  },
  {
   "cell_type": "markdown",
   "metadata": {},
   "source": [
    "<h2>Simulating date from a Poisson </h2>\n",
    "    \n",
    "<p>Based on <a href=\"https://www.sciencedirect.com/science/article/pii/S1571064507000413?via%3Dihub\"> Chowell and Nishiura (2008)</a> </p>"
   ]
  },
  {
   "cell_type": "code",
   "execution_count": 5,
   "metadata": {},
   "outputs": [],
   "source": [
    "#simlating from a possion\n",
    "def bootstratpPoisson(npArray, replicate, cumSum = True):\n",
    "    simList = []\n",
    "    def poissonGen(npArray, replicate = None):\n",
    "        simSeries = []\n",
    "        for i in range(0,len(npArray)):\n",
    "            if i == 0:\n",
    "                simSeries.append(npArray[i]) \n",
    "            else:\n",
    "                simSeries.append(np.random.poisson(lam = npArray[i] - npArray[i-1], size = 1)[0])\n",
    "        if cumSum:\n",
    "            return np.cumsum(np.array(simSeries))\n",
    "        else:\n",
    "            return np.array(simSeries)\n",
    "    for i in range(0,replicate):\n",
    "        simList.append(poissonGen(npArray))\n",
    "    return np.array(simList)"
   ]
  },
  {
   "cell_type": "code",
   "execution_count": 6,
   "metadata": {},
   "outputs": [],
   "source": [
    "poissSim = bootstratpPoisson(y, 500)"
   ]
  },
  {
   "cell_type": "markdown",
   "metadata": {},
   "source": [
    "<h2>Simulating from a mixing Poisson</h2>\n",
    "<p>Based on <a href=\"http://repositorio.unicamp.br/jspui/bitstream/REPOSIP/305840/1/MercadoLondono_SergioLuis_M.pdf\">Londono (2014)</a></p>"
   ]
  },
  {
   "cell_type": "code",
   "execution_count": 7,
   "metadata": {},
   "outputs": [],
   "source": [
    "#simlating from a duble possion\n",
    "def bootstrapDPoisson(npArray, replicate):\n",
    "    simList = []\n",
    "    poissonsDist = bootstratpPoisson(npArray, replicate, cumSum = False)\n",
    "    def poissonGen(npArray, replicate = None):\n",
    "        simSeries = []\n",
    "        for i in range(0,len(npArray)):\n",
    "            simSeries.append(np.random.poisson(lam = np.random.choice(poissonsDist[:,i], size = 1), size = 1)[0])\n",
    "        return np.cumsum(np.array(simSeries))\n",
    "    for i in range(0,replicate):\n",
    "        simList.append(poissonGen(npArray))\n",
    "    return np.array(simList) "
   ]
  },
  {
   "cell_type": "code",
   "execution_count": 8,
   "metadata": {},
   "outputs": [],
   "source": [
    "poissSim2 = bootstratpPoisson(y, 500)"
   ]
  },
  {
   "cell_type": "markdown",
   "metadata": {},
   "source": [
    "<h2>Simulating from a mixing Gamma Poisson</h2>\n",
    "<p>Based on <a href=\"http://repositorio.unicamp.br/jspui/bitstream/REPOSIP/305840/1/MercadoLondono_SergioLuis_M.pdf\">Londono (2014)</a></p>"
   ]
  },
  {
   "cell_type": "code",
   "execution_count": 9,
   "metadata": {},
   "outputs": [],
   "source": [
    "#simlating from a miximg poisson gamma\n",
    "def bootstrapGammaPoisson(npArray, replicate):\n",
    "    simList = []\n",
    "    poissonsDist = bootstratpPoisson(npArray, replicate, cumSum = False)\n",
    "    def poissonGen(npArray, replicate = None):\n",
    "        simSeries = []\n",
    "        for i in range(0,len(npArray)):\n",
    "            meanP = np.mean(poissonsDist[:,i])\n",
    "            varP = np.var(poissonsDist[:,i])\n",
    "            if meanP == 0 or varP == 0:\n",
    "                simSeries.append(np.random.poisson(lam = np.random.choice(poissonsDist[:,i], size = 1), size = 1)[0])\n",
    "            else:\n",
    "                scale = varP/meanP\n",
    "                shape = meanP**2/varP\n",
    "                mean = np.random.gamma(shape = shape, scale = scale, size = 1)[0]\n",
    "                simSeries.append(np.random.poisson(lam = mean, size = 1)[0])\n",
    "        return np.cumsum(np.array(simSeries))\n",
    "    for i in range(0,replicate):\n",
    "        simList.append(poissonGen(npArray))\n",
    "    return np.array(simList) "
   ]
  },
  {
   "cell_type": "code",
   "execution_count": 10,
   "metadata": {},
   "outputs": [],
   "source": [
    "poissSim3 = bootstrapGammaPoisson(y, 500)"
   ]
  },
  {
   "cell_type": "markdown",
   "metadata": {},
   "source": [
    "<p>Inspect the three different approch constructing empirical intervals<p>"
   ]
  },
  {
   "cell_type": "code",
   "execution_count": 11,
   "metadata": {},
   "outputs": [
    {
     "data": {
      "text/plain": [
       "<matplotlib.legend.Legend at 0x7f089ba964a8>"
      ]
     },
     "execution_count": 11,
     "metadata": {},
     "output_type": "execute_result"
    },
    {
     "data": {
      "image/png": "[encoded data removed]",
      "text/plain": [
       "<Figure size 864x720 with 1 Axes>"
      ]
     },
     "metadata": {
      "needs_background": "light"
     },
     "output_type": "display_data"
    }
   ],
   "source": [
    "fig, axes = plt.subplots(figsize = (12,10))\n",
    "axes.scatter(x, y, label = \"Data\", c = \"red\")\n",
    "axes.plot(x, np.quantile(poissSim, q = 0.0275, axis = 0), label = \"Poisson\", ls = \"--\", c = \"blue\")\n",
    "axes.plot(x, np.quantile(poissSim, q = 0.975, axis = 0), ls = \"--\", c = \"blue\")\n",
    "axes.plot(x, np.quantile(poissSim2, q = 0.0275, axis = 0),label = \"Mixing Poisson\", ls = \"--\", c = \"orange\")\n",
    "axes.plot(x, np.quantile(poissSim2, q = 0.975, axis = 0), ls = \"--\", c = \"orange\")\n",
    "axes.plot(x, np.quantile(poissSim3, q = 0.0275, axis = 0), ls = \"--\", label = \"Gamma Poisson\", c = \"green\")\n",
    "axes.plot(x, np.quantile(poissSim3, q = 0.975, axis = 0), ls = \"--\", c = \"green\")\n",
    "axes.legend(loc = \"upper left\")"
   ]
  }
 ],
 "metadata": {
  "kernelspec": {
   "display_name": "Python 3",
   "language": "python",
   "name": "python3"
  },
  "language_info": {
   "codemirror_mode": {
    "name": "ipython",
    "version": 3
   },
   "file_extension": ".py",
   "mimetype": "text/x-python",
   "name": "python",
   "nbconvert_exporter": "python",
   "pygments_lexer": "ipython3",
   "version": "3.7.3"
  }
 },
 "nbformat": 4,
 "nbformat_minor": 4
}
