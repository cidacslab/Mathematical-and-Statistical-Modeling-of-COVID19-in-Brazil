{
 "cells": [
  {
   "cell_type": "code",
   "execution_count": 1,
   "metadata": {},
   "outputs": [],
   "source": [
    "import scipy.integrate as spi\n",
    "import numpy as np\n",
    "import pylab as pl\n",
    "import numpy as np\n",
    "#import matplotlib.pyplot as plt\n",
    "from scipy.integrate import odeint\n",
    "from scipy import integrate\n",
    "from pylab import *\n",
    "from scipy.optimize import curve_fit\n",
    "import numpy as np\n",
    "from scipy import optimize\n",
    "import pandas as pd"
   ]
  },
  {
   "cell_type": "code",
   "execution_count": 2,
   "metadata": {},
   "outputs": [
    {
     "data": {
      "text/html": [
       "<div>\n",
       "<style scoped>\n",
       "    .dataframe tbody tr th:only-of-type {\n",
       "        vertical-align: middle;\n",
       "    }\n",
       "\n",
       "    .dataframe tbody tr th {\n",
       "        vertical-align: top;\n",
       "    }\n",
       "\n",
       "    .dataframe thead th {\n",
       "        text-align: right;\n",
       "    }\n",
       "</style>\n",
       "<table border=\"1\" class=\"dataframe\">\n",
       "  <thead>\n",
       "    <tr style=\"text-align: right;\">\n",
       "      <th></th>\n",
       "      <th>regiao</th>\n",
       "      <th>estado</th>\n",
       "      <th>data</th>\n",
       "      <th>casosNovos</th>\n",
       "      <th>casosAcumulados</th>\n",
       "      <th>obitosNovos</th>\n",
       "      <th>obitosAcumulados</th>\n",
       "    </tr>\n",
       "  </thead>\n",
       "  <tbody>\n",
       "    <tr>\n",
       "      <th>0</th>\n",
       "      <td>Norte</td>\n",
       "      <td>RO</td>\n",
       "      <td>2020-01-30</td>\n",
       "      <td>0</td>\n",
       "      <td>0</td>\n",
       "      <td>0</td>\n",
       "      <td>0</td>\n",
       "    </tr>\n",
       "    <tr>\n",
       "      <th>1</th>\n",
       "      <td>Norte</td>\n",
       "      <td>RO</td>\n",
       "      <td>2020-01-31</td>\n",
       "      <td>0</td>\n",
       "      <td>0</td>\n",
       "      <td>0</td>\n",
       "      <td>0</td>\n",
       "    </tr>\n",
       "    <tr>\n",
       "      <th>2</th>\n",
       "      <td>Norte</td>\n",
       "      <td>RO</td>\n",
       "      <td>2020-02-01</td>\n",
       "      <td>0</td>\n",
       "      <td>0</td>\n",
       "      <td>0</td>\n",
       "      <td>0</td>\n",
       "    </tr>\n",
       "    <tr>\n",
       "      <th>3</th>\n",
       "      <td>Norte</td>\n",
       "      <td>RO</td>\n",
       "      <td>2020-02-02</td>\n",
       "      <td>0</td>\n",
       "      <td>0</td>\n",
       "      <td>0</td>\n",
       "      <td>0</td>\n",
       "    </tr>\n",
       "    <tr>\n",
       "      <th>4</th>\n",
       "      <td>Norte</td>\n",
       "      <td>RO</td>\n",
       "      <td>2020-02-03</td>\n",
       "      <td>0</td>\n",
       "      <td>0</td>\n",
       "      <td>0</td>\n",
       "      <td>0</td>\n",
       "    </tr>\n",
       "  </tbody>\n",
       "</table>\n",
       "</div>"
      ],
      "text/plain": [
       "  regiao estado        data  casosNovos  casosAcumulados  obitosNovos  \\\n",
       "0  Norte     RO  2020-01-30           0                0            0   \n",
       "1  Norte     RO  2020-01-31           0                0            0   \n",
       "2  Norte     RO  2020-02-01           0                0            0   \n",
       "3  Norte     RO  2020-02-02           0                0            0   \n",
       "4  Norte     RO  2020-02-03           0                0            0   \n",
       "\n",
       "   obitosAcumulados  \n",
       "0                 0  \n",
       "1                 0  \n",
       "2                 0  \n",
       "3                 0  \n",
       "4                 0  "
      ]
     },
     "execution_count": 2,
     "metadata": {},
     "output_type": "execute_result"
    }
   ],
   "source": [
    "data = pd.read_csv(\"../data/dadosCovid.csv\")\n",
    "data.head()"
   ]
  },
  {
   "cell_type": "code",
   "execution_count": 3,
   "metadata": {},
   "outputs": [
    {
     "data": {
      "text/html": [
       "<div>\n",
       "<style scoped>\n",
       "    .dataframe tbody tr th:only-of-type {\n",
       "        vertical-align: middle;\n",
       "    }\n",
       "\n",
       "    .dataframe tbody tr th {\n",
       "        vertical-align: top;\n",
       "    }\n",
       "\n",
       "    .dataframe thead th {\n",
       "        text-align: right;\n",
       "    }\n",
       "</style>\n",
       "<table border=\"1\" class=\"dataframe\">\n",
       "  <thead>\n",
       "    <tr style=\"text-align: right;\">\n",
       "      <th></th>\n",
       "      <th>regiao</th>\n",
       "      <th>estado</th>\n",
       "      <th>data</th>\n",
       "      <th>casosNovos</th>\n",
       "      <th>casosAcumulados</th>\n",
       "      <th>obitosNovos</th>\n",
       "      <th>obitosAcumulados</th>\n",
       "    </tr>\n",
       "  </thead>\n",
       "  <tbody>\n",
       "    <tr>\n",
       "      <th>1501</th>\n",
       "      <td>Sudeste</td>\n",
       "      <td>SP</td>\n",
       "      <td>2020-02-26</td>\n",
       "      <td>1</td>\n",
       "      <td>1</td>\n",
       "      <td>0</td>\n",
       "      <td>0</td>\n",
       "    </tr>\n",
       "    <tr>\n",
       "      <th>1502</th>\n",
       "      <td>Sudeste</td>\n",
       "      <td>SP</td>\n",
       "      <td>2020-02-27</td>\n",
       "      <td>0</td>\n",
       "      <td>1</td>\n",
       "      <td>0</td>\n",
       "      <td>0</td>\n",
       "    </tr>\n",
       "    <tr>\n",
       "      <th>1503</th>\n",
       "      <td>Sudeste</td>\n",
       "      <td>SP</td>\n",
       "      <td>2020-02-28</td>\n",
       "      <td>0</td>\n",
       "      <td>1</td>\n",
       "      <td>0</td>\n",
       "      <td>0</td>\n",
       "    </tr>\n",
       "    <tr>\n",
       "      <th>1504</th>\n",
       "      <td>Sudeste</td>\n",
       "      <td>SP</td>\n",
       "      <td>2020-02-29</td>\n",
       "      <td>1</td>\n",
       "      <td>2</td>\n",
       "      <td>0</td>\n",
       "      <td>0</td>\n",
       "    </tr>\n",
       "    <tr>\n",
       "      <th>1505</th>\n",
       "      <td>Sudeste</td>\n",
       "      <td>SP</td>\n",
       "      <td>2020-03-01</td>\n",
       "      <td>0</td>\n",
       "      <td>2</td>\n",
       "      <td>0</td>\n",
       "      <td>0</td>\n",
       "    </tr>\n",
       "  </tbody>\n",
       "</table>\n",
       "</div>"
      ],
      "text/plain": [
       "       regiao estado        data  casosNovos  casosAcumulados  obitosNovos  \\\n",
       "1501  Sudeste     SP  2020-02-26           1                1            0   \n",
       "1502  Sudeste     SP  2020-02-27           0                1            0   \n",
       "1503  Sudeste     SP  2020-02-28           0                1            0   \n",
       "1504  Sudeste     SP  2020-02-29           1                2            0   \n",
       "1505  Sudeste     SP  2020-03-01           0                2            0   \n",
       "\n",
       "      obitosAcumulados  \n",
       "1501                 0  \n",
       "1502                 0  \n",
       "1503                 0  \n",
       "1504                 0  \n",
       "1505                 0  "
      ]
     },
     "execution_count": 3,
     "metadata": {},
     "output_type": "execute_result"
    }
   ],
   "source": [
    "#Select only Sao Paulo\n",
    "sp = data[data[\"estado\"] == \"SP\"]\n",
    "#Remove missing values to not crash the intervals\n",
    "sp = sp.dropna()\n",
    "sp.head()"
   ]
  },
  {
   "cell_type": "code",
   "execution_count": 4,
   "metadata": {},
   "outputs": [],
   "source": [
    "#create a series with the cummulative number of cases\n",
    "y = np.array(sp[\"casosAcumulados\"])\n",
    "\n",
    "#Give the number of days since the day of first case confirmed\n",
    "x = range(0,len(sp[\"casosAcumulados\"]))"
   ]
  },
  {
   "cell_type": "code",
   "execution_count": 5,
   "metadata": {},
   "outputs": [],
   "source": [
    "# Initial conditions\n",
    "I0 = 1/50000000\n",
    "S0= 1 -I0\n",
    "\n",
    "\n",
    "Time = range(0,len(y))\n",
    "DayFinal = len(y)"
   ]
  },
  {
   "cell_type": "code",
   "execution_count": 6,
   "metadata": {},
   "outputs": [],
   "source": [
    "gamma = 1/14"
   ]
  },
  {
   "cell_type": "code",
   "execution_count": 7,
   "metadata": {},
   "outputs": [],
   "source": [
    "#=EXAMPLE+DEFINING THE Solution of DF-EQ, TRIAL run NEEDS BETA and so on======================================================\n",
    "def eq(par,initial_cond,start_t,end_t,incr):\n",
    "    #-time-grid-----------------------------------\n",
    "    t  = np.linspace(start_t, end_t, num=incr, endpoint=True)\n",
    "    def funct(y,t):\n",
    "        S=y[0]\n",
    "        I=y[1]\n",
    "        R=y[2]\n",
    "        beta, gamma = par\n",
    "        f0 = - beta * S * I        \n",
    "        f1 = beta * S * I - gamma * I\n",
    "        f2 = gamma * I\n",
    "        return [f0, f1, f2]\n",
    "     #integrate------------------------------------\n",
    "    ds = integrate.odeint(funct,initial_cond,t)\n",
    "    return (ds[:,0],ds[:,1],ds[:,2],t)\n",
    "#======================================================="
   ]
  },
  {
   "cell_type": "code",
   "execution_count": 8,
   "metadata": {},
   "outputs": [
    {
     "data": {
      "image/png": "[encoded data removed]",
      "text/plain": [
       "<Figure size 432x288 with 1 Axes>"
      ]
     },
     "metadata": {
      "needs_background": "light"
     },
     "output_type": "display_data"
    }
   ],
   "source": [
    "ND=100.0\n",
    "beta = 0.30\n",
    "Param=(beta,gamma)\n",
    "#S0=1-1e-6          # Initial condition need to be defined \n",
    "#I0=1e-6\n",
    "INPUT = [S0, I0, 0.0] # R(0) = 0\n",
    "         # initial condition vector\n",
    "\n",
    "Sf, If, Rf, Days = eq(Param,INPUT,1,ND,800)  #1time, steps\n",
    "\n",
    "pl.plot(Days,If)\n",
    "pl.plot(Days,Sf)\n",
    "pl.plot(Days,Rf)\n",
    "pl.plot(y/50000000, 'ob')\n",
    "pl.show()"
   ]
  },
  {
   "cell_type": "code",
   "execution_count": 9,
   "metadata": {},
   "outputs": [
    {
     "data": {
      "text/plain": [
       "(array([0.26044017]), array([[1.31440555e-06]]))"
      ]
     },
     "execution_count": 9,
     "metadata": {},
     "output_type": "execute_result"
    }
   ],
   "source": [
    "#Fitting of FULL MODEL\n",
    "def fitFunc(x,beta):\n",
    "    Param = (beta, gamma)\n",
    "    INPUT = [S0, I0, 0.0]\n",
    "    return eq(Param,INPUT,1,DayFinal,DayFinal)[1][x]\n",
    "\n",
    "p0 = (beta)\n",
    "popt, pcov = curve_fit(fitFunc, Time, y/50000000, p0)\n",
    "popt, pcov"
   ]
  },
  {
   "cell_type": "code",
   "execution_count": 10,
   "metadata": {},
   "outputs": [],
   "source": [
    "#BOOTSTRAP FITTING!\n",
    "def fit_bootstrap(p0, datax, datay, function, yerr_systematic=0.0):\n",
    "\n",
    "    errfunc = lambda p, x, y: function(x,p) - y\n",
    "\n",
    "    # Fit first time\n",
    "    pfit, perr = optimize.leastsq(errfunc, p0, args=(datax, datay), full_output=0)\n",
    "\n",
    "\n",
    "    # Get the stdev of the residuals\n",
    "    residuals = errfunc(pfit, datax, datay)\n",
    "    sigma_res = np.std(residuals)\n",
    "\n",
    "    sigma_err_total = np.sqrt(sigma_res**2 + yerr_systematic**2)\n",
    "\n",
    "    # 100 random data sets are generated and fitted\n",
    "    ps = []\n",
    "    for i in range(2000):\n",
    "\n",
    "        randomDelta = np.random.normal(0., sigma_err_total, len(datay))\n",
    "        randomdataY = datay + randomDelta\n",
    "\n",
    "        randomfit, randomcov = \\\n",
    "            optimize.leastsq(errfunc, p0, args=(datax, randomdataY),\\\n",
    "                             full_output=0)\n",
    "\n",
    "        ps.append(randomfit) \n",
    "\n",
    "    ps = np.array(ps)\n",
    "    mean_pfit = np.mean(ps,0)\n",
    "\n",
    "    # You can choose the confidence interval that you want for your\n",
    "    # parameter estimates: \n",
    "    Nsigma = 2. # 1sigma gets approximately the same as methods above\n",
    "                # 1sigma corresponds to 68.3% confidence interval\n",
    "                # 2sigma corresponds to 95.44% confidence interval\n",
    "    err_pfit = Nsigma * np.std(ps,0) \n",
    "\n",
    "    pfit_bootstrap = mean_pfit\n",
    "    perr_bootstrap = err_pfit\n",
    "    return pfit_bootstrap, perr_bootstrap, sigma_err_total"
   ]
  },
  {
   "cell_type": "code",
   "execution_count": 11,
   "metadata": {},
   "outputs": [
    {
     "data": {
      "text/plain": [
       "(array([0.26041909]), array([0.00194242]), 2.893839973517217e-05)"
      ]
     },
     "execution_count": 11,
     "metadata": {},
     "output_type": "execute_result"
    }
   ],
   "source": [
    "#COMPARE BOOTSTRAP AND CURVE FIT!\n",
    "BFIT, BError, sigma_err_total = fit_bootstrap(p0, Time, y/50000000, fitFunc, yerr_systematic=0.0000000)\n",
    "BFIT, BError, sigma_err_total"
   ]
  },
  {
   "cell_type": "code",
   "execution_count": 35,
   "metadata": {},
   "outputs": [
    {
     "data": {
      "text/plain": [
       "array([-4.82573894e-05, -7.69076860e-05, -6.05966019e-05, -8.06734549e-05,\n",
       "       -8.05680519e-05, -1.09837510e-04, -8.39948234e-05, -5.86860181e-05,\n",
       "       -4.07610415e-05, -1.29291236e-06,  3.13019190e-05,  7.63232442e-05,\n",
       "        2.33434877e-05,  9.87323985e-05,  8.72899266e-05,  4.65029442e-05,\n",
       "        1.07676714e-04,  9.94540082e-05,  1.05551003e-04,  8.38157346e-05,\n",
       "        6.95078213e-05,  4.77481201e-05,  8.15626634e-05,  7.00763802e-05,\n",
       "        2.49933676e-05, -7.94985657e-06, -6.51534161e-05, -5.31363184e-05,\n",
       "       -1.74793805e-04, -1.85001662e-04, -2.06445328e-04, -2.38354971e-04,\n",
       "       -2.28531502e-04, -2.08216068e-04, -2.37993738e-04, -2.85553039e-04,\n",
       "       -3.20669922e-04, -3.07220829e-04, -2.80708243e-04, -3.22472120e-04,\n",
       "       -3.11433031e-04, -3.39547837e-04, -3.34343135e-04, -3.77819068e-04,\n",
       "       -4.00635983e-04, -3.76303065e-04, -2.54263136e-04, -2.59771093e-04,\n",
       "       -2.36471397e-04, -2.14496877e-04, -2.43872951e-04, -2.70572479e-04])"
      ]
     },
     "execution_count": 35,
     "metadata": {},
     "output_type": "execute_result"
    }
   ],
   "source": [
    "np.cumsum(np.random.normal(0, sigma_err_total, len(y)) + np.random.normal(0, sigma_err_total, len(y)))"
   ]
  },
  {
   "cell_type": "code",
   "execution_count": 13,
   "metadata": {},
   "outputs": [
    {
     "data": {
      "image/png": "[encoded data removed]",
      "text/plain": [
       "<Figure size 800x600 with 1 Axes>"
      ]
     },
     "metadata": {},
     "output_type": "display_data"
    }
   ],
   "source": [
    "#====PLOTS===================================================\n",
    "def eq(par,initial_cond,start_t,end_t,incr):\n",
    "    #-time-grid-----------------------------------\n",
    "    t  = np.linspace(start_t, end_t, incr)\n",
    "    def funct(y,t):\n",
    "        S=y[0]\n",
    "        I=y[1]\n",
    "        R=y[2]\n",
    "        beta, gamma = par\n",
    "        f0 = - beta * S * I        \n",
    "        f1 = beta * S * I - gamma * I\n",
    "        f2 = gamma * I\n",
    "        return [f0, f1, f2]\n",
    "     #integrate------------------------------------\n",
    "    ds = integrate.odeint(funct,initial_cond,t)\n",
    "    return (ds[:,0],ds[:,1],ds[:,2],t)\n",
    "#=======================================================\n",
    "     \n",
    "#parameters  \n",
    "#beta= bUp      \n",
    "gamma=1.0/14.0\n",
    "#TS=0.1\n",
    "ND=100.0\n",
    "Param=(popt[0],gamma)\n",
    "ParamErr1=(BFIT+BError,gamma)\n",
    "ParamErr2=(BFIT-BError,gamma)\n",
    "#S0=1-1e-6          # Initial condition need to be defined \n",
    "#I0=1e-6\n",
    "INPUT = [S0,I0, 0.0] # R(0) = 0\n",
    "         # initial condition vector\n",
    "\n",
    "Sf, If, Rf, Days = eq(Param,INPUT,0,ND,101)  #1time, steps\n",
    "Sf1, If1, Rf1, Days1 = eq(ParamErr1,INPUT,0,ND,101) \n",
    "Sf2, If2, Rf2, Days2 = eq(ParamErr2,INPUT,0,ND,101) \n",
    "\n",
    "figure(figsize=(8, 6), dpi=100, facecolor='w', edgecolor='k')\n",
    "#fig, ax = pl.subplots()\n",
    "pl.plot(Days,If, '-')\n",
    "pl.plot(y/50000000, 'or')\n",
    "pl.fill_between(Days, If1, If2, alpha=0.2)\n",
    "#pl.errorbar(Time, df_BA, xerr=0.0, yerr=0.0000000, color='r', fmt='o',  ecolor='g',capsize=2,barsabove=True,elinewidth=0.8,)\n",
    "pl.xlim(0.0,52)\n",
    "pl.ylim(0,0.00002)\n",
    "pl.show()"
   ]
  }
 ],
 "metadata": {
  "kernelspec": {
   "display_name": "Python 3",
   "language": "python",
   "name": "python3"
  },
  "language_info": {
   "codemirror_mode": {
    "name": "ipython",
    "version": 3
   },
   "file_extension": ".py",
   "mimetype": "text/x-python",
   "name": "python",
   "nbconvert_exporter": "python",
   "pygments_lexer": "ipython3",
   "version": "3.7.3"
  }
 },
 "nbformat": 4,
 "nbformat_minor": 4
}
