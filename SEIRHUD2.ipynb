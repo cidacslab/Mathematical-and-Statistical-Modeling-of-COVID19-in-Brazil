{
 "cells": [
  {
   "cell_type": "markdown",
   "metadata": {},
   "source": [
    "<h1>Run SEIRHUD</h1>"
   ]
  },
  {
   "cell_type": "code",
   "execution_count": 1,
   "metadata": {},
   "outputs": [],
   "source": [
    "from model import SEIRHUD\n",
    "import csv\n",
    "import numpy as np\n",
    "import pandas as pd\n",
    "import time\n",
    "import warnings\n",
    "from tqdm import tqdm\n",
    "import multiprocessing as mp\n",
    "warnings.filterwarnings('ignore')"
   ]
  },
  {
   "cell_type": "code",
   "execution_count": 2,
   "metadata": {},
   "outputs": [
    {
     "data": {
      "text/html": [
       "<div>\n",
       "<style scoped>\n",
       "    .dataframe tbody tr th:only-of-type {\n",
       "        vertical-align: middle;\n",
       "    }\n",
       "\n",
       "    .dataframe tbody tr th {\n",
       "        vertical-align: top;\n",
       "    }\n",
       "\n",
       "    .dataframe thead th {\n",
       "        text-align: right;\n",
       "    }\n",
       "</style>\n",
       "<table border=\"1\" class=\"dataframe\">\n",
       "  <thead>\n",
       "    <tr style=\"text-align: right;\">\n",
       "      <th></th>\n",
       "      <th>dates</th>\n",
       "      <th>ts0</th>\n",
       "      <th>infec</th>\n",
       "      <th>leitos</th>\n",
       "      <th>uti</th>\n",
       "      <th>dth</th>\n",
       "      <th>dthcm</th>\n",
       "    </tr>\n",
       "  </thead>\n",
       "  <tbody>\n",
       "    <tr>\n",
       "      <th>0</th>\n",
       "      <td>06/03/2020</td>\n",
       "      <td>8</td>\n",
       "      <td>1</td>\n",
       "      <td>0</td>\n",
       "      <td>0</td>\n",
       "      <td>0</td>\n",
       "      <td>0</td>\n",
       "    </tr>\n",
       "    <tr>\n",
       "      <th>1</th>\n",
       "      <td>07/03/2020</td>\n",
       "      <td>9</td>\n",
       "      <td>2</td>\n",
       "      <td>0</td>\n",
       "      <td>0</td>\n",
       "      <td>0</td>\n",
       "      <td>0</td>\n",
       "    </tr>\n",
       "    <tr>\n",
       "      <th>2</th>\n",
       "      <td>08/03/2020</td>\n",
       "      <td>10</td>\n",
       "      <td>2</td>\n",
       "      <td>0</td>\n",
       "      <td>0</td>\n",
       "      <td>0</td>\n",
       "      <td>0</td>\n",
       "    </tr>\n",
       "    <tr>\n",
       "      <th>3</th>\n",
       "      <td>09/03/2020</td>\n",
       "      <td>11</td>\n",
       "      <td>2</td>\n",
       "      <td>0</td>\n",
       "      <td>0</td>\n",
       "      <td>0</td>\n",
       "      <td>0</td>\n",
       "    </tr>\n",
       "    <tr>\n",
       "      <th>4</th>\n",
       "      <td>10/03/2020</td>\n",
       "      <td>12</td>\n",
       "      <td>2</td>\n",
       "      <td>0</td>\n",
       "      <td>0</td>\n",
       "      <td>0</td>\n",
       "      <td>0</td>\n",
       "    </tr>\n",
       "  </tbody>\n",
       "</table>\n",
       "</div>"
      ],
      "text/plain": [
       "        dates  ts0  infec  leitos  uti  dth  dthcm\n",
       "0  06/03/2020    8      1       0    0    0      0\n",
       "1  07/03/2020    9      2       0    0    0      0\n",
       "2  08/03/2020   10      2       0    0    0      0\n",
       "3  09/03/2020   11      2       0    0    0      0\n",
       "4  10/03/2020   12      2       0    0    0      0"
      ]
     },
     "execution_count": 2,
     "metadata": {},
     "output_type": "execute_result"
    }
   ],
   "source": [
    "data = pd.read_csv(\"../data/data.csv\")\n",
    "data.head()"
   ]
  },
  {
   "cell_type": "code",
   "execution_count": 3,
   "metadata": {},
   "outputs": [],
   "source": [
    "#Define empty lists to recive results\n",
    "ypred = []\n",
    "dpred = []\n",
    "upred = []\n",
    "hpred = []\n",
    "spred = []\n",
    "epred = []\n",
    "beta1 = []\n",
    "beta2 = []\n",
    "gammaH = []\n",
    "gammaU = []\n",
    "delta = []\n",
    "ia0 = []\n",
    "t1 = []\n",
    "e0 = []\n",
    "is0 = []"
   ]
  },
  {
   "cell_type": "code",
   "execution_count": 4,
   "metadata": {},
   "outputs": [],
   "source": [
    "#define fixed parameters:\n",
    "kappa = 1/4\n",
    "p = 0.2\n",
    "gammaA = 1/3.5\n",
    "gammaS = 1/4\n",
    "muH = 0.15\n",
    "muU = 0.4\n",
    "xi = 0.53 \n",
    "omega_U = 0.29 \n",
    "omega_H = 0.14\n",
    "N = 14873064\n",
    "bound = ([0,0,0,1/14,1/14,0,0.05,0,0,0],\n",
    "         [1.5,1,30,1/5,1/5,1,0.35,10/N,10/N,10/N])"
   ]
  },
  {
   "cell_type": "code",
   "execution_count": 5,
   "metadata": {},
   "outputs": [],
   "source": [
    "model = SEIRHUD(N,nCores=1)"
   ]
  },
  {
   "cell_type": "code",
   "execution_count": 6,
   "metadata": {},
   "outputs": [
    {
     "name": "stderr",
     "output_type": "stream",
     "text": [
      "pyswarms.single.local_best: 100%|██████████|1000/1000\n"
     ]
    },
    {
     "name": "stdout",
     "output_type": "stream",
     "text": [
      "posi=[8.07619839e-01 3.87377564e-01 1.90963469e+00 1.26973548e-01\n",
      " 1.49223265e-01 6.22308661e-02 5.95648369e-02 9.40070696e-08\n",
      " 6.29265512e-07 2.89067908e-07]\n",
      "16.183463138273172\n"
     ]
    }
   ],
   "source": [
    "model.fit(x=range(1,len(data.infec)+1),y=data.infec,d=data.dth,fittingByCumulativeCases=False,kappa=kappa,p = p,gammaA = gammaA, gammaS = gammaS, muH = muH,muU = muU,xi = xi,omegaU = omega_U,omegaH=omega_H ,bound= bound)"
   ]
  },
  {
   "cell_type": "code",
   "execution_count": 7,
   "metadata": {},
   "outputs": [],
   "source": [
    "model.save(\"../results/model1.dat\")\n",
    "model.predict(200)\n",
    "model.save(\"../results/model2.dat\")"
   ]
  },
  {
   "cell_type": "code",
   "execution_count": null,
   "metadata": {},
   "outputs": [
    {
     "name": "stdout",
     "output_type": "stream",
     "text": [
      "\n",
      "0\n",
      "\n"
     ]
    },
    {
     "name": "stderr",
     "output_type": "stream",
     "text": [
      "pyswarms.single.global_best:  57%|█████▊    |575/1000, best_cost=1.26e+3"
     ]
    }
   ],
   "source": [
    "model = SEIRHUD.load(\"../results/model2.dat\")\n",
    "model.computeCI(times=500, level=0.95)"
   ]
  },
  {
   "cell_type": "code",
   "execution_count": null,
   "metadata": {},
   "outputs": [],
   "source": [
    "model.save(\"../results/model3.dat\")"
   ]
  },
  {
   "cell_type": "code",
   "execution_count": null,
   "metadata": {},
   "outputs": [],
   "source": [
    "#Exprort parametes\n",
    "parameters = pd.DataFrame.from_dict({\"beta1\": model.lBeta[0],\n",
    "                                     \"beta2\": model.lBeta[1],\n",
    "                                     \"gammaH\": model.lGammaH,\n",
    "                                     \"gammaU\": model.lGammaU,\n",
    "                                     \"delta\": model.LDelta,\n",
    "                                     \"ia0\":model.lIa0,\n",
    "                                     \"e0\": model.lE0,\n",
    "                                     \"t1\": model.lDayBetaChange[0],\n",
    "                                     \"is0\":model.lIs0})\n",
    "parameters.to_csv(\"../results/Parameters.csv\", index = False)"
   ]
  },
  {
   "cell_type": "code",
   "execution_count": null,
   "metadata": {},
   "outputs": [],
   "source": []
  },
  {
   "cell_type": "code",
   "execution_count": null,
   "metadata": {},
   "outputs": [],
   "source": []
  }
 ],
 "metadata": {
  "kernelspec": {
   "display_name": "Python 3",
   "language": "python",
   "name": "python3"
  },
  "language_info": {
   "codemirror_mode": {
    "name": "ipython",
    "version": 3
   },
   "file_extension": ".py",
   "mimetype": "text/x-python",
   "name": "python",
   "nbconvert_exporter": "python",
   "pygments_lexer": "ipython3",
   "version": "3.7.3"
  }
 },
 "nbformat": 4,
 "nbformat_minor": 4
}
