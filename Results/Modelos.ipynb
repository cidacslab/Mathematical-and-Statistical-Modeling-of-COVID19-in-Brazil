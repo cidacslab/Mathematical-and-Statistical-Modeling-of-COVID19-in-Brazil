{
 "cells": [
  {
   "cell_type": "code",
   "execution_count": 1,
   "metadata": {},
   "outputs": [],
   "source": [
    "import modelos as md\n",
    "import datetime as dt\n",
    "import pandas as pd\n",
    "import numpy as np\n",
    "import matplotlib.pyplot as plt\n",
    "import sys"
   ]
  },
  {
   "cell_type": "code",
   "execution_count": 2,
   "metadata": {},
   "outputs": [
    {
     "name": "stdout",
     "output_type": "stream",
     "text": [
      "Beginning file download with urllib2...\n"
     ]
    },
    {
     "data": {
      "text/plain": [
       "('/Users/aurelianosancho/Sua equipe Dropbox/Aureliano Sancho/COVID-19/Modelos/estados_bruto.csv',\n",
       " <http.client.HTTPMessage at 0x1521da1790>)"
      ]
     },
     "execution_count": 2,
     "metadata": {},
     "output_type": "execute_result"
    }
   ],
   "source": [
    "import urllib.request\n",
    "\n",
    "print('Beginning file download with urllib2...')\n",
    "\n",
    "url = 'https://raw.githubusercontent.com/wcota/covid19br/master/cases-brazil-states.csv'\n",
    "urllib.request.urlretrieve(url, '/Users/aurelianosancho/Sua equipe Dropbox/Aureliano Sancho/COVID-19/Modelos/estados_bruto.csv')"
   ]
  },
  {
   "cell_type": "code",
   "execution_count": 3,
   "metadata": {},
   "outputs": [],
   "source": [
    "data = [[11, 'Rondônia', 'RO'], [12, 'Acre', 'AC'], [13, 'Amazonas', 'AM'], [14 , 'Roraima', 'RO'], \n",
    "        [15 , 'Pará', 'PA'], [16 , 'Amapá', 'AP'], [17 , 'Tocantins', 'TO'], \n",
    "        [21 , 'Maranhão', 'MA'], [22, 'Piauí', 'PI'], [23 , 'Ceará', 'CE'], [24 , 'Rio Grande do Norte', 'RN'], \n",
    "        [25 , 'Paraíba', 'PB'], [26 , 'Pernambuco', 'PE'], [27 , 'Alagoas', 'AL'], [28 , 'Sergipe', 'SE'], \n",
    "        [29 , 'Bahia', 'BA'], \n",
    "        [31 , 'Minas Gerais', 'MG'], [32 , 'Espírito Santo', 'ES'], [33 , 'Rio de Janeiro', 'RJ'], \n",
    "        [34 , 'São Paulo', 'SP'],\n",
    "        [41, 'Paraná', 'PR'], [42, 'Santa Catarina', 'SC'], [43, 'Rio Grande do Sul', 'RS'], \n",
    "        [50, 'Mato Grosso do Sul', 'MS'], [51, 'Mato Grosso', 'MT'], [52, 'Goiás', 'GO'],\n",
    "        [53, 'Distrito Federal', 'DF']] \n",
    "  \n",
    "# Create the pandas DataFrame \n",
    "df0 = pd.DataFrame(data, columns = ['UF', 'Nomes', 'sigla']) \n",
    "#df0 = df0.drop(['state'], axis=1)\n",
    "\n",
    "df1 = pd.read_csv('estados_bruto.csv')\n",
    "df1 = df1.drop(['country', 'city'], axis=1)\n",
    "\n",
    "df3 = df1.merge(df0, left_on='state', right_on='sigla', suffixes=(False, False))\n",
    "df3 = df3.drop(['sigla','state'], axis=1)\n",
    "df3.columns = ['date', 'deaths', 'newcases', 'totalcases', 'UF', 'state']\n",
    "df3.to_csv('estadosnet.csv', encoding='utf-8', index=False)"
   ]
  },
  {
   "cell_type": "markdown",
   "metadata": {},
   "source": [
    "##########################"
   ]
  },
  {
   "cell_type": "code",
   "execution_count": 5,
   "metadata": {
    "scrolled": false
   },
   "outputs": [
    {
     "name": "stderr",
     "output_type": "stream",
     "text": [
      "/Users/aurelianosancho/Sua equipe Dropbox/Aureliano Sancho/COVID-19/Modelos/modelos.py:30: SettingWithCopyWarning: \n",
      "A value is trying to be set on a copy of a slice from a DataFrame\n",
      "\n",
      "See the caveats in the documentation: https://pandas.pydata.org/pandas-docs/stable/user_guide/indexing.html#returning-a-view-versus-a-copy\n",
      "  banco.date[i] = dt.datetime.strptime(banco.date[i], '%Y-%m-%d').date()\n",
      "2020-03-28 21:22:53,135 - numexpr.utils - INFO - NumExpr defaulting to 4 threads.\n",
      "2020-03-28 21:22:53,145 - Platypus - INFO - NSGAII starting\n"
     ]
    },
    {
     "name": "stdout",
     "output_type": "stream",
     "text": [
      "\n",
      "\n",
      "Brasil\n",
      "\n"
     ]
    },
    {
     "name": "stderr",
     "output_type": "stream",
     "text": [
      "2020-03-28 21:22:55,146 - Platypus - INFO - NSGAII finished; Total NFE: 1048, Elapsed Time: 0:00:02.001314\n",
      "2020-03-28 21:22:55,193 - Platypus - INFO - NSGAII starting\n"
     ]
    },
    {
     "name": "stdout",
     "output_type": "stream",
     "text": [
      "\n",
      "\n",
      "São Paulo\n",
      "\n"
     ]
    },
    {
     "name": "stderr",
     "output_type": "stream",
     "text": [
      "2020-03-28 21:22:57,023 - Platypus - INFO - NSGAII finished; Total NFE: 1044, Elapsed Time: 0:00:01.829783\n",
      "2020-03-28 21:22:57,124 - Platypus - INFO - NSGAII starting\n"
     ]
    },
    {
     "name": "stdout",
     "output_type": "stream",
     "text": [
      "\n",
      "\n",
      "Rio de Janeiro\n",
      "\n"
     ]
    },
    {
     "name": "stderr",
     "output_type": "stream",
     "text": [
      "2020-03-28 21:23:01,392 - Platypus - INFO - NSGAII finished; Total NFE: 1036, Elapsed Time: 0:00:04.267993\n",
      "2020-03-28 21:23:01,551 - Platypus - INFO - NSGAII starting\n"
     ]
    },
    {
     "name": "stdout",
     "output_type": "stream",
     "text": [
      "\n",
      "\n",
      "Espírito Santo\n",
      "\n"
     ]
    },
    {
     "name": "stderr",
     "output_type": "stream",
     "text": [
      "2020-03-28 21:23:04,171 - Platypus - INFO - NSGAII finished; Total NFE: 1033, Elapsed Time: 0:00:02.620488\n",
      "2020-03-28 21:23:04,226 - Platypus - INFO - NSGAII starting\n"
     ]
    },
    {
     "name": "stdout",
     "output_type": "stream",
     "text": [
      "\n",
      "\n",
      "Bahia\n",
      "\n"
     ]
    },
    {
     "name": "stderr",
     "output_type": "stream",
     "text": [
      "2020-03-28 21:23:05,552 - Platypus - INFO - NSGAII finished; Total NFE: 1036, Elapsed Time: 0:00:01.325551\n",
      "2020-03-28 21:23:05,603 - Platypus - INFO - NSGAII starting\n"
     ]
    },
    {
     "name": "stdout",
     "output_type": "stream",
     "text": [
      "\n",
      "\n",
      "Distrito Federal\n",
      "\n"
     ]
    },
    {
     "name": "stderr",
     "output_type": "stream",
     "text": [
      "2020-03-28 21:23:06,953 - Platypus - INFO - NSGAII finished; Total NFE: 1028, Elapsed Time: 0:00:01.349858\n",
      "2020-03-28 21:23:06,995 - Platypus - INFO - NSGAII starting\n"
     ]
    },
    {
     "name": "stdout",
     "output_type": "stream",
     "text": [
      "\n",
      "\n",
      "Alagoas\n",
      "\n"
     ]
    },
    {
     "name": "stderr",
     "output_type": "stream",
     "text": [
      "2020-03-28 21:23:08,818 - Platypus - INFO - NSGAII finished; Total NFE: 1048, Elapsed Time: 0:00:01.823529\n",
      "2020-03-28 21:23:08,931 - Platypus - INFO - NSGAII starting\n"
     ]
    },
    {
     "name": "stdout",
     "output_type": "stream",
     "text": [
      "\n",
      "\n",
      "Minas Gerais\n",
      "\n"
     ]
    },
    {
     "name": "stderr",
     "output_type": "stream",
     "text": [
      "2020-03-28 21:23:12,680 - Platypus - INFO - NSGAII finished; Total NFE: 1046, Elapsed Time: 0:00:03.749229\n",
      "2020-03-28 21:23:12,788 - Platypus - INFO - NSGAII starting\n"
     ]
    },
    {
     "name": "stdout",
     "output_type": "stream",
     "text": [
      "\n",
      "\n",
      "Rio Grande do Sul\n",
      "\n"
     ]
    },
    {
     "name": "stderr",
     "output_type": "stream",
     "text": [
      "2020-03-28 21:23:14,426 - Platypus - INFO - NSGAII finished; Total NFE: 1023, Elapsed Time: 0:00:01.638336\n",
      "2020-03-28 21:23:14,469 - Platypus - INFO - NSGAII starting\n"
     ]
    },
    {
     "name": "stdout",
     "output_type": "stream",
     "text": [
      "\n",
      "\n",
      "Pernambuco\n",
      "\n"
     ]
    },
    {
     "name": "stderr",
     "output_type": "stream",
     "text": [
      "2020-03-28 21:23:15,632 - Platypus - INFO - NSGAII finished; Total NFE: 1049, Elapsed Time: 0:00:01.162791\n",
      "2020-03-28 21:23:15,685 - Platypus - INFO - NSGAII starting\n"
     ]
    },
    {
     "name": "stdout",
     "output_type": "stream",
     "text": [
      "\n",
      "\n",
      "Paraná\n",
      "\n"
     ]
    },
    {
     "name": "stderr",
     "output_type": "stream",
     "text": [
      "2020-03-28 21:23:17,324 - Platypus - INFO - NSGAII finished; Total NFE: 1023, Elapsed Time: 0:00:01.639365\n",
      "2020-03-28 21:23:17,382 - Platypus - INFO - NSGAII starting\n"
     ]
    },
    {
     "name": "stdout",
     "output_type": "stream",
     "text": [
      "\n",
      "\n",
      "Santa Catarina\n",
      "\n"
     ]
    },
    {
     "name": "stderr",
     "output_type": "stream",
     "text": [
      "2020-03-28 21:23:19,799 - Platypus - INFO - NSGAII finished; Total NFE: 1028, Elapsed Time: 0:00:02.417219\n",
      "2020-03-28 21:23:19,960 - Platypus - INFO - NSGAII starting\n"
     ]
    },
    {
     "name": "stdout",
     "output_type": "stream",
     "text": [
      "\n",
      "\n",
      "Goiás\n",
      "\n"
     ]
    },
    {
     "name": "stderr",
     "output_type": "stream",
     "text": [
      "2020-03-28 21:23:22,896 - Platypus - INFO - NSGAII finished; Total NFE: 1035, Elapsed Time: 0:00:02.935365\n",
      "2020-03-28 21:23:22,980 - Platypus - INFO - NSGAII starting\n"
     ]
    },
    {
     "name": "stdout",
     "output_type": "stream",
     "text": [
      "\n",
      "\n",
      "Rio Grande do Norte\n",
      "\n"
     ]
    },
    {
     "name": "stderr",
     "output_type": "stream",
     "text": [
      "2020-03-28 21:23:24,475 - Platypus - INFO - NSGAII finished; Total NFE: 1033, Elapsed Time: 0:00:01.495258\n",
      "2020-03-28 21:23:24,564 - Platypus - INFO - NSGAII starting\n"
     ]
    },
    {
     "name": "stdout",
     "output_type": "stream",
     "text": [
      "\n",
      "\n",
      "Amazonas\n",
      "\n"
     ]
    },
    {
     "name": "stderr",
     "output_type": "stream",
     "text": [
      "2020-03-28 21:23:26,038 - Platypus - INFO - NSGAII finished; Total NFE: 1031, Elapsed Time: 0:00:01.473921\n",
      "2020-03-28 21:23:26,096 - Platypus - INFO - NSGAII starting\n"
     ]
    },
    {
     "name": "stdout",
     "output_type": "stream",
     "text": [
      "\n",
      "\n",
      "Mato Grosso do Sul\n",
      "\n"
     ]
    },
    {
     "name": "stderr",
     "output_type": "stream",
     "text": [
      "2020-03-28 21:23:27,339 - Platypus - INFO - NSGAII finished; Total NFE: 1030, Elapsed Time: 0:00:01.243122\n",
      "2020-03-28 21:23:27,423 - Platypus - INFO - NSGAII starting\n"
     ]
    },
    {
     "name": "stdout",
     "output_type": "stream",
     "text": [
      "\n",
      "\n",
      "Sergipe\n",
      "\n"
     ]
    },
    {
     "name": "stderr",
     "output_type": "stream",
     "text": [
      "2020-03-28 21:23:28,721 - Platypus - INFO - NSGAII finished; Total NFE: 1039, Elapsed Time: 0:00:01.297633\n",
      "2020-03-28 21:23:28,794 - Platypus - INFO - NSGAII starting\n"
     ]
    },
    {
     "name": "stdout",
     "output_type": "stream",
     "text": [
      "\n",
      "\n",
      "Ceará\n",
      "\n"
     ]
    },
    {
     "name": "stderr",
     "output_type": "stream",
     "text": [
      "2020-03-28 21:23:31,998 - Platypus - INFO - NSGAII finished; Total NFE: 1046, Elapsed Time: 0:00:03.203409\n",
      "2020-03-28 21:23:32,093 - Platypus - INFO - NSGAII starting\n"
     ]
    },
    {
     "name": "stdout",
     "output_type": "stream",
     "text": [
      "\n",
      "\n",
      "Acre\n",
      "\n"
     ]
    },
    {
     "name": "stderr",
     "output_type": "stream",
     "text": [
      "2020-03-28 21:23:34,493 - Platypus - INFO - NSGAII finished; Total NFE: 1037, Elapsed Time: 0:00:02.399919\n",
      "2020-03-28 21:23:34,539 - Platypus - INFO - NSGAII starting\n"
     ]
    },
    {
     "name": "stdout",
     "output_type": "stream",
     "text": [
      "\n",
      "\n",
      "Tocantins\n",
      "\n"
     ]
    },
    {
     "name": "stderr",
     "output_type": "stream",
     "text": [
      "2020-03-28 21:23:36,054 - Platypus - INFO - NSGAII finished; Total NFE: 1046, Elapsed Time: 0:00:01.514523\n",
      "2020-03-28 21:23:36,114 - Platypus - INFO - NSGAII starting\n"
     ]
    },
    {
     "name": "stdout",
     "output_type": "stream",
     "text": [
      "\n",
      "\n",
      "Pará\n",
      "\n"
     ]
    },
    {
     "name": "stderr",
     "output_type": "stream",
     "text": [
      "2020-03-28 21:23:37,313 - Platypus - INFO - NSGAII finished; Total NFE: 1043, Elapsed Time: 0:00:01.198742\n",
      "2020-03-28 21:23:37,366 - Platypus - INFO - NSGAII starting\n"
     ]
    },
    {
     "name": "stdout",
     "output_type": "stream",
     "text": [
      "\n",
      "\n",
      "Paraíba\n",
      "\n"
     ]
    },
    {
     "name": "stderr",
     "output_type": "stream",
     "text": [
      "2020-03-28 21:23:38,658 - Platypus - INFO - NSGAII finished; Total NFE: 1038, Elapsed Time: 0:00:01.292097\n"
     ]
    }
   ],
   "source": [
    "# -*- coding: utf-8 -*-\n",
    "\"\"\"\n",
    "Created on Sat Mar 21 13:22:11 2020\n",
    "\n",
    "@author: Rafael Veiga\n",
    "\"\"\"\n",
    "\n",
    "# parametros\n",
    "modelo_usado = 'SIR_EDO' # SIR, SIR_EDO , SEIR_EDO ou SEQIJR_EDO\n",
    "N_inicial = 1000\n",
    "min_cases = 10\n",
    "min_dias = 10\n",
    "\n",
    "arq_saida = '/Users/aurelianosancho/Sua equipe Dropbox/Aureliano Sancho/COVID-19/Modelos/estados.csv'\n",
    "arq_sumario = '/Users/aurelianosancho/Sua equipe Dropbox/Aureliano Sancho/COVID-19/Modelos/estado_sumario.csv'\n",
    "arq_brasil_saida = '/Users/aurelianosancho/Sua equipe Dropbox/Aureliano Sancho/COVID-19/Modelos/brasil.csv'\n",
    "previsao_ate = dt.date(2020,4,5)\n",
    "\n",
    "#carregar dados\n",
    "nome, local = md.ler_banco('/Users/aurelianosancho/Sua equipe Dropbox/Aureliano Sancho/COVID-19/Modelos/estadosnet.csv','state')\n",
    "\n",
    "novo_nome = []\n",
    "nome.insert(0,'Brasil')\n",
    "novo_local = []\n",
    "#brasil\n",
    "br = local[0]\n",
    "for i in range(1,len(local)):\n",
    "    br = br.append(local[i],ignore_index=True)\n",
    "x = list(br.date.unique())\n",
    "x = sorted(x)\n",
    "y = []\n",
    "for d in x:\n",
    "    y.append(sum(br[br.date==d].totalcasos))\n",
    "\n",
    "newy = [y[0]]\n",
    "for i in range(1,len(y)):\n",
    "    newy.append(y[i]-y[i-1])\n",
    "state = ['Brasil' for i in y]\n",
    "UF = [np.nan for i in y]\n",
    "brasil = pd.DataFrame({'date':x,'state':state,'UF':UF,'novosCasos':newy,'totalcasos':y})\n",
    "local.insert(0,brasil)\n",
    "for i in range(len(nome)):\n",
    "    if (local[i].totalcasos.iloc[-1]>=min_cases) & (len(local[i])>=10):\n",
    "        novo_local.append(local[i])\n",
    "        novo_nome.append(nome[i])\n",
    "previsao_ate = previsao_ate + dt.timedelta(1)\n",
    "modelos = []\n",
    "for i in range(len(novo_nome)):\n",
    "    print(\"\\n\\n\"+str(nome[i])+'\\n')\n",
    "    modelo = None\n",
    "    if modelo_usado =='SIR':\n",
    "        modelo = md.SIR(N_inicial)\n",
    "    elif modelo_usado =='SIR_EDO':\n",
    "        modelo = md.SIR_EDO(N_inicial)\n",
    "    elif modelo_usado =='SEIR_EDO':\n",
    "        modelo = md.SEIR_EDO(N_inicial)\n",
    "    elif modelo_usado=='SEQIJR_EDO':\n",
    "        modelo = md.SEQIJR_EDO(N_inicial)\n",
    "    else:\n",
    "        print('Modelo desconhecido '+modelo_usado)\n",
    "        sys.exit(1)\n",
    "    \n",
    "    y = novo_local[i].totalcasos\n",
    "    x = range(1,len(y)+1)\n",
    "    modelo.fit(x,y,name=novo_nome[i])\n",
    "    modelos.append(modelo)\n",
    "    dias = (previsao_ate-novo_local[i].date.iloc[0]).days\n",
    "    x_pred = range(1,dias+1)\n",
    "    y_pred =modelo.predict(x_pred)\n",
    "#    plt.plot(y_pred,c='r',label='Predição Infectados')\n",
    "#    plt.plot(y,c='b',label='Infectados')\n",
    "#    plt.legend(fontsize=15)\n",
    "#    plt.title('Dinâmica do CoviD19 - {}'.format(nome[i]),fontsize=20)\n",
    "#    plt.ylabel('Casos COnfirmados',fontsize=15)\n",
    "#    plt.xlabel('Dias',fontsize=15)\n",
    "#    plt.show()    \n",
    "    novo_local[i]['casos_preditos'] = y_pred[0:len(novo_local[i])]\n",
    "    ultimo_dia = novo_local[i].date.iloc[-1]\n",
    "    dias = (previsao_ate-novo_local[i].date.iloc[-1]).days\n",
    "    for d in range(1,dias):\n",
    "        di = d+len(x)-1\n",
    "        novo_local[i]=novo_local[i].append({'casos_preditos':y_pred[di],'date':ultimo_dia+dt.timedelta(d),'state':novo_local[i].state.iloc[0]}, ignore_index=True)\n",
    "    \n",
    "brasil =   novo_local[0]\n",
    "del brasil['UF']  \n",
    "brasil.to_csv(arq_brasil_saida,index=False)    \n",
    "df = novo_local[1]\n",
    "for i in range(2,len(novo_local)):\n",
    "    df = df.append(novo_local[i],ignore_index=True)\n",
    "df.to_csv(arq_saida,index=False)\n",
    "\n",
    "su = pd.DataFrame()\n",
    "su['state'] = novo_nome\n",
    "\n",
    "coef_list = []\n",
    "y = []\n",
    "coef_name = None\n",
    "for i in range(len(novo_nome)):\n",
    "    y.append(';'.join(map(str, modelos[i].y)))\n",
    "    coef_name, coef  = modelos[i].getCoef()\n",
    "    coef_list.append(coef)\n",
    "\n",
    "for c in range(len(coef_name)-1):\n",
    "    l = []\n",
    "    for i in range(len(coef_list)):\n",
    "        l.append(coef_list[i][c])\n",
    "    su[coef_name[c]]=l\n",
    "coef_name = coef_name[-1]\n",
    "for c in range(len(coef_name)):\n",
    "    l=[]\n",
    "    for i in range(len(coef_list)):\n",
    "       l.append(coef_list[i][-1][c]) \n",
    "    su[coef_name[c]] = l\n",
    "\n",
    "su['y'] = y\n",
    "su.to_csv(arq_sumario,index=False)\n",
    "\n",
    "#%matplotlib qt\n",
    "#for i in range(len(local[i])):\n",
    "#    modelos[i].plot(nome[i])"
   ]
  },
  {
   "cell_type": "code",
   "execution_count": 6,
   "metadata": {},
   "outputs": [
    {
     "data": {
      "text/html": [
       "<div>\n",
       "<style scoped>\n",
       "    .dataframe tbody tr th:only-of-type {\n",
       "        vertical-align: middle;\n",
       "    }\n",
       "\n",
       "    .dataframe tbody tr th {\n",
       "        vertical-align: top;\n",
       "    }\n",
       "\n",
       "    .dataframe thead th {\n",
       "        text-align: right;\n",
       "    }\n",
       "</style>\n",
       "<table border=\"1\" class=\"dataframe\">\n",
       "  <thead>\n",
       "    <tr style=\"text-align: right;\">\n",
       "      <th></th>\n",
       "      <th>state</th>\n",
       "      <th>beta</th>\n",
       "      <th>gamma</th>\n",
       "      <th>R0</th>\n",
       "      <th>S</th>\n",
       "      <th>I</th>\n",
       "      <th>R</th>\n",
       "      <th>y</th>\n",
       "    </tr>\n",
       "  </thead>\n",
       "  <tbody>\n",
       "    <tr>\n",
       "      <th>0</th>\n",
       "      <td>Brasil</td>\n",
       "      <td>0.392798</td>\n",
       "      <td>0.073684</td>\n",
       "      <td>0.187587</td>\n",
       "      <td>-0.001553</td>\n",
       "      <td>-0.015006</td>\n",
       "      <td>0.016559</td>\n",
       "      <td>1;1;1;1;2;2;2;2;3;8;13;19;25;30;35;69;109;120;...</td>\n",
       "    </tr>\n",
       "    <tr>\n",
       "      <th>1</th>\n",
       "      <td>São Paulo</td>\n",
       "      <td>0.368825</td>\n",
       "      <td>0.072215</td>\n",
       "      <td>0.195798</td>\n",
       "      <td>-0.002626</td>\n",
       "      <td>-0.016517</td>\n",
       "      <td>0.019143</td>\n",
       "      <td>1;1;1;1;2;2;2;2;3;6;10;13;16;16;19;45;64;64;65...</td>\n",
       "    </tr>\n",
       "    <tr>\n",
       "      <th>2</th>\n",
       "      <td>Rio de Janeiro</td>\n",
       "      <td>0.416375</td>\n",
       "      <td>0.082054</td>\n",
       "      <td>0.197068</td>\n",
       "      <td>-0.006803</td>\n",
       "      <td>-0.021894</td>\n",
       "      <td>0.028698</td>\n",
       "      <td>1;1;2;3;8;8;14;16;19;24;24;31;39;63;66;109;119...</td>\n",
       "    </tr>\n",
       "    <tr>\n",
       "      <th>3</th>\n",
       "      <td>Espírito Santo</td>\n",
       "      <td>0.394280</td>\n",
       "      <td>0.200000</td>\n",
       "      <td>0.507254</td>\n",
       "      <td>-0.031851</td>\n",
       "      <td>0.002370</td>\n",
       "      <td>0.029480</td>\n",
       "      <td>1;1;1;1;1;1;1;2;2;4;4;8;8;11;13;16;26;26;33;40...</td>\n",
       "    </tr>\n",
       "    <tr>\n",
       "      <th>4</th>\n",
       "      <td>Bahia</td>\n",
       "      <td>0.454365</td>\n",
       "      <td>0.200000</td>\n",
       "      <td>0.440175</td>\n",
       "      <td>-0.023202</td>\n",
       "      <td>-0.010870</td>\n",
       "      <td>0.034072</td>\n",
       "      <td>1;2;2;2;2;3;3;7;7;9;10;16;27;31;34;41;55;63;79...</td>\n",
       "    </tr>\n",
       "  </tbody>\n",
       "</table>\n",
       "</div>"
      ],
      "text/plain": [
       "            state      beta     gamma        R0         S         I         R  \\\n",
       "0          Brasil  0.392798  0.073684  0.187587 -0.001553 -0.015006  0.016559   \n",
       "1       São Paulo  0.368825  0.072215  0.195798 -0.002626 -0.016517  0.019143   \n",
       "2  Rio de Janeiro  0.416375  0.082054  0.197068 -0.006803 -0.021894  0.028698   \n",
       "3  Espírito Santo  0.394280  0.200000  0.507254 -0.031851  0.002370  0.029480   \n",
       "4           Bahia  0.454365  0.200000  0.440175 -0.023202 -0.010870  0.034072   \n",
       "\n",
       "                                                   y  \n",
       "0  1;1;1;1;2;2;2;2;3;8;13;19;25;30;35;69;109;120;...  \n",
       "1  1;1;1;1;2;2;2;2;3;6;10;13;16;16;19;45;64;64;65...  \n",
       "2  1;1;2;3;8;8;14;16;19;24;24;31;39;63;66;109;119...  \n",
       "3  1;1;1;1;1;1;1;2;2;4;4;8;8;11;13;16;26;26;33;40...  \n",
       "4  1;2;2;2;2;3;3;7;7;9;10;16;27;31;34;41;55;63;79...  "
      ]
     },
     "execution_count": 6,
     "metadata": {},
     "output_type": "execute_result"
    }
   ],
   "source": [
    "pd.set_option('display.max_rows', None)\n",
    "df = pd.read_csv('estado_sumario.csv')\n",
    "df.head()"
   ]
  },
  {
   "cell_type": "code",
   "execution_count": 7,
   "metadata": {},
   "outputs": [
    {
     "data": {
      "text/plain": [
       "22"
      ]
     },
     "execution_count": 7,
     "metadata": {},
     "output_type": "execute_result"
    }
   ],
   "source": [
    "ll = len(df)"
   ]
  },
  {
   "cell_type": "code",
   "execution_count": 8,
   "metadata": {},
   "outputs": [],
   "source": [
    "%matplotlib qt\n",
    "for i in range(ll):\n",
    "    if (len(local[i]) > 14):\n",
    "        plt.figure(i)\n",
    "        modelos[i].plot(nome[i])\n",
    "        plt.show()"
   ]
  },
  {
   "cell_type": "code",
   "execution_count": 9,
   "metadata": {},
   "outputs": [],
   "source": [
    "#modelos[16].plot(nome[16])              ### \n",
    "#modelos[2].plot(nome[2])\n",
    "#modelos[4].plot(nome[4])"
   ]
  },
  {
   "cell_type": "code",
   "execution_count": null,
   "metadata": {},
   "outputs": [],
   "source": []
  },
  {
   "cell_type": "code",
   "execution_count": null,
   "metadata": {},
   "outputs": [],
   "source": []
  }
 ],
 "metadata": {
  "kernelspec": {
   "display_name": "Python 3",
   "language": "python",
   "name": "python3"
  },
  "language_info": {
   "codemirror_mode": {
    "name": "ipython",
    "version": 3
   },
   "file_extension": ".py",
   "mimetype": "text/x-python",
   "name": "python",
   "nbconvert_exporter": "python",
   "pygments_lexer": "ipython3",
   "version": "3.7.6"
  }
 },
 "nbformat": 4,
 "nbformat_minor": 4
}
