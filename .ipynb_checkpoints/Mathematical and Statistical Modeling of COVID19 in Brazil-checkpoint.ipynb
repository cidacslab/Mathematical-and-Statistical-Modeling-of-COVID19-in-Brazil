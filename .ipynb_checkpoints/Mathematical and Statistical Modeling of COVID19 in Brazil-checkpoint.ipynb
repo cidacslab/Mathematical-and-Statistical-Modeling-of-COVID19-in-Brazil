{
 "cells": [
  {
   "cell_type": "markdown",
   "metadata": {},
   "source": [
    "# Mathematical and Statistical Modeling of COVID19 in Brazil                               "
   ]
  },
  {
   "cell_type": "markdown",
   "metadata": {},
   "source": [
    "## Table of contents\n",
    "* [Objective](#Objective)\n",
    "* [Overview](#Overview)\n",
    "* [Mathematical modeling: compartimental models](#Mathematical)\n",
    "  * [The Susceptible-Infected-Recovered model](#SIR)\n",
    "* [References](#references)"
   ]
  },
  {
   "cell_type": "markdown",
   "metadata": {},
   "source": [
    "## Objective\n",
    "\n",
    "To make a library of models that aim to understand the spread of COVID19 in adequate scenarios of the Brazilian population, and also to compare our results in the literature for possible validations in real time."
   ]
  },
  {
   "cell_type": "markdown",
   "metadata": {},
   "source": [
    "## Overview\n",
    "\n",
    "  The propagation of an infectious disease in a population depends on many factors. These factors range from the conditions the pathogen behaves in  the individual to levels of the dissemination in mass that may depend on demographic-social-economic factors. There are many approaches to understand how the disease spread among the individuals and how  to control it. Here we want to present models that are used in the literature to try to contribute to the understanding of the spread of COVID19. In particular, we want to present a comparison of a variety of results that our team is producing with those found on the literature. "
   ]
  },
  {
   "cell_type": "markdown",
   "metadata": {},
   "source": [
    "## Mathematical modeling: compartimental models\n",
    "\n",
    "  In this section, we gradatively show the application of compartimental models for disease transmission. We start illustrating the use of the so well known Susceptible, infected and Recovered model, increasing to more complex systems involving other divisions of the population as quarantined individuals, Isolated individuals, and so on. We apply all our analysis to data of coronavirus in Brazil and its subregions.  "
   ]
  },
  {
   "cell_type": "markdown",
   "metadata": {},
   "source": [
    "### The Susceptible-Infected-Recovered model\n",
    "\n",
    "#### Conceptual model\n",
    "\n",
    "Depending on the disease and the research scope, after the contact of the susceptible population with infected individuals, the most basic model of disease transmission assumes that the population can be divided into three compartments: \n",
    "\n",
    "  * the susceptible, S, individuals who can catch the disease;\n",
    "  * the infectives, I, who have the disease and can transmit it; \n",
    "  * and the removed, R, which comprises the ones that no longer is infectious due to isolation or immunity.\n",
    "\n",
    "The amount of new individuals that get infected in time varies at a rate $\\beta  S  I$. Analogously, the number of individuals that get recovered, changes in time with a recovery rate $\\gamma$ (implying that the mean infectious period is $1/\\gamma$ days). Therefore, an infected individual is expected to infect $R_{0} = \\beta /  \\gamma$ individuals in the period of $1 / \\gamma$ days.\n",
    "\n",
    "Summarising, we have two parameters in this simple SIR model: \n",
    "\n",
    "   * the transmission rate (per capita) $\\beta$;\n",
    "   * the recovery rate $\\gamma$. \n",
    "\n",
    "#### Mathematical model\n",
    "\n",
    "The system of equations for the SIR model is given by:\n",
    "\n",
    "\\begin{array}{lcl} \n",
    "\\frac{dS}{dt} & = & -\\beta SI  &  (1.1) \\\\ \n",
    "\\frac{dI}{dt} & = & \\beta SI -\\gamma I  &  (1.2) \\\\\n",
    "\\frac{dR}{dt} & = & \\gamma I  &  (1.3) \n",
    "\\end{array}\n",
    "\n",
    "The system cannot be solved in terms of known analitic functions. \n",
    "\n",
    "It is useful to estimate parameters of the model with simplified model. We assume inicially that the amount of infected people $I$ is much smaller than amount of susceptible $S$ people, i.e. the simplification is valid until $\\epsilon \\sim \\frac{I}{S} << 1$. Hence, we can approximate the system of equations (1.1)-(1.3) in the following way \n",
    "\n",
    "\\begin{array}{lcl} \n",
    "S(t) & =  & S_{0} + \\epsilon S_{1}(t) + \\mathcal{O}(\\epsilon^2) & (1.1.A), \\\\ \n",
    "I(t) & = & I_{0} -\\epsilon I_{1}(t) + \\mathcal{O}(\\epsilon^2)  &  (1.2.A), \\\\ \n",
    "\\end{array}\n",
    "where $\\epsilon$ is a small parameter, which represents that $\\frac{I}{S} << 1$, $S_0 \\approx 1$ and $I_0 \\approx 0$ for normalized model (we normalized $S$ for unity). Substituting (1.1.A) and (1.2.A) into (1.1) and (1.2) one can obtain the system\n",
    "\n",
    "\\begin{array}{lcl} \n",
    "\\frac{dS_1}{dt} & = & - \\beta I_{1} + \\mathcal{O}(\\epsilon) & (1.1.A), \\\\ \n",
    "\\frac{dI_1}{dt} & = & I_{1} \\left( \\beta - \\gamma \\right) + \\mathcal{O}(\\epsilon) &  (1.2.A), \\\\ \n",
    "\\end{array}\n",
    "which has analytic solution in the form \n",
    "\n",
    "\\begin{array}{lcl} \n",
    "S_1 & = & C_2 + C_1 \\frac{e^{(\\beta - \\gamma) t}}{a-b} &  (1.1.B) , \\\\ \n",
    "I_1 & = & C_1 e^{(\\beta - \\gamma) t} &  (1.2.B), \\\\ \n",
    "\\end{array}\n",
    "where $C_1$ and $C_2$ are constants of integration. Chosing $C_1$ and $C_2$ to satisfy initial conditions for $S_1(0)$ and $I_1(0)$ we obtain\n",
    "\n",
    "\\begin{array}{lcl} \n",
    "S_1 & = & - \\left( \\gamma S_1(0) + \\beta \\left( I_1(0) \\left( e^{(\\beta - \\alpha) t} - S_1(0) \\right) \\right) \\right)  / (\\beta-\\gamma) &  (1.1.C), \\\\ \n",
    "I_1 & = & I_1(0) e^{(\\beta - \\gamma) t} &  (1.2.C). \\\\ \n",
    "\\end{array}\n",
    "\n",
    "The equations (1.1.C)-(1.2.C) provide a simple connection with parameters $\\alpha$ and $\\beta$ for fitting the begining of outbreak. When the amount of infected people tends to amount of susceptible people, $I \\sim S$ the full model should be used for correct values of $\\beta$.\n",
    "\n",
    "In this directory we provide estimation of the parâmeters taking into consideration the whole system of differential equations. We provide the code in the folder \"Code for model estimations\", with the respective instruction on how to run the codes. \n",
    "\n",
    "\n",
    "##### Interpretation of the model in the context of COVID19\n",
    "\n",
    "The "
   ]
  },
  {
   "cell_type": "code",
   "execution_count": null,
   "metadata": {},
   "outputs": [],
   "source": []
  }
 ],
 "metadata": {
  "kernelspec": {
   "display_name": "Python 3",
   "language": "python",
   "name": "python3"
  },
  "language_info": {
   "codemirror_mode": {
    "name": "ipython",
    "version": 3
   },
   "file_extension": ".py",
   "mimetype": "text/x-python",
   "name": "python",
   "nbconvert_exporter": "python",
   "pygments_lexer": "ipython3",
   "version": "3.6.5"
  }
 },
 "nbformat": 4,
 "nbformat_minor": 2
}
